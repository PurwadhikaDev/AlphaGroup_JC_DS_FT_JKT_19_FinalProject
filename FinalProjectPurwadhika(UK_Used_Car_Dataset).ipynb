{
 "cells": [
  {
   "cell_type": "markdown",
   "id": "17165e55",
   "metadata": {
    "id": "17165e55"
   },
   "source": [
    "-- **ANALISIS & PREDIKSI HARGA MOBIL BEKAS DI INGGRIS** -- \n",
    "\n",
    "**Created by: Aditya Candra Yuki Bintoro & Ruben Pattiradjawane**\n",
    "\n",
    "***Contents***\n",
    "\n",
    "1. ***Business Problem Understanding***\n",
    "2. ***Data Understanding***\n",
    "3. ***Data Preprocessing***\n",
    "4. ***Modeling***\n",
    "5. ***Conclusion***\n",
    "6. ***Recommendation***\n"
   ]
  },
  {
   "cell_type": "markdown",
   "id": "af1f59f4",
   "metadata": {
    "id": "af1f59f4"
   },
   "source": [
    "# **Business Problem Understanding**\n",
    "\n",
    "\n",
    "## **Latar Belakang**\n",
    "\n",
    "Negara Inggris adalah salah satu pasar mobil terbesar di Eropa, sebagai salah satu pasar mobil terbesar di Eropa, diketahui juga bahwa masyarakat Inggris masih melirik pasar mobil bekas. Salah satu mengapa masyarakat Inggris menyukai mobil bekas adalah regulasi inspeksi kepemilikan mobil di Inggris yang ketat, sebagai hasilnya calon pembeli mendapatkan mobil bekas dengan kualitas yang baik dengan harga yang lebih terjangkau. \n",
    "\n",
    "Sebuah perusahaan *e-Commerce* bernama E-autoevolution (sebuah perusahaan fiktif) yang bergerak di bisnis jual-beli mobil bekas di Inggris, ingin menganalisa tren penjualan-pembelian mobil bekas dan membuat model prediksi *machine learning* harga secara akurat untuk meminimalisir risiko *overpricing* dan *underpricing* yang akan membuat user *e-commerce* percaya akan kredibilitas paltform perusahaan klien. \n",
    "\n",
    "\n",
    "\n",
    "## **Pernyataan Masalah**\n",
    "Salah satu tantangan bagi platform ini adalah menentukan harga yang akurat sehingga *user* calon pembeli maupun penjual dapat puas terhadap rekomendasi yang ditawarkan platform. Mekanisme penjualan adalah penjual mobil bekas akan menginput fitur-fitur yang akan mempengaruhi harga jual mobilnya. Hasil tersebut akan menjadi acuan terhadap penjual dalam menentukan harga jualnya nanti.   \n",
    "\n",
    "Untuk mendukung strategi marketing perusahaan, tantangan bagi platform ini ada analisis data terhadap fitur-fitur mobil bekas yang paling diminati oleh konsumen dan mengikuti tren yang sedang berkembang di pasar mobil bekas. Selain itu, platform dapat memberikan rekomendasi harga jual yang menarik berdasarkan fitur mobil bekas dan data penjualan di pasar saat ini. Sehingga platform dapat menarik lebih banyak konsumen untuk menggunakan layanan ini dan memberikan kepuasan bagi penjual dan pembeli mobil bekas.\n",
    "\n",
    "\n",
    "## ***Goals*** \n",
    "Berdasarkan permasalahan tersebut, kami akan menganalisis tren pembelian mobil bekas di Inggris Raya. Sehingga platform dapat melakukan strategi marketing yang tepat untuk menarik calon penjual dan calon pembeli.\n",
    "\n",
    "Selain itu, tujuan lainnya adalah membangun sebuah model *machine learning*  yang dapat memprediksi harga mobil bekas di Inggris secara akurat sebagai alat rekomendasi dan perbandingan harga.\n",
    "kami ingin memastikan bahwa:\n",
    "- Calon pembeli mendapatkan harga yang adil dan wajar\n",
    "- penjual ingin memaksimalkan keuntungan dengan menetapkan harga yang tepat\n",
    "\n",
    "## **Pendekatan Analitik**\n",
    "- Analisis Deskriptif: Informasi dasar tentang dataset seperti jumlah data, jumlah kolom, tipe data pada setiap kolom, nilai minimum dan maksimum pada setiap kolom, serta nilai rata-rata pada kolom numerik\n",
    "- Analisis Korelasi: Informasi mengenai hubungan antara variabel-variabel pada dataset.\n",
    "\n",
    "Maka, yang diperlukan untuk dapat menentukan harga jual mobil bekas yang tepat adalah melakukan analisa data untuk mengeksplorasi dan melihat pola pada data serta membangun model regresi sebagai suatu metode untuk menguji ada tidaknya pengaruh antara fitur dengan harga jual mobil bekas. Model-model regresi yang akan kami bandingkan melihat dari tingkat kekuratannya sehingga hasilnya akan menjadi acuan penjual mobil bekas dalam menjual mobilnya.\n",
    "\n",
    "<!-- **revisi di pendekatan analitik** bisa juga melalui modul 2 contohnya deskripi analitik -done- -->\n",
    "\n",
    "## **Evaluasi Metrik**\n",
    "Evaluasi Metrik dilakukan untuk mengukur kinerja model atau algoritma yang dibangun berdasarkan fitur-fitur tersebut.\n",
    "\n",
    "Evaluasi Metrik yang digunakan untuk model regresi adalah `RMSE`, `MAE`, dan `MAPE`. Selanjutnya `R2` dan `Adjusted R2`.\n",
    "\n",
    "\n",
    "- *Root Mean Square Error* (`RMSE`): Mengukur kesalahan rata-rata dalam prediksi harga mobil dengan mempertimbangkan variansi kesalahan. semakin rendah nilai RMSE, semakin baik performa model.\n",
    "- *Mean Absolute Error* (`MAE`): Mengukur kesalahan rata-rata dalam prediksi harga mobil. Semakin rendah nilai `MAE`, semakin baik performa model.\n",
    "- *Mean Absolute Percentage Error* (`MAPE`): Mengukur kesalahan rata-rata dalam prediksi harga mobil dengan hasil yang berbentuk presentase dari harga aktual. semakin renah nilai `MAPE`, semakin baik performa model.\n",
    "- *R-squared* (`R2`): mengukur seberapa baik model dapat menjelaskan variasi dalam data. Nilai R2 berkisar antara 0 hingga 1, dan semakin mendekati 1, semakin baik performa model."
   ]
  },
  {
   "cell_type": "markdown",
   "id": "a6d60b86",
   "metadata": {
    "id": "a6d60b86",
    "tags": []
   },
   "source": [
    "\n",
    "# **MEMAHAMI DATA**\n",
    "\n",
    "Data yang digunakan adalah dataset *`100,000 UK Used Car Data set`* yang diambil dari website kaggle https://www.kaggle.com/datasets/adityadesai13/used-car-dataset-ford-and-mercedes\n",
    "\n",
    "Dataset tersebut merupakan hasil korekan daftar mobil bekas yang terjual di Internet yang dipisahkan datanya ke beberapa merk.\n",
    "\n",
    "Format Data seluruhnya adalah *Comma Separated Values*.\n",
    "\n",
    "Data yang akan kami analisis adalah:\n",
    "\n",
    "1. audi.csv\n",
    "2. bmw.csv\n",
    "3. ford.csv\n",
    "4. hyundai.csv\n",
    "5. merc.csv\n",
    "6. skoda.csv\n",
    "7. toyota.csv\n",
    "8. vauxhall.csv\n",
    "9. vw.csv\n",
    "\n",
    "Data-data di atas merupakan data yang sudah dipisah berdasarkan merk-merk mobil bekas yang terjual.\n",
    "\n",
    "***Atribute Information***\n",
    "terdapat 9 kolom pada dataset masing-masing brand:\n",
    "\n",
    "\n",
    "| ***Attribute*** | **Tipe Data** | **Deskripsi** |\n",
    "|-----------------|---------------|---------------|\n",
    "| model           | object        | model mobil suatu merek              |\n",
    "| year            | integer       | tahun produksi              |\n",
    "| price           | integer       | Harga mobil bekas            |\n",
    "| transmission    | object        | tipe transmisi mobil              |\n",
    "| mileage         | integer       | jumlah mil yang telah ditempuh              |\n",
    "| fueltype        | object        | tipe bahan bakar               |\n",
    "| tax             | integer       | biaya pajak tahunan              |\n",
    "| mpg             | float         | konsumsi bahan bakar dalam mil per galon              |\n",
    "| engineSize      | float         | ukuran mesin mobil dalam liter              |\n",
    "\n",
    "Diantara data-data merk mobil tersebut kami juga mendapati data yang berisi model mobil dari salah satu merk.\n",
    "data tersebut adalah:\n",
    "\n",
    "- cclass.csv\n",
    "- focus.csv\n",
    "\n",
    "cclass merupakan model mobil dari merk Mercedes Benz sedangkan focus dari merk Ford.\n",
    "\n",
    "di dalam dataset tersebut hanya memiliki 7 kolom yang **menghilangkan kolom tax & mpg**\n"
   ]
  },
  {
   "cell_type": "markdown",
   "id": "6188338c",
   "metadata": {
    "id": "6188338c"
   },
   "source": [
    "Untuk step selanjutnya kami akan mengimport *library* python untuk kebutuhan *data understanding* sampai tahap pemmodelan *machine learning*"
   ]
  },
  {
   "cell_type": "code",
   "execution_count": 1,
   "id": "e7c109be",
   "metadata": {
    "ExecuteTime": {
     "end_time": "2023-04-06T07:03:21.210180Z",
     "start_time": "2023-04-06T07:03:21.200187Z"
    },
    "id": "e7c109be"
   },
   "outputs": [],
   "source": [
    "# Fundamental library\n",
    "import pandas as pd  \n",
    "import numpy as np\n",
    "import matplotlib.pyplot as plt\n",
    "import matplotlib.ticker as ticker\n",
    "import seaborn as sns \n",
    "\n",
    "# Statistik\n",
    "from scipy.stats import normaltest\n",
    "from scipy.stats import skew\n",
    "\n",
    "# Train Test Split\n",
    "from sklearn.model_selection import train_test_split, cross_val_score, GridSearchCV, KFold\n",
    "\n",
    "# Preprocessing\n",
    "import category_encoders as ce \n",
    "from sklearn.preprocessing import OneHotEncoder, LabelEncoder, OrdinalEncoder\n",
    "from sklearn.preprocessing import RobustScaler\n",
    "\n",
    "from sklearn.compose import ColumnTransformer\n",
    "from sklearn.pipeline import Pipeline\n",
    "\n",
    "\n",
    "\n",
    "import warnings\n",
    "warnings.filterwarnings('ignore')\n",
    "\n",
    "# Auto EDA\n",
    "import missingno as msno\n",
    "from pandas_profiling import ProfileReport"
   ]
  },
  {
   "cell_type": "markdown",
   "id": "6c2cd8d0",
   "metadata": {
    "id": "6c2cd8d0"
   },
   "source": [
    "## Membaca Data dan Melakukan Pembersihan \n",
    "Kami akan melakukan pembacaan dataset format csv menggunakan `pandas` `python`.\n",
    "Saat pembacaan data, pastinya kami akan menemukan anomali-anomali maupun kesalahan data pada dataset. Kami akan sekaligus melakukan pembetulan di bab ini.\n",
    "\n",
    "**Data Cleaning** merupakan proses penting dalam menyiapkan data untuk proses *Machine Learning*. Data Cleaning mencangkup :\n",
    "\n",
    "\n",
    "*   Membenarkan ejaan kata  \n",
    "*   Mengoreksi kesalahan, seperti data kosong.\n",
    "*   Mencari duplikat dan menghilangkannya."
   ]
  },
  {
   "cell_type": "markdown",
   "id": "4a93bc55",
   "metadata": {
    "id": "4a93bc55"
   },
   "source": [
    "Google colab"
   ]
  },
  {
   "cell_type": "code",
   "execution_count": 2,
   "id": "3cd49d9a",
   "metadata": {
    "id": "3cd49d9a"
   },
   "outputs": [],
   "source": [
    "# audi = pd.read_csv(\"/content/drive/MyDrive/Finpro/audi.csv\")\n",
    "# bmw = pd.read_csv('/content/drive/MyDrive/Finpro/bmw.csv')\n",
    "# ford = pd.read_csv('/content/drive/MyDrive/Finpro/ford.csv')\n",
    "# hyundai = pd.read_csv('/content/drive/MyDrive/Finpro/hyundi.csv')\n",
    "# merc = pd.read_csv('/content/drive/MyDrive/Finpro/merc.csv')\n",
    "# skoda = pd.read_csv('/content/drive/MyDrive/Finpro/skoda.csv')\n",
    "# toyota = pd.read_csv('/content/drive/MyDrive/Finpro/toyota.csv')\n",
    "# vauxhall = pd.read_csv('/content/drive/MyDrive/Finpro/vauxhall.csv')\n",
    "# vw = pd.read_csv('/content/drive/MyDrive/Finpro/vw.csv')\n",
    "\n",
    "# cclass = pd.read_csv('/content/drive/MyDrive/Finpro/cclass.csv')\n",
    "# focus = pd.read_csv('/content/drive/MyDrive/Finpro/focus.csv')"
   ]
  },
  {
   "cell_type": "code",
   "execution_count": 3,
   "id": "8548daa1",
   "metadata": {
    "ExecuteTime": {
     "end_time": "2023-04-06T07:03:26.835011Z",
     "start_time": "2023-04-06T07:03:26.593923Z"
    },
    "id": "8548daa1"
   },
   "outputs": [],
   "source": [
    "# Dataset per merk\n",
    "audi = pd.read_csv('audi.csv')\n",
    "bmw = pd.read_csv('bmw.csv')\n",
    "ford = pd.read_csv('ford.csv')\n",
    "hyundai = pd.read_csv('hyundi.csv')\n",
    "merc = pd.read_csv('merc.csv')\n",
    "skoda = pd.read_csv('skoda.csv')\n",
    "toyota = pd.read_csv('toyota.csv')\n",
    "vauxhall = pd.read_csv('vauxhall.csv')\n",
    "vw = pd.read_csv('vw.csv')\n",
    "\n",
    "# dataset yang sudah dipisahkan berdasarkan model mobilnya saja\n",
    "cclass = pd.read_csv('cclass.csv')\n",
    "focus = pd.read_csv('focus.csv')"
   ]
  },
  {
   "cell_type": "markdown",
   "id": "5a42902a",
   "metadata": {
    "id": "5a42902a"
   },
   "source": [
    "`pd.read_csv` ada fungsi yang akan membaca data berformat *Comma Seperated Values* menjadi dataframe pandas."
   ]
  },
  {
   "cell_type": "markdown",
   "id": "e1526aa3",
   "metadata": {
    "id": "e1526aa3"
   },
   "source": [
    "berikut adalah isi data pertama di semua dataset per merk"
   ]
  },
  {
   "cell_type": "code",
   "execution_count": 4,
   "id": "f9f74f25",
   "metadata": {
    "ExecuteTime": {
     "end_time": "2023-03-26T10:23:13.719905Z",
     "start_time": "2023-03-26T10:23:13.632955Z"
    },
    "colab": {
     "base_uri": "https://localhost:8080/",
     "height": 81
    },
    "executionInfo": {
     "elapsed": 5,
     "status": "ok",
     "timestamp": 1679889665919,
     "user": {
      "displayName": "Yuki",
      "userId": "17640100086142035958"
     },
     "user_tz": -420
    },
    "id": "f9f74f25",
    "outputId": "16b77ca7-41ff-4231-be19-3973458a60e0"
   },
   "outputs": [
    {
     "data": {
      "text/html": [
       "<div>\n",
       "<style scoped>\n",
       "    .dataframe tbody tr th:only-of-type {\n",
       "        vertical-align: middle;\n",
       "    }\n",
       "\n",
       "    .dataframe tbody tr th {\n",
       "        vertical-align: top;\n",
       "    }\n",
       "\n",
       "    .dataframe thead th {\n",
       "        text-align: right;\n",
       "    }\n",
       "</style>\n",
       "<table border=\"1\" class=\"dataframe\">\n",
       "  <thead>\n",
       "    <tr style=\"text-align: right;\">\n",
       "      <th></th>\n",
       "      <th>model</th>\n",
       "      <th>year</th>\n",
       "      <th>price</th>\n",
       "      <th>transmission</th>\n",
       "      <th>mileage</th>\n",
       "      <th>fuelType</th>\n",
       "      <th>tax</th>\n",
       "      <th>mpg</th>\n",
       "      <th>engineSize</th>\n",
       "    </tr>\n",
       "  </thead>\n",
       "  <tbody>\n",
       "    <tr>\n",
       "      <th>0</th>\n",
       "      <td>A1</td>\n",
       "      <td>2017</td>\n",
       "      <td>12500</td>\n",
       "      <td>Manual</td>\n",
       "      <td>15735</td>\n",
       "      <td>Petrol</td>\n",
       "      <td>150</td>\n",
       "      <td>55.4</td>\n",
       "      <td>1.4</td>\n",
       "    </tr>\n",
       "  </tbody>\n",
       "</table>\n",
       "</div>"
      ],
      "text/plain": [
       "  model  year  price transmission  mileage fuelType  tax   mpg  engineSize\n",
       "0    A1  2017  12500       Manual    15735   Petrol  150  55.4         1.4"
      ]
     },
     "execution_count": 4,
     "metadata": {},
     "output_type": "execute_result"
    }
   ],
   "source": [
    "# dataset audi\n",
    "audi.head(1)"
   ]
  },
  {
   "cell_type": "markdown",
   "id": "7379428b",
   "metadata": {
    "id": "7379428b"
   },
   "source": [
    "Fungsi `.head()` digunakan untuk menampilkan baris pertama dari dataframe. Secara default akan menampilkan 5 baris pertama. Namun, kami menampilkan hanya baris pertama saja dengan `.head(1)`"
   ]
  },
  {
   "cell_type": "code",
   "execution_count": 5,
   "id": "1fe3f993",
   "metadata": {
    "ExecuteTime": {
     "end_time": "2023-03-26T10:23:13.751886Z",
     "start_time": "2023-03-26T10:23:13.724902Z"
    },
    "colab": {
     "base_uri": "https://localhost:8080/",
     "height": 81
    },
    "executionInfo": {
     "elapsed": 357,
     "status": "ok",
     "timestamp": 1679889668147,
     "user": {
      "displayName": "Yuki",
      "userId": "17640100086142035958"
     },
     "user_tz": -420
    },
    "id": "1fe3f993",
    "outputId": "ea7f87fb-9f78-4314-fed8-68b5179b22da"
   },
   "outputs": [
    {
     "data": {
      "text/html": [
       "<div>\n",
       "<style scoped>\n",
       "    .dataframe tbody tr th:only-of-type {\n",
       "        vertical-align: middle;\n",
       "    }\n",
       "\n",
       "    .dataframe tbody tr th {\n",
       "        vertical-align: top;\n",
       "    }\n",
       "\n",
       "    .dataframe thead th {\n",
       "        text-align: right;\n",
       "    }\n",
       "</style>\n",
       "<table border=\"1\" class=\"dataframe\">\n",
       "  <thead>\n",
       "    <tr style=\"text-align: right;\">\n",
       "      <th></th>\n",
       "      <th>model</th>\n",
       "      <th>year</th>\n",
       "      <th>price</th>\n",
       "      <th>transmission</th>\n",
       "      <th>mileage</th>\n",
       "      <th>fuelType</th>\n",
       "      <th>tax</th>\n",
       "      <th>mpg</th>\n",
       "      <th>engineSize</th>\n",
       "    </tr>\n",
       "  </thead>\n",
       "  <tbody>\n",
       "    <tr>\n",
       "      <th>0</th>\n",
       "      <td>5 Series</td>\n",
       "      <td>2014</td>\n",
       "      <td>11200</td>\n",
       "      <td>Automatic</td>\n",
       "      <td>67068</td>\n",
       "      <td>Diesel</td>\n",
       "      <td>125</td>\n",
       "      <td>57.6</td>\n",
       "      <td>2.0</td>\n",
       "    </tr>\n",
       "  </tbody>\n",
       "</table>\n",
       "</div>"
      ],
      "text/plain": [
       "       model  year  price transmission  mileage fuelType  tax   mpg  \\\n",
       "0   5 Series  2014  11200    Automatic    67068   Diesel  125  57.6   \n",
       "\n",
       "   engineSize  \n",
       "0         2.0  "
      ]
     },
     "execution_count": 5,
     "metadata": {},
     "output_type": "execute_result"
    }
   ],
   "source": [
    "# dataset bmw\n",
    "bmw.head(1)"
   ]
  },
  {
   "cell_type": "code",
   "execution_count": 6,
   "id": "5d8429e1",
   "metadata": {
    "ExecuteTime": {
     "end_time": "2023-03-26T10:23:13.799858Z",
     "start_time": "2023-03-26T10:23:13.756884Z"
    },
    "colab": {
     "base_uri": "https://localhost:8080/",
     "height": 81
    },
    "executionInfo": {
     "elapsed": 5,
     "status": "ok",
     "timestamp": 1679889669656,
     "user": {
      "displayName": "Yuki",
      "userId": "17640100086142035958"
     },
     "user_tz": -420
    },
    "id": "5d8429e1",
    "outputId": "563aa8b2-cca3-47e3-ea41-18cda48d2113"
   },
   "outputs": [
    {
     "data": {
      "text/html": [
       "<div>\n",
       "<style scoped>\n",
       "    .dataframe tbody tr th:only-of-type {\n",
       "        vertical-align: middle;\n",
       "    }\n",
       "\n",
       "    .dataframe tbody tr th {\n",
       "        vertical-align: top;\n",
       "    }\n",
       "\n",
       "    .dataframe thead th {\n",
       "        text-align: right;\n",
       "    }\n",
       "</style>\n",
       "<table border=\"1\" class=\"dataframe\">\n",
       "  <thead>\n",
       "    <tr style=\"text-align: right;\">\n",
       "      <th></th>\n",
       "      <th>model</th>\n",
       "      <th>year</th>\n",
       "      <th>price</th>\n",
       "      <th>transmission</th>\n",
       "      <th>mileage</th>\n",
       "      <th>fuelType</th>\n",
       "      <th>tax</th>\n",
       "      <th>mpg</th>\n",
       "      <th>engineSize</th>\n",
       "    </tr>\n",
       "  </thead>\n",
       "  <tbody>\n",
       "    <tr>\n",
       "      <th>0</th>\n",
       "      <td>Fiesta</td>\n",
       "      <td>2017</td>\n",
       "      <td>12000</td>\n",
       "      <td>Automatic</td>\n",
       "      <td>15944</td>\n",
       "      <td>Petrol</td>\n",
       "      <td>150</td>\n",
       "      <td>57.7</td>\n",
       "      <td>1.0</td>\n",
       "    </tr>\n",
       "  </tbody>\n",
       "</table>\n",
       "</div>"
      ],
      "text/plain": [
       "     model  year  price transmission  mileage fuelType  tax   mpg  engineSize\n",
       "0   Fiesta  2017  12000    Automatic    15944   Petrol  150  57.7         1.0"
      ]
     },
     "execution_count": 6,
     "metadata": {},
     "output_type": "execute_result"
    }
   ],
   "source": [
    "ford.head(1)"
   ]
  },
  {
   "cell_type": "code",
   "execution_count": 7,
   "id": "c64bfbbf",
   "metadata": {
    "ExecuteTime": {
     "end_time": "2023-03-26T10:23:13.846832Z",
     "start_time": "2023-03-26T10:23:13.803857Z"
    },
    "colab": {
     "base_uri": "https://localhost:8080/",
     "height": 81
    },
    "executionInfo": {
     "elapsed": 7,
     "status": "ok",
     "timestamp": 1679889672195,
     "user": {
      "displayName": "Yuki",
      "userId": "17640100086142035958"
     },
     "user_tz": -420
    },
    "id": "c64bfbbf",
    "outputId": "c98d2314-5370-4832-fe89-105ef3746988"
   },
   "outputs": [
    {
     "data": {
      "text/html": [
       "<div>\n",
       "<style scoped>\n",
       "    .dataframe tbody tr th:only-of-type {\n",
       "        vertical-align: middle;\n",
       "    }\n",
       "\n",
       "    .dataframe tbody tr th {\n",
       "        vertical-align: top;\n",
       "    }\n",
       "\n",
       "    .dataframe thead th {\n",
       "        text-align: right;\n",
       "    }\n",
       "</style>\n",
       "<table border=\"1\" class=\"dataframe\">\n",
       "  <thead>\n",
       "    <tr style=\"text-align: right;\">\n",
       "      <th></th>\n",
       "      <th>model</th>\n",
       "      <th>year</th>\n",
       "      <th>price</th>\n",
       "      <th>transmission</th>\n",
       "      <th>mileage</th>\n",
       "      <th>fuelType</th>\n",
       "      <th>tax(£)</th>\n",
       "      <th>mpg</th>\n",
       "      <th>engineSize</th>\n",
       "    </tr>\n",
       "  </thead>\n",
       "  <tbody>\n",
       "    <tr>\n",
       "      <th>0</th>\n",
       "      <td>I20</td>\n",
       "      <td>2017</td>\n",
       "      <td>7999</td>\n",
       "      <td>Manual</td>\n",
       "      <td>17307</td>\n",
       "      <td>Petrol</td>\n",
       "      <td>145</td>\n",
       "      <td>58.9</td>\n",
       "      <td>1.2</td>\n",
       "    </tr>\n",
       "  </tbody>\n",
       "</table>\n",
       "</div>"
      ],
      "text/plain": [
       "  model  year  price transmission  mileage fuelType  tax(£)   mpg  engineSize\n",
       "0   I20  2017   7999       Manual    17307   Petrol     145  58.9         1.2"
      ]
     },
     "execution_count": 7,
     "metadata": {},
     "output_type": "execute_result"
    }
   ],
   "source": [
    "hyundai.head(1)"
   ]
  },
  {
   "cell_type": "code",
   "execution_count": 8,
   "id": "P_DPWPrKNTaI",
   "metadata": {
    "ExecuteTime": {
     "end_time": "2023-04-06T07:03:34.495397Z",
     "start_time": "2023-04-06T07:03:34.487405Z"
    },
    "id": "P_DPWPrKNTaI"
   },
   "outputs": [],
   "source": [
    "# Terlihat adanya kesalahan data pada kolom tax. Maka kami akan mengganti kolom tersebut menjadi **tax** saja\n",
    "hyundai.rename(columns={'tax(£)':'tax'}, inplace=True)"
   ]
  },
  {
   "cell_type": "code",
   "execution_count": 9,
   "id": "6251a171",
   "metadata": {
    "ExecuteTime": {
     "end_time": "2023-03-26T10:23:13.877814Z",
     "start_time": "2023-03-26T10:23:13.850830Z"
    },
    "colab": {
     "base_uri": "https://localhost:8080/",
     "height": 81
    },
    "executionInfo": {
     "elapsed": 406,
     "status": "ok",
     "timestamp": 1679889982084,
     "user": {
      "displayName": "Yuki",
      "userId": "17640100086142035958"
     },
     "user_tz": -420
    },
    "id": "6251a171",
    "outputId": "63418aa9-ebfa-400f-cd3d-4b41eb417df0"
   },
   "outputs": [
    {
     "data": {
      "text/html": [
       "<div>\n",
       "<style scoped>\n",
       "    .dataframe tbody tr th:only-of-type {\n",
       "        vertical-align: middle;\n",
       "    }\n",
       "\n",
       "    .dataframe tbody tr th {\n",
       "        vertical-align: top;\n",
       "    }\n",
       "\n",
       "    .dataframe thead th {\n",
       "        text-align: right;\n",
       "    }\n",
       "</style>\n",
       "<table border=\"1\" class=\"dataframe\">\n",
       "  <thead>\n",
       "    <tr style=\"text-align: right;\">\n",
       "      <th></th>\n",
       "      <th>model</th>\n",
       "      <th>year</th>\n",
       "      <th>price</th>\n",
       "      <th>transmission</th>\n",
       "      <th>mileage</th>\n",
       "      <th>fuelType</th>\n",
       "      <th>tax</th>\n",
       "      <th>mpg</th>\n",
       "      <th>engineSize</th>\n",
       "    </tr>\n",
       "  </thead>\n",
       "  <tbody>\n",
       "    <tr>\n",
       "      <th>0</th>\n",
       "      <td>SLK</td>\n",
       "      <td>2005</td>\n",
       "      <td>5200</td>\n",
       "      <td>Automatic</td>\n",
       "      <td>63000</td>\n",
       "      <td>Petrol</td>\n",
       "      <td>325</td>\n",
       "      <td>32.1</td>\n",
       "      <td>1.8</td>\n",
       "    </tr>\n",
       "  </tbody>\n",
       "</table>\n",
       "</div>"
      ],
      "text/plain": [
       "  model  year  price transmission  mileage fuelType  tax   mpg  engineSize\n",
       "0   SLK  2005   5200    Automatic    63000   Petrol  325  32.1         1.8"
      ]
     },
     "execution_count": 9,
     "metadata": {},
     "output_type": "execute_result"
    }
   ],
   "source": [
    "merc.head(1)"
   ]
  },
  {
   "cell_type": "code",
   "execution_count": 10,
   "id": "fb493007",
   "metadata": {
    "ExecuteTime": {
     "end_time": "2023-03-26T10:23:13.925786Z",
     "start_time": "2023-03-26T10:23:13.885810Z"
    },
    "colab": {
     "base_uri": "https://localhost:8080/",
     "height": 81
    },
    "executionInfo": {
     "elapsed": 7,
     "status": "ok",
     "timestamp": 1679889983407,
     "user": {
      "displayName": "Yuki",
      "userId": "17640100086142035958"
     },
     "user_tz": -420
    },
    "id": "fb493007",
    "outputId": "badfd435-275a-4587-8bb8-20c5f7be759e"
   },
   "outputs": [
    {
     "data": {
      "text/html": [
       "<div>\n",
       "<style scoped>\n",
       "    .dataframe tbody tr th:only-of-type {\n",
       "        vertical-align: middle;\n",
       "    }\n",
       "\n",
       "    .dataframe tbody tr th {\n",
       "        vertical-align: top;\n",
       "    }\n",
       "\n",
       "    .dataframe thead th {\n",
       "        text-align: right;\n",
       "    }\n",
       "</style>\n",
       "<table border=\"1\" class=\"dataframe\">\n",
       "  <thead>\n",
       "    <tr style=\"text-align: right;\">\n",
       "      <th></th>\n",
       "      <th>model</th>\n",
       "      <th>year</th>\n",
       "      <th>price</th>\n",
       "      <th>transmission</th>\n",
       "      <th>mileage</th>\n",
       "      <th>fuelType</th>\n",
       "      <th>tax</th>\n",
       "      <th>mpg</th>\n",
       "      <th>engineSize</th>\n",
       "    </tr>\n",
       "  </thead>\n",
       "  <tbody>\n",
       "    <tr>\n",
       "      <th>0</th>\n",
       "      <td>Octavia</td>\n",
       "      <td>2017</td>\n",
       "      <td>10550</td>\n",
       "      <td>Manual</td>\n",
       "      <td>25250</td>\n",
       "      <td>Petrol</td>\n",
       "      <td>150</td>\n",
       "      <td>54.3</td>\n",
       "      <td>1.4</td>\n",
       "    </tr>\n",
       "  </tbody>\n",
       "</table>\n",
       "</div>"
      ],
      "text/plain": [
       "      model  year  price transmission  mileage fuelType  tax   mpg  engineSize\n",
       "0   Octavia  2017  10550       Manual    25250   Petrol  150  54.3         1.4"
      ]
     },
     "execution_count": 10,
     "metadata": {},
     "output_type": "execute_result"
    }
   ],
   "source": [
    "skoda.head(1)"
   ]
  },
  {
   "cell_type": "code",
   "execution_count": 11,
   "id": "291418a1",
   "metadata": {
    "ExecuteTime": {
     "end_time": "2023-03-26T10:23:13.973758Z",
     "start_time": "2023-03-26T10:23:13.935780Z"
    },
    "colab": {
     "base_uri": "https://localhost:8080/",
     "height": 81
    },
    "executionInfo": {
     "elapsed": 5,
     "status": "ok",
     "timestamp": 1679889985168,
     "user": {
      "displayName": "Yuki",
      "userId": "17640100086142035958"
     },
     "user_tz": -420
    },
    "id": "291418a1",
    "outputId": "4ee8844d-4270-4c4b-c819-49048405d287"
   },
   "outputs": [
    {
     "data": {
      "text/html": [
       "<div>\n",
       "<style scoped>\n",
       "    .dataframe tbody tr th:only-of-type {\n",
       "        vertical-align: middle;\n",
       "    }\n",
       "\n",
       "    .dataframe tbody tr th {\n",
       "        vertical-align: top;\n",
       "    }\n",
       "\n",
       "    .dataframe thead th {\n",
       "        text-align: right;\n",
       "    }\n",
       "</style>\n",
       "<table border=\"1\" class=\"dataframe\">\n",
       "  <thead>\n",
       "    <tr style=\"text-align: right;\">\n",
       "      <th></th>\n",
       "      <th>model</th>\n",
       "      <th>year</th>\n",
       "      <th>price</th>\n",
       "      <th>transmission</th>\n",
       "      <th>mileage</th>\n",
       "      <th>fuelType</th>\n",
       "      <th>tax</th>\n",
       "      <th>mpg</th>\n",
       "      <th>engineSize</th>\n",
       "    </tr>\n",
       "  </thead>\n",
       "  <tbody>\n",
       "    <tr>\n",
       "      <th>0</th>\n",
       "      <td>GT86</td>\n",
       "      <td>2016</td>\n",
       "      <td>16000</td>\n",
       "      <td>Manual</td>\n",
       "      <td>24089</td>\n",
       "      <td>Petrol</td>\n",
       "      <td>265</td>\n",
       "      <td>36.2</td>\n",
       "      <td>2.0</td>\n",
       "    </tr>\n",
       "  </tbody>\n",
       "</table>\n",
       "</div>"
      ],
      "text/plain": [
       "   model  year  price transmission  mileage fuelType  tax   mpg  engineSize\n",
       "0   GT86  2016  16000       Manual    24089   Petrol  265  36.2         2.0"
      ]
     },
     "execution_count": 11,
     "metadata": {},
     "output_type": "execute_result"
    }
   ],
   "source": [
    "toyota.head(1)"
   ]
  },
  {
   "cell_type": "code",
   "execution_count": 12,
   "id": "f6812227",
   "metadata": {
    "ExecuteTime": {
     "end_time": "2023-03-26T10:23:14.005741Z",
     "start_time": "2023-03-26T10:23:13.978756Z"
    },
    "colab": {
     "base_uri": "https://localhost:8080/",
     "height": 81
    },
    "executionInfo": {
     "elapsed": 4,
     "status": "ok",
     "timestamp": 1679889986718,
     "user": {
      "displayName": "Yuki",
      "userId": "17640100086142035958"
     },
     "user_tz": -420
    },
    "id": "f6812227",
    "outputId": "73fc3053-cff3-4c5f-bcfb-28cd3a282f41"
   },
   "outputs": [
    {
     "data": {
      "text/html": [
       "<div>\n",
       "<style scoped>\n",
       "    .dataframe tbody tr th:only-of-type {\n",
       "        vertical-align: middle;\n",
       "    }\n",
       "\n",
       "    .dataframe tbody tr th {\n",
       "        vertical-align: top;\n",
       "    }\n",
       "\n",
       "    .dataframe thead th {\n",
       "        text-align: right;\n",
       "    }\n",
       "</style>\n",
       "<table border=\"1\" class=\"dataframe\">\n",
       "  <thead>\n",
       "    <tr style=\"text-align: right;\">\n",
       "      <th></th>\n",
       "      <th>model</th>\n",
       "      <th>year</th>\n",
       "      <th>price</th>\n",
       "      <th>transmission</th>\n",
       "      <th>mileage</th>\n",
       "      <th>fuelType</th>\n",
       "      <th>tax</th>\n",
       "      <th>mpg</th>\n",
       "      <th>engineSize</th>\n",
       "    </tr>\n",
       "  </thead>\n",
       "  <tbody>\n",
       "    <tr>\n",
       "      <th>0</th>\n",
       "      <td>Corsa</td>\n",
       "      <td>2018</td>\n",
       "      <td>7885</td>\n",
       "      <td>Manual</td>\n",
       "      <td>9876</td>\n",
       "      <td>Petrol</td>\n",
       "      <td>145</td>\n",
       "      <td>55.4</td>\n",
       "      <td>1.4</td>\n",
       "    </tr>\n",
       "  </tbody>\n",
       "</table>\n",
       "</div>"
      ],
      "text/plain": [
       "    model  year  price transmission  mileage fuelType  tax   mpg  engineSize\n",
       "0   Corsa  2018   7885       Manual     9876   Petrol  145  55.4         1.4"
      ]
     },
     "execution_count": 12,
     "metadata": {},
     "output_type": "execute_result"
    }
   ],
   "source": [
    "vauxhall.head(1)"
   ]
  },
  {
   "cell_type": "code",
   "execution_count": 13,
   "id": "e4c7994c",
   "metadata": {
    "ExecuteTime": {
     "end_time": "2023-03-26T10:23:14.036722Z",
     "start_time": "2023-03-26T10:23:14.009739Z"
    },
    "colab": {
     "base_uri": "https://localhost:8080/",
     "height": 81
    },
    "executionInfo": {
     "elapsed": 12,
     "status": "ok",
     "timestamp": 1679889987094,
     "user": {
      "displayName": "Yuki",
      "userId": "17640100086142035958"
     },
     "user_tz": -420
    },
    "id": "e4c7994c",
    "outputId": "233fc548-f896-4601-f6ff-b3e58484f0c7"
   },
   "outputs": [
    {
     "data": {
      "text/html": [
       "<div>\n",
       "<style scoped>\n",
       "    .dataframe tbody tr th:only-of-type {\n",
       "        vertical-align: middle;\n",
       "    }\n",
       "\n",
       "    .dataframe tbody tr th {\n",
       "        vertical-align: top;\n",
       "    }\n",
       "\n",
       "    .dataframe thead th {\n",
       "        text-align: right;\n",
       "    }\n",
       "</style>\n",
       "<table border=\"1\" class=\"dataframe\">\n",
       "  <thead>\n",
       "    <tr style=\"text-align: right;\">\n",
       "      <th></th>\n",
       "      <th>model</th>\n",
       "      <th>year</th>\n",
       "      <th>price</th>\n",
       "      <th>transmission</th>\n",
       "      <th>mileage</th>\n",
       "      <th>fuelType</th>\n",
       "      <th>tax</th>\n",
       "      <th>mpg</th>\n",
       "      <th>engineSize</th>\n",
       "    </tr>\n",
       "  </thead>\n",
       "  <tbody>\n",
       "    <tr>\n",
       "      <th>0</th>\n",
       "      <td>T-Roc</td>\n",
       "      <td>2019</td>\n",
       "      <td>25000</td>\n",
       "      <td>Automatic</td>\n",
       "      <td>13904</td>\n",
       "      <td>Diesel</td>\n",
       "      <td>145</td>\n",
       "      <td>49.6</td>\n",
       "      <td>2.0</td>\n",
       "    </tr>\n",
       "  </tbody>\n",
       "</table>\n",
       "</div>"
      ],
      "text/plain": [
       "    model  year  price transmission  mileage fuelType  tax   mpg  engineSize\n",
       "0   T-Roc  2019  25000    Automatic    13904   Diesel  145  49.6         2.0"
      ]
     },
     "execution_count": 13,
     "metadata": {},
     "output_type": "execute_result"
    }
   ],
   "source": [
    "vw.head(1)"
   ]
  },
  {
   "cell_type": "markdown",
   "id": "9b8983d7",
   "metadata": {
    "id": "9b8983d7"
   },
   "source": [
    "berdasarkan pembacaan data dari setiap merk mobil bekas di atas ditemukan bahwa ada kesalahan penulisan kolom pada data mobil `Hyundai` di mana kolom tax tidak sama dengan keseluruhan dataset lainnya. Sehingga kami akan mengganti nama kolom tersebut untuk mengurangi resiko error saat penggabungan data-data tersebut ke dalam satu dataset."
   ]
  },
  {
   "cell_type": "markdown",
   "id": "5b1ffced",
   "metadata": {
    "id": "5b1ffced"
   },
   "source": [
    "Selanjutnya kami akan melakukan pembacaan data yang hanya berisi 1 model mobil bekas"
   ]
  },
  {
   "cell_type": "code",
   "execution_count": 14,
   "id": "a8303ff1",
   "metadata": {
    "ExecuteTime": {
     "end_time": "2023-03-26T10:23:14.097689Z",
     "start_time": "2023-03-26T10:23:14.070703Z"
    },
    "colab": {
     "base_uri": "https://localhost:8080/",
     "height": 81
    },
    "executionInfo": {
     "elapsed": 631,
     "status": "ok",
     "timestamp": 1679889999769,
     "user": {
      "displayName": "Yuki",
      "userId": "17640100086142035958"
     },
     "user_tz": -420
    },
    "id": "a8303ff1",
    "outputId": "9817c83e-0bde-4b16-b19b-cdf4bb321d58"
   },
   "outputs": [
    {
     "data": {
      "text/html": [
       "<div>\n",
       "<style scoped>\n",
       "    .dataframe tbody tr th:only-of-type {\n",
       "        vertical-align: middle;\n",
       "    }\n",
       "\n",
       "    .dataframe tbody tr th {\n",
       "        vertical-align: top;\n",
       "    }\n",
       "\n",
       "    .dataframe thead th {\n",
       "        text-align: right;\n",
       "    }\n",
       "</style>\n",
       "<table border=\"1\" class=\"dataframe\">\n",
       "  <thead>\n",
       "    <tr style=\"text-align: right;\">\n",
       "      <th></th>\n",
       "      <th>model</th>\n",
       "      <th>year</th>\n",
       "      <th>price</th>\n",
       "      <th>transmission</th>\n",
       "      <th>mileage</th>\n",
       "      <th>fuelType</th>\n",
       "      <th>engineSize</th>\n",
       "    </tr>\n",
       "  </thead>\n",
       "  <tbody>\n",
       "    <tr>\n",
       "      <th>0</th>\n",
       "      <td>C Class</td>\n",
       "      <td>2020</td>\n",
       "      <td>30495</td>\n",
       "      <td>Automatic</td>\n",
       "      <td>1200</td>\n",
       "      <td>Diesel</td>\n",
       "      <td>2.0</td>\n",
       "    </tr>\n",
       "  </tbody>\n",
       "</table>\n",
       "</div>"
      ],
      "text/plain": [
       "      model  year  price transmission  mileage fuelType  engineSize\n",
       "0   C Class  2020  30495    Automatic     1200   Diesel         2.0"
      ]
     },
     "execution_count": 14,
     "metadata": {},
     "output_type": "execute_result"
    }
   ],
   "source": [
    "cclass.head(1)"
   ]
  },
  {
   "cell_type": "code",
   "execution_count": 15,
   "id": "0abd2f2d",
   "metadata": {
    "ExecuteTime": {
     "end_time": "2023-03-26T10:23:14.128670Z",
     "start_time": "2023-03-26T10:23:14.102685Z"
    },
    "colab": {
     "base_uri": "https://localhost:8080/",
     "height": 81
    },
    "executionInfo": {
     "elapsed": 17,
     "status": "ok",
     "timestamp": 1679890001068,
     "user": {
      "displayName": "Yuki",
      "userId": "17640100086142035958"
     },
     "user_tz": -420
    },
    "id": "0abd2f2d",
    "outputId": "a63b4f77-2787-4f5f-a3b4-2df6c9017338"
   },
   "outputs": [
    {
     "data": {
      "text/html": [
       "<div>\n",
       "<style scoped>\n",
       "    .dataframe tbody tr th:only-of-type {\n",
       "        vertical-align: middle;\n",
       "    }\n",
       "\n",
       "    .dataframe tbody tr th {\n",
       "        vertical-align: top;\n",
       "    }\n",
       "\n",
       "    .dataframe thead th {\n",
       "        text-align: right;\n",
       "    }\n",
       "</style>\n",
       "<table border=\"1\" class=\"dataframe\">\n",
       "  <thead>\n",
       "    <tr style=\"text-align: right;\">\n",
       "      <th></th>\n",
       "      <th>model</th>\n",
       "      <th>year</th>\n",
       "      <th>price</th>\n",
       "      <th>transmission</th>\n",
       "      <th>mileage</th>\n",
       "      <th>fuelType</th>\n",
       "      <th>engineSize</th>\n",
       "    </tr>\n",
       "  </thead>\n",
       "  <tbody>\n",
       "    <tr>\n",
       "      <th>0</th>\n",
       "      <td>Focus</td>\n",
       "      <td>2016</td>\n",
       "      <td>8000</td>\n",
       "      <td>Manual</td>\n",
       "      <td>38852</td>\n",
       "      <td>Petrol</td>\n",
       "      <td>1.0</td>\n",
       "    </tr>\n",
       "  </tbody>\n",
       "</table>\n",
       "</div>"
      ],
      "text/plain": [
       "    model  year  price transmission  mileage fuelType  engineSize\n",
       "0   Focus  2016   8000       Manual    38852   Petrol         1.0"
      ]
     },
     "execution_count": 15,
     "metadata": {},
     "output_type": "execute_result"
    }
   ],
   "source": [
    "focus.head(1)"
   ]
  },
  {
   "cell_type": "markdown",
   "id": "WEXeNwR4WS3T",
   "metadata": {
    "id": "WEXeNwR4WS3T"
   },
   "source": [
    "### Analisis dataset `cclass` dan `focus` merupakan dataset yang diambil dari dataset merk `merc` dan `ford`"
   ]
  },
  {
   "cell_type": "markdown",
   "id": "4f91f65a",
   "metadata": {
    "id": "4f91f65a"
   },
   "source": [
    "kedua data tersebut akan kami analisis apakah isi dari data tersebut sama dengan yang ada di dalam dataset per merk"
   ]
  },
  {
   "cell_type": "code",
   "execution_count": 16,
   "id": "642f6322",
   "metadata": {
    "ExecuteTime": {
     "end_time": "2023-04-06T07:03:39.187676Z",
     "start_time": "2023-04-06T07:03:39.047341Z"
    },
    "colab": {
     "base_uri": "https://localhost:8080/"
    },
    "executionInfo": {
     "elapsed": 646,
     "status": "ok",
     "timestamp": 1679891577594,
     "user": {
      "displayName": "Yuki",
      "userId": "17640100086142035958"
     },
     "user_tz": -420
    },
    "id": "642f6322",
    "outputId": "e300d8dd-66a7-4064-9091-728ea7f4d8b3"
   },
   "outputs": [
    {
     "name": "stdout",
     "output_type": "stream",
     "text": [
      "Cek berapa banyak jumlah duplikat di dalam data.\n",
      "jumlah duplikat di data merc :  259\n",
      "jumlah duplikat di data ford :  154\n",
      "jumlah duplikat di data cclass : 102\n",
      "jumlah duplikat di focus :  696\n",
      "--------------------------------------------------\n",
      "Cek berapa banyak jumlah duplikat setelah dilakukan drop duplicates di dalam data.\n",
      "jumlah duplikat sekarang 0\n",
      "jumlah duplikat sekarang 0\n",
      "jumlah duplikat di data cclass : 0\n",
      "jumlah duplikat di data focus :  0\n",
      "---------------------------------------------------\n",
      "Kami melakukan drop tax dan mpg pada data merc dan ford untuk menyamakan kolom pada dataset model mobil\n",
      "---------------------------------------------------\n",
      "jumlah kolom pada dataset merc 9\n",
      "jumlah kolom merc sekarang 7\n",
      "jumlah data pada dataset merc (12860, 7)\n",
      "jumlah kolom ford sekarang 7\n",
      "jumlah data pada dataset ford (17811, 7)\n",
      "---------------------------------------------------\n",
      " kami akan melakukan penggabungan data model dengan merknya. Apakah dataset model diambil dari dataset merknya\n",
      "jumlah penggabungan data merc 16657\n",
      "jumlah penggabungan data ford 22569\n",
      "jumlah data pada dataset cclass 3797\n",
      "jumlah data pada dataset focus 4758\n",
      "------------------------\n",
      "jumlah penambahan data di dataset merc 3797\n",
      "jumlah penambahan data di dataset ford 4758\n"
     ]
    }
   ],
   "source": [
    "# kami akan melkukan copy terhadap data merc dan ford\n",
    "merc_copy = merc.copy()\n",
    "ford_copy = ford.copy()\n",
    "\n",
    "# kami check apakah ada data duplikasi di dalam data-data\n",
    "print(\"Cek berapa banyak jumlah duplikat di dalam data.\")\n",
    "print(f'jumlah duplikat di data merc : ', merc_copy.duplicated().sum())\n",
    "print(f'jumlah duplikat di data ford : ',ford_copy.duplicated().sum())\n",
    "print(f'jumlah duplikat di data cclass :',cclass.duplicated().sum())\n",
    "print(f'jumlah duplikat di focus : ',focus.duplicated().sum())\n",
    "\n",
    "# Melakukan drop data duplikat\n",
    "merc_copy.drop_duplicates(inplace=True)\n",
    "ford_copy.drop_duplicates(inplace=True)\n",
    "cclass.drop_duplicates(inplace=True)\n",
    "focus.drop_duplicates(inplace=True)\n",
    "\n",
    "print(\"--------------------------------------------------\")\n",
    "# mencari tahu berapa jumlah duplikat saat dilakukan droping\n",
    "print(\"Cek berapa banyak jumlah duplikat setelah dilakukan drop duplicates di dalam data.\")\n",
    "print(f'jumlah duplikat sekarang', merc_copy.duplicated().sum())\n",
    "print(f'jumlah duplikat sekarang',ford_copy.duplicated().sum())\n",
    "print(f'jumlah duplikat di data cclass :',cclass.duplicated().sum())\n",
    "print(f'jumlah duplikat di data focus : ',focus.duplicated().sum())\n",
    "\n",
    "print('---------------------------------------------------')\n",
    "# melakukan drop tax dan mpg pada data merc dan ford untuk menyamakan kolom pada data model mobil\n",
    "print(\"Kami melakukan drop tax dan mpg pada data merc dan ford untuk menyamakan kolom pada dataset model mobil\")\n",
    "print('---------------------------------------------------')\n",
    "print(f'jumlah kolom pada dataset merc',len(merc_copy.columns))\n",
    "merc_copy.drop(['tax', 'mpg'], axis=1, inplace=True)\n",
    "ford_copy.drop(['tax', 'mpg'], axis=1, inplace=True)\n",
    "print(f'jumlah kolom merc sekarang',len(merc_copy.columns))\n",
    "print(f'jumlah data pada dataset merc', merc_copy.shape)\n",
    "print(f'jumlah kolom ford sekarang',len(ford_copy.columns))\n",
    "print(f'jumlah data pada dataset ford', ford_copy.shape)\n",
    "\n",
    "# melakukan concating untuk mengetahui apakah data-data tersebut duplikat atau tidak\n",
    "konket_merc = pd.concat([cclass, merc_copy], axis=0)\n",
    "konket_ford = pd.concat([focus, ford_copy], axis=0)\n",
    "\n",
    "# melihat jumlah data\n",
    "print('---------------------------------------------------')\n",
    "print(\" kami akan melakukan penggabungan data model dengan merknya. Apakah dataset model diambil dari dataset merknya\")\n",
    "print(f'jumlah penggabungan data merc', konket_merc.shape[0])\n",
    "print(f'jumlah penggabungan data ford', konket_ford.shape[0])\n",
    "print(f'jumlah data pada dataset cclass', cclass.shape[0])\n",
    "print(f'jumlah data pada dataset focus', focus.shape[0])\n",
    "\n",
    "print(\"------------------------\")\n",
    "print(f'jumlah penambahan data di dataset merc', konket_merc.shape[0] - merc_copy.shape[0])\n",
    "print(f'jumlah penambahan data di dataset ford', konket_ford.shape[0] - ford_copy.shape[0])"
   ]
  },
  {
   "cell_type": "markdown",
   "id": "70cc371b",
   "metadata": {
    "id": "70cc371b"
   },
   "source": [
    "Dari pemahaman ini bisa diasumsikan bahwa dataframe `cclass` dan `focus` merupakan dataframe yang diambil dari dataframe merk Mercedez Benz dan Ford. Kami melihat dari selisih saat dataframe digabungkan berjumlah sama dengan jumlah data dari masing-masing model yaitu untuk merc bertambah 3878 data dan ford 4758.\n",
    "\n",
    "Untuk selanjutnya kami tidak akan menggunakan dataset `cclass` dan `focus` ke tahap selanjutnya."
   ]
  },
  {
   "cell_type": "markdown",
   "id": "40873473",
   "metadata": {
    "id": "40873473"
   },
   "source": [
    "Setelah melihat dataframe merk yang di dalamnya tidak menunjukan kolom dari merk tersebut. Kami akan menambahkan kolom baru untuk mempermudah pembacaan saat dilakukan penggabungan dataframe. "
   ]
  },
  {
   "cell_type": "markdown",
   "id": "9_IyN_W6XXXi",
   "metadata": {
    "id": "9_IyN_W6XXXi"
   },
   "source": [
    "### Menambahkan kolom `brand` pada dataframe merk-merk"
   ]
  },
  {
   "cell_type": "code",
   "execution_count": 88,
   "id": "fe8e8bc6",
   "metadata": {
    "ExecuteTime": {
     "end_time": "2023-04-06T07:03:43.549769Z",
     "start_time": "2023-04-06T07:03:43.522786Z"
    },
    "id": "fe8e8bc6"
   },
   "outputs": [],
   "source": [
    "# Menambahakan kolom brand pada setiap brand mobil bekas\n",
    "audi['brand'] = 'audi'\n",
    "bmw['brand'] = 'bmw'\n",
    "ford['brand'] = 'ford'\n",
    "hyundai['brand'] = 'hyundai'\n",
    "merc['brand'] = 'mercedes'\n",
    "skoda['brand'] = 'skoda'\n",
    "toyota['brand'] = 'toyota'\n",
    "vauxhall['brand'] = 'vauxhall'\n",
    "vw['brand'] = 'vw'"
   ]
  },
  {
   "cell_type": "markdown",
   "id": "7d002d87",
   "metadata": {
    "id": "7d002d87"
   },
   "source": [
    "Penambahan kolom baru bernama `brand` digunakan untuk mempermudah pembacaan data saat penggabungan semua dataframe menjadi satu dataframe"
   ]
  },
  {
   "cell_type": "markdown",
   "id": "aHxV-PGlXoIR",
   "metadata": {
    "id": "aHxV-PGlXoIR"
   },
   "source": [
    "### Menggabungkan dataframe-dataframe merk menjadi satu dataframe"
   ]
  },
  {
   "cell_type": "markdown",
   "id": "414d7975",
   "metadata": {
    "id": "414d7975"
   },
   "source": [
    "Selanjutnya kami akan mengabungkan semua dataframe menjadi 1 dataframe"
   ]
  },
  {
   "cell_type": "code",
   "execution_count": 18,
   "id": "fe4eb588",
   "metadata": {
    "ExecuteTime": {
     "end_time": "2023-04-06T07:03:46.660016Z",
     "start_time": "2023-04-06T07:03:46.612046Z"
    },
    "id": "fe4eb588"
   },
   "outputs": [],
   "source": [
    "df = pd.concat([audi, bmw, ford, hyundai, merc, skoda, toyota, vauxhall, vw], axis=0)"
   ]
  },
  {
   "cell_type": "markdown",
   "id": "979f859f",
   "metadata": {
    "id": "979f859f"
   },
   "source": [
    "`pd.concat()` adalah fungsi yang digunakan untuk menggabungkan beberapa DataFrame. Parameter pertama yang diberikan pada fungsi ini adalah sebuah list dari DataFrame yang ingin digabungkan. Pada kode di atas, terdapat sembilan DataFrame yang digabungkan, yaitu audi, bmw, ford, hyundai, merc, skoda, toyota, vauxhall, dan vw. List ini diberikan sebagai argumen pertama pada `pd.concat()`.\n",
    "\n",
    "Argumen kedua pada `pd.concat()` adalah axis, yang digunakan untuk menentukan sumbu penggabungan. Pada kode di atas, kita menggabungkan DataFrame secara vertikal (dari atas ke bawah)."
   ]
  },
  {
   "cell_type": "markdown",
   "id": "f9e35f79",
   "metadata": {
    "id": "f9e35f79"
   },
   "source": [
    "Mari kita check informasi dataframe lagi"
   ]
  },
  {
   "cell_type": "markdown",
   "id": "548ad3e7",
   "metadata": {
    "id": "548ad3e7"
   },
   "source": [
    "### Memeriksa Data Kosong dan Duplikat"
   ]
  },
  {
   "cell_type": "code",
   "execution_count": 19,
   "id": "c8b8c441",
   "metadata": {
    "ExecuteTime": {
     "end_time": "2023-04-06T07:03:49.044915Z",
     "start_time": "2023-04-06T07:03:48.831973Z"
    },
    "colab": {
     "base_uri": "https://localhost:8080/",
     "height": 363
    },
    "executionInfo": {
     "elapsed": 390,
     "status": "ok",
     "timestamp": 1679892684732,
     "user": {
      "displayName": "Yuki",
      "userId": "17640100086142035958"
     },
     "user_tz": -420
    },
    "id": "c8b8c441",
    "outputId": "a5d74d77-68ba-43fa-977b-36c93a274791"
   },
   "outputs": [
    {
     "data": {
      "text/html": [
       "<div>\n",
       "<style scoped>\n",
       "    .dataframe tbody tr th:only-of-type {\n",
       "        vertical-align: middle;\n",
       "    }\n",
       "\n",
       "    .dataframe tbody tr th {\n",
       "        vertical-align: top;\n",
       "    }\n",
       "\n",
       "    .dataframe thead th {\n",
       "        text-align: right;\n",
       "    }\n",
       "</style>\n",
       "<table border=\"1\" class=\"dataframe\">\n",
       "  <thead>\n",
       "    <tr style=\"text-align: right;\">\n",
       "      <th></th>\n",
       "      <th>dataFeatures</th>\n",
       "      <th>dataType</th>\n",
       "      <th>null</th>\n",
       "      <th>nullPct</th>\n",
       "      <th>unique</th>\n",
       "      <th>uniqueSample</th>\n",
       "    </tr>\n",
       "  </thead>\n",
       "  <tbody>\n",
       "    <tr>\n",
       "      <th>0</th>\n",
       "      <td>model</td>\n",
       "      <td>object</td>\n",
       "      <td>0</td>\n",
       "      <td>0.0</td>\n",
       "      <td>195</td>\n",
       "      <td>[ X7,  Kadjar]</td>\n",
       "    </tr>\n",
       "    <tr>\n",
       "      <th>1</th>\n",
       "      <td>year</td>\n",
       "      <td>int64</td>\n",
       "      <td>0</td>\n",
       "      <td>0.0</td>\n",
       "      <td>27</td>\n",
       "      <td>[1996, 2009]</td>\n",
       "    </tr>\n",
       "    <tr>\n",
       "      <th>2</th>\n",
       "      <td>price</td>\n",
       "      <td>int64</td>\n",
       "      <td>0</td>\n",
       "      <td>0.0</td>\n",
       "      <td>13236</td>\n",
       "      <td>[36250, 10013]</td>\n",
       "    </tr>\n",
       "    <tr>\n",
       "      <th>3</th>\n",
       "      <td>transmission</td>\n",
       "      <td>object</td>\n",
       "      <td>0</td>\n",
       "      <td>0.0</td>\n",
       "      <td>4</td>\n",
       "      <td>[Semi-Auto, Manual]</td>\n",
       "    </tr>\n",
       "    <tr>\n",
       "      <th>4</th>\n",
       "      <td>mileage</td>\n",
       "      <td>int64</td>\n",
       "      <td>0</td>\n",
       "      <td>0.0</td>\n",
       "      <td>42214</td>\n",
       "      <td>[35848, 1175]</td>\n",
       "    </tr>\n",
       "    <tr>\n",
       "      <th>5</th>\n",
       "      <td>fuelType</td>\n",
       "      <td>object</td>\n",
       "      <td>0</td>\n",
       "      <td>0.0</td>\n",
       "      <td>5</td>\n",
       "      <td>[Electric, Hybrid]</td>\n",
       "    </tr>\n",
       "    <tr>\n",
       "      <th>6</th>\n",
       "      <td>tax</td>\n",
       "      <td>int64</td>\n",
       "      <td>0</td>\n",
       "      <td>0.0</td>\n",
       "      <td>48</td>\n",
       "      <td>[555, 260]</td>\n",
       "    </tr>\n",
       "    <tr>\n",
       "      <th>7</th>\n",
       "      <td>mpg</td>\n",
       "      <td>float64</td>\n",
       "      <td>0</td>\n",
       "      <td>0.0</td>\n",
       "      <td>208</td>\n",
       "      <td>[128.4, 33.3]</td>\n",
       "    </tr>\n",
       "    <tr>\n",
       "      <th>8</th>\n",
       "      <td>engineSize</td>\n",
       "      <td>float64</td>\n",
       "      <td>0</td>\n",
       "      <td>0.0</td>\n",
       "      <td>40</td>\n",
       "      <td>[1.0, 2.3]</td>\n",
       "    </tr>\n",
       "    <tr>\n",
       "      <th>9</th>\n",
       "      <td>brand</td>\n",
       "      <td>object</td>\n",
       "      <td>0</td>\n",
       "      <td>0.0</td>\n",
       "      <td>9</td>\n",
       "      <td>[vauxhall, bmw]</td>\n",
       "    </tr>\n",
       "  </tbody>\n",
       "</table>\n",
       "</div>"
      ],
      "text/plain": [
       "   dataFeatures dataType  null  nullPct  unique         uniqueSample\n",
       "0         model   object     0      0.0     195       [ X7,  Kadjar]\n",
       "1          year    int64     0      0.0      27         [1996, 2009]\n",
       "2         price    int64     0      0.0   13236       [36250, 10013]\n",
       "3  transmission   object     0      0.0       4  [Semi-Auto, Manual]\n",
       "4       mileage    int64     0      0.0   42214        [35848, 1175]\n",
       "5      fuelType   object     0      0.0       5   [Electric, Hybrid]\n",
       "6           tax    int64     0      0.0      48           [555, 260]\n",
       "7           mpg  float64     0      0.0     208        [128.4, 33.3]\n",
       "8    engineSize  float64     0      0.0      40           [1.0, 2.3]\n",
       "9         brand   object     0      0.0       9      [vauxhall, bmw]"
      ]
     },
     "execution_count": 19,
     "metadata": {},
     "output_type": "execute_result"
    }
   ],
   "source": [
    "listItem = []\n",
    "for col in df.columns :\n",
    "    listItem.append([col,\n",
    "                    df[col].dtype,\n",
    "                    df[col].isna().sum(),\n",
    "                    round((df[col].isna().sum()/len(df[col])) * 100,2),\n",
    "                    df[col].nunique(),\n",
    "                    list(df[col].drop_duplicates().sample(2).values)]);\n",
    "\n",
    "dfDesc = pd.DataFrame(columns=['dataFeatures',  # col\n",
    "                                'dataType',     # df[col].dtype\n",
    "                                'null',         # df[col].isna().sum()\n",
    "                                'nullPct',      # round((df[col].isna().sum()/len(df[col])) * 100,2)\n",
    "                                'unique',       # df[col].nunique()\n",
    "                                'uniqueSample'],# list(df[col].drop_duplicates().sample(2).values)])\n",
    "                     data=listItem)\n",
    "dfDesc\n",
    "\n"
   ]
  },
  {
   "cell_type": "code",
   "execution_count": 20,
   "id": "563e2fdf",
   "metadata": {
    "ExecuteTime": {
     "end_time": "2023-04-06T07:03:53.785583Z",
     "start_time": "2023-04-06T07:03:53.768594Z"
    },
    "id": "563e2fdf",
    "outputId": "a55d6796-7f16-42af-8062-1dcd7cb5d5da"
   },
   "outputs": [
    {
     "name": "stdout",
     "output_type": "stream",
     "text": [
      " jumlah data di dataframe: 99,187 ribu\n"
     ]
    }
   ],
   "source": [
    "print(f\" jumlah data di dataframe: {df.shape[0]:,} ribu\")"
   ]
  },
  {
   "cell_type": "code",
   "execution_count": 21,
   "id": "fXH97yjGaEn6",
   "metadata": {
    "ExecuteTime": {
     "end_time": "2023-04-06T07:03:55.502400Z",
     "start_time": "2023-04-06T07:03:55.386290Z"
    },
    "id": "fXH97yjGaEn6",
    "outputId": "4798602c-0e8a-4bf6-9011-1f85d333ae10"
   },
   "outputs": [
    {
     "name": "stdout",
     "output_type": "stream",
     "text": [
      "Jumlah data duplikat: 1,475 ribu\n"
     ]
    }
   ],
   "source": [
    "print(f\"Jumlah data duplikat: {df.duplicated().sum():,} ribu\" ) "
   ]
  },
  {
   "cell_type": "markdown",
   "id": "c47b2518",
   "metadata": {
    "id": "c47b2518"
   },
   "source": [
    "secara umum dapat dilihat bahwa:\n",
    "- Terdapat 99,187 ribu data\n",
    "- Terdapat 1,475 ribu data\n",
    "- Tidak ditemukan data kosong"
   ]
  },
  {
   "cell_type": "code",
   "execution_count": 22,
   "id": "15689fe5",
   "metadata": {
    "ExecuteTime": {
     "end_time": "2023-04-06T07:03:57.151186Z",
     "start_time": "2023-04-06T07:03:56.944159Z"
    },
    "id": "15689fe5",
    "outputId": "9dab6c94-8d50-4fd5-c099-d35d05c15ba9"
   },
   "outputs": [
    {
     "name": "stdout",
     "output_type": "stream",
     "text": [
      " jumlah duplikat setelah dilakukan fungsi drop_duplicated:  0\n"
     ]
    }
   ],
   "source": [
    "df.drop_duplicates(inplace=True)\n",
    "print(\" jumlah duplikat setelah dilakukan fungsi drop_duplicated: \", df.duplicated().sum())"
   ]
  },
  {
   "cell_type": "markdown",
   "id": "fb0e1d87",
   "metadata": {
    "id": "fb0e1d87"
   },
   "source": [
    "### Menghapus Nilai Space (*whitespace*) di dalam kolom model\n",
    "Terdapat nilai string space atau disebut sebagai \"whitespace\". Whitespace dapat terdiri dari spasi, tab, atau karakter baris baru dan dapat muncul di antara karakter-karakter dalam string, atau di awal atau akhir string. \n",
    "Terdapat *whitespace* pada kolom  `model`. Kami akan menghapus nilai tersebut sehingga karakter pertama pada nilai hanya karakter saja."
   ]
  },
  {
   "cell_type": "code",
   "execution_count": 23,
   "id": "tApwUiXKdgOV",
   "metadata": {
    "ExecuteTime": {
     "end_time": "2023-04-06T07:03:59.914376Z",
     "start_time": "2023-04-06T07:03:59.812301Z"
    },
    "id": "tApwUiXKdgOV"
   },
   "outputs": [],
   "source": [
    "df['model'] = df['model'].str.strip()"
   ]
  },
  {
   "cell_type": "markdown",
   "id": "f5af1041",
   "metadata": {
    "id": "f5af1041"
   },
   "source": [
    "### Adanya kesalahan Pada kolom Year\n"
   ]
  },
  {
   "cell_type": "code",
   "execution_count": 24,
   "id": "63c4ef68",
   "metadata": {
    "ExecuteTime": {
     "end_time": "2023-04-06T07:04:02.719531Z",
     "start_time": "2023-04-06T07:04:02.617458Z"
    },
    "id": "63c4ef68"
   },
   "outputs": [],
   "source": [
    "df['year'].max()\n",
    "df = df.drop(df[df['year']> 2023].index)"
   ]
  },
  {
   "cell_type": "markdown",
   "id": "df48bbeb",
   "metadata": {
    "id": "df48bbeb"
   },
   "source": [
    "terdapat kesalahan penginputan pada salah satu data di kolom year yang berisi 2060. Keadaan tersebut tidak mungkin karena terjadi di masa depan."
   ]
  },
  {
   "cell_type": "markdown",
   "id": "RUsa-Rktk7nW",
   "metadata": {
    "id": "RUsa-Rktk7nW"
   },
   "source": [
    "### Mencari Data Anomali di Kolom Transmisi"
   ]
  },
  {
   "cell_type": "code",
   "execution_count": 25,
   "id": "KRr8JxSalrEl",
   "metadata": {
    "ExecuteTime": {
     "end_time": "2023-04-06T07:04:06.029653Z",
     "start_time": "2023-04-06T07:04:05.995673Z"
    },
    "colab": {
     "base_uri": "https://localhost:8080/"
    },
    "executionInfo": {
     "elapsed": 872,
     "status": "ok",
     "timestamp": 1679895740694,
     "user": {
      "displayName": "Yuki",
      "userId": "17640100086142035958"
     },
     "user_tz": -420
    },
    "id": "KRr8JxSalrEl",
    "outputId": "1964225d-d456-43fa-9c71-e5d113c87468"
   },
   "outputs": [
    {
     "data": {
      "text/plain": [
       "Manual       55502\n",
       "Semi-Auto    22296\n",
       "Automatic    19904\n",
       "Other            9\n",
       "Name: transmission, dtype: int64"
      ]
     },
     "execution_count": 25,
     "metadata": {},
     "output_type": "execute_result"
    }
   ],
   "source": [
    "df['transmission'].value_counts()"
   ]
  },
  {
   "cell_type": "markdown",
   "id": "U1ypql9Nl4Ye",
   "metadata": {
    "id": "U1ypql9Nl4Ye"
   },
   "source": [
    "Terdapat value yang tidak diperlukan yaitu Other, karena menurut *Domain Knowledge* Transmisi hanya berkutat pada 3 tipe. \n",
    "- Manual \n",
    "- Semi-Auto \n",
    "- Automatic. \n",
    "\n",
    "kami akan mengganti nilai other terebut ke dalam nilai yang benar. "
   ]
  },
  {
   "cell_type": "code",
   "execution_count": 26,
   "id": "hBxDCm_mlrCL",
   "metadata": {
    "ExecuteTime": {
     "end_time": "2023-04-06T07:04:08.471626Z",
     "start_time": "2023-04-06T07:04:08.420656Z"
    },
    "colab": {
     "base_uri": "https://localhost:8080/",
     "height": 332
    },
    "executionInfo": {
     "elapsed": 349,
     "status": "ok",
     "timestamp": 1679895758105,
     "user": {
      "displayName": "Yuki",
      "userId": "17640100086142035958"
     },
     "user_tz": -420
    },
    "id": "hBxDCm_mlrCL",
    "outputId": "316d0846-d0ca-46a3-e9fa-7f406d6f8117"
   },
   "outputs": [
    {
     "data": {
      "text/html": [
       "<div>\n",
       "<style scoped>\n",
       "    .dataframe tbody tr th:only-of-type {\n",
       "        vertical-align: middle;\n",
       "    }\n",
       "\n",
       "    .dataframe tbody tr th {\n",
       "        vertical-align: top;\n",
       "    }\n",
       "\n",
       "    .dataframe thead th {\n",
       "        text-align: right;\n",
       "    }\n",
       "</style>\n",
       "<table border=\"1\" class=\"dataframe\">\n",
       "  <thead>\n",
       "    <tr style=\"text-align: right;\">\n",
       "      <th></th>\n",
       "      <th>model</th>\n",
       "      <th>year</th>\n",
       "      <th>price</th>\n",
       "      <th>transmission</th>\n",
       "      <th>mileage</th>\n",
       "      <th>fuelType</th>\n",
       "      <th>tax</th>\n",
       "      <th>mpg</th>\n",
       "      <th>engineSize</th>\n",
       "      <th>brand</th>\n",
       "    </tr>\n",
       "  </thead>\n",
       "  <tbody>\n",
       "    <tr>\n",
       "      <th>4739</th>\n",
       "      <td>Ioniq</td>\n",
       "      <td>2017</td>\n",
       "      <td>12495</td>\n",
       "      <td>Other</td>\n",
       "      <td>27779</td>\n",
       "      <td>Hybrid</td>\n",
       "      <td>0</td>\n",
       "      <td>78.5</td>\n",
       "      <td>1.6</td>\n",
       "      <td>hyundai</td>\n",
       "    </tr>\n",
       "    <tr>\n",
       "      <th>4761</th>\n",
       "      <td>Tucson</td>\n",
       "      <td>2017</td>\n",
       "      <td>16995</td>\n",
       "      <td>Other</td>\n",
       "      <td>25915</td>\n",
       "      <td>Petrol</td>\n",
       "      <td>145</td>\n",
       "      <td>39.8</td>\n",
       "      <td>1.6</td>\n",
       "      <td>hyundai</td>\n",
       "    </tr>\n",
       "    <tr>\n",
       "      <th>9650</th>\n",
       "      <td>GLA Class</td>\n",
       "      <td>2016</td>\n",
       "      <td>18700</td>\n",
       "      <td>Other</td>\n",
       "      <td>30895</td>\n",
       "      <td>Other</td>\n",
       "      <td>125</td>\n",
       "      <td>56.5</td>\n",
       "      <td>0.0</td>\n",
       "      <td>merc</td>\n",
       "    </tr>\n",
       "    <tr>\n",
       "      <th>12762</th>\n",
       "      <td>SLK</td>\n",
       "      <td>2015</td>\n",
       "      <td>12995</td>\n",
       "      <td>Other</td>\n",
       "      <td>39000</td>\n",
       "      <td>Diesel</td>\n",
       "      <td>150</td>\n",
       "      <td>56.5</td>\n",
       "      <td>2.1</td>\n",
       "      <td>merc</td>\n",
       "    </tr>\n",
       "    <tr>\n",
       "      <th>6126</th>\n",
       "      <td>Scala</td>\n",
       "      <td>2019</td>\n",
       "      <td>15999</td>\n",
       "      <td>Other</td>\n",
       "      <td>3500</td>\n",
       "      <td>Petrol</td>\n",
       "      <td>145</td>\n",
       "      <td>47.1</td>\n",
       "      <td>1.0</td>\n",
       "      <td>skoda</td>\n",
       "    </tr>\n",
       "    <tr>\n",
       "      <th>2458</th>\n",
       "      <td>Yaris</td>\n",
       "      <td>2015</td>\n",
       "      <td>12795</td>\n",
       "      <td>Other</td>\n",
       "      <td>16733</td>\n",
       "      <td>Hybrid</td>\n",
       "      <td>0</td>\n",
       "      <td>78.0</td>\n",
       "      <td>1.5</td>\n",
       "      <td>toyota</td>\n",
       "    </tr>\n",
       "    <tr>\n",
       "      <th>6704</th>\n",
       "      <td>Mokka</td>\n",
       "      <td>2019</td>\n",
       "      <td>19995</td>\n",
       "      <td>Other</td>\n",
       "      <td>1450</td>\n",
       "      <td>Diesel</td>\n",
       "      <td>145</td>\n",
       "      <td>57.7</td>\n",
       "      <td>1.5</td>\n",
       "      <td>vauxhall</td>\n",
       "    </tr>\n",
       "    <tr>\n",
       "      <th>7319</th>\n",
       "      <td>Mokka</td>\n",
       "      <td>2019</td>\n",
       "      <td>13499</td>\n",
       "      <td>Other</td>\n",
       "      <td>3000</td>\n",
       "      <td>Petrol</td>\n",
       "      <td>145</td>\n",
       "      <td>44.8</td>\n",
       "      <td>1.4</td>\n",
       "      <td>vauxhall</td>\n",
       "    </tr>\n",
       "    <tr>\n",
       "      <th>7422</th>\n",
       "      <td>Mokka</td>\n",
       "      <td>2019</td>\n",
       "      <td>22499</td>\n",
       "      <td>Other</td>\n",
       "      <td>4500</td>\n",
       "      <td>Petrol</td>\n",
       "      <td>145</td>\n",
       "      <td>42.2</td>\n",
       "      <td>1.5</td>\n",
       "      <td>vauxhall</td>\n",
       "    </tr>\n",
       "  </tbody>\n",
       "</table>\n",
       "</div>"
      ],
      "text/plain": [
       "           model  year  price transmission  mileage fuelType  tax   mpg  \\\n",
       "4739       Ioniq  2017  12495        Other    27779   Hybrid    0  78.5   \n",
       "4761      Tucson  2017  16995        Other    25915   Petrol  145  39.8   \n",
       "9650   GLA Class  2016  18700        Other    30895    Other  125  56.5   \n",
       "12762        SLK  2015  12995        Other    39000   Diesel  150  56.5   \n",
       "6126       Scala  2019  15999        Other     3500   Petrol  145  47.1   \n",
       "2458       Yaris  2015  12795        Other    16733   Hybrid    0  78.0   \n",
       "6704       Mokka  2019  19995        Other     1450   Diesel  145  57.7   \n",
       "7319       Mokka  2019  13499        Other     3000   Petrol  145  44.8   \n",
       "7422       Mokka  2019  22499        Other     4500   Petrol  145  42.2   \n",
       "\n",
       "       engineSize     brand  \n",
       "4739          1.6   hyundai  \n",
       "4761          1.6   hyundai  \n",
       "9650          0.0      merc  \n",
       "12762         2.1      merc  \n",
       "6126          1.0     skoda  \n",
       "2458          1.5    toyota  \n",
       "6704          1.5  vauxhall  \n",
       "7319          1.4  vauxhall  \n",
       "7422          1.5  vauxhall  "
      ]
     },
     "execution_count": 26,
     "metadata": {},
     "output_type": "execute_result"
    }
   ],
   "source": [
    "df[df['transmission'] == 'Other']\n"
   ]
  },
  {
   "cell_type": "markdown",
   "id": "5d_35OfgnVkS",
   "metadata": {
    "id": "5d_35OfgnVkS"
   },
   "source": [
    "Setelah kami pelajari, kami akan menggantikan nilai Other menjadi Automatic"
   ]
  },
  {
   "cell_type": "code",
   "execution_count": 27,
   "id": "0dZyeDktlrAD",
   "metadata": {
    "ExecuteTime": {
     "end_time": "2023-04-06T07:04:10.019655Z",
     "start_time": "2023-04-06T07:04:10.002665Z"
    },
    "id": "0dZyeDktlrAD"
   },
   "outputs": [],
   "source": [
    "df['transmission'] = df['transmission'].replace('Other', 'Automatic')"
   ]
  },
  {
   "cell_type": "markdown",
   "id": "DnwrEuKInweB",
   "metadata": {
    "id": "DnwrEuKInweB"
   },
   "source": [
    "### Anomali *value* *Other* pada kolom `fuelType`"
   ]
  },
  {
   "cell_type": "markdown",
   "id": "3cc2cabc",
   "metadata": {
    "id": "3cc2cabc"
   },
   "source": [
    "Arti dari kategori di kolom fuelType.\n",
    "\n",
    "fuelType adalah kolom yang berisi bahan bakar apa yang digunakan oleh setiap mobil bekas. terdapat 5 kolom tipe fuelType\n",
    "1. Petrol: bahan bakar jenis bensin\n",
    "2. Diesel: bahan bakar solar\n",
    "3. Hybrid: mobil dengan dua jenis bahan bakar, yaitu bensin dan listrik\n",
    "4. Electric: mobil listrik\n",
    "5. Other: bahan bakar lain selain yang disebutkan di atas. namun kemungkinan besar adalah penjual tidak mengerti mobilnya masuk ke dalam kategori di atas.\n",
    "\n"
   ]
  },
  {
   "cell_type": "code",
   "execution_count": 28,
   "id": "JImgy8KFlq7y",
   "metadata": {
    "ExecuteTime": {
     "end_time": "2023-04-06T07:04:13.359070Z",
     "start_time": "2023-04-06T07:04:13.321092Z"
    },
    "colab": {
     "base_uri": "https://localhost:8080/"
    },
    "executionInfo": {
     "elapsed": 349,
     "status": "ok",
     "timestamp": 1679896304994,
     "user": {
      "displayName": "Yuki",
      "userId": "17640100086142035958"
     },
     "user_tz": -420
    },
    "id": "JImgy8KFlq7y",
    "outputId": "9c49faf5-d87e-47ea-a627-8186f9202487"
   },
   "outputs": [
    {
     "data": {
      "text/plain": [
       "Petrol      53981\n",
       "Diesel      40419\n",
       "Hybrid       3059\n",
       "Other         246\n",
       "Electric        6\n",
       "Name: fuelType, dtype: int64"
      ]
     },
     "execution_count": 28,
     "metadata": {},
     "output_type": "execute_result"
    }
   ],
   "source": [
    "df['fuelType'].value_counts()"
   ]
  },
  {
   "cell_type": "code",
   "execution_count": 29,
   "id": "7e250ba4",
   "metadata": {
    "ExecuteTime": {
     "end_time": "2023-04-06T07:04:14.455644Z",
     "start_time": "2023-04-06T07:04:14.419665Z"
    },
    "id": "7e250ba4",
    "outputId": "c40933fd-9a14-421c-aaf5-0ebe4536a53e"
   },
   "outputs": [
    {
     "data": {
      "text/plain": [
       "246"
      ]
     },
     "execution_count": 29,
     "metadata": {},
     "output_type": "execute_result"
    }
   ],
   "source": [
    "total_other = len(df[df['fuelType'] == 'Other'])\n",
    "total_other"
   ]
  },
  {
   "cell_type": "code",
   "execution_count": 30,
   "id": "373043d8",
   "metadata": {
    "ExecuteTime": {
     "end_time": "2023-04-06T07:04:16.113294Z",
     "start_time": "2023-04-06T07:04:15.579620Z"
    },
    "id": "373043d8",
    "outputId": "aa83aa6f-396a-4623-aaaa-0f2c8237bede"
   },
   "outputs": [
    {
     "data": {
      "image/png": "[encoded data removed]",
      "text/plain": [
       "<Figure size 1000x500 with 1 Axes>"
      ]
     },
     "metadata": {},
     "output_type": "display_data"
    }
   ],
   "source": [
    "plt.figure(figsize=(10, 5))\n",
    "df_other = df.query(\"fuelType == 'Other'\")\n",
    "df_other_count = df_other.groupby('brand').size().reset_index(name='count').sort_values('count', ascending=False)\n",
    "ax = sns.countplot(x='brand', data=df.query(\"fuelType == 'Other' \"), order=df_other_count['brand'])\n",
    "# memberikan label jumlah di dalam bar\n",
    "for p in ax.patches:\n",
    "    ax.annotate(p.get_height(), (p.get_x() + p.get_width() / 2., p.get_height()), ha='center', va='center', xytext=(0, 5), textcoords='offset points')\n",
    "# memberikan judul pada plot\n",
    "plt.title('Jumlah tipe other fuelType pada brand')\n",
    "formatter = ticker.StrMethodFormatter('{x:,.0f}')\n",
    "plt.gca().yaxis.set_major_formatter(formatter)\n",
    "# menampilkan plot\n",
    "plt.show()"
   ]
  },
  {
   "cell_type": "markdown",
   "id": "gJRs3kjBn3qS",
   "metadata": {
    "id": "gJRs3kjBn3qS"
   },
   "source": [
    "Terdapat anomali value Other berjumlah 246 pada kolom fuelType yang harus diberi perlakuan berdasarkan *Domain Knowledge* dengan kesalahan yang besar pada brand Toyota. Strategi yang akan dilakukan adalah melihat dari masing-masing brand"
   ]
  },
  {
   "cell_type": "markdown",
   "id": "9fIEmN_tpwI-",
   "metadata": {
    "id": "9fIEmN_tpwI-"
   },
   "source": [
    "Terdapat 246 data yang pada kolom fuel Type yang berisi Other, walaupun data tersebut hanya 0.25% dari jumlah data. kami ingin melakukan melakukan analisis berdasarkan *Domain Knowledge* untuk mengganti nilai tersebut menjadi nilai yang tepat berdasarkan brand, engineSeize, dan modelnya. \n"
   ]
  },
  {
   "cell_type": "markdown",
   "id": "4vKEP6XQ1rLj",
   "metadata": {
    "id": "4vKEP6XQ1rLj"
   },
   "source": [
    "berdasarkan *Domain Knowledge* terkait mobil. Ada beberapa model mobil yang berbahan bakar elekrtrik dan beberapa dari BMW i3 dan BMW i8 yang hybrid. Namun, saat dilakukan pengecekan dari 43 data model i3. Hanya ada satu model yang memiliki engineSize (menggunakan pengapian) yang berarti data tersebut masuk ke dalam kolom bahan bakar hybrid.\n",
    "\n",
    "\n",
    "berdasarkan data *Domain Knowledge* bahwa model Toyota Prius berbahan bakar hybrid. Kami akan memasukkan memasukan model-model tersebut ke dalam bahan bakar yang tepat. "
   ]
  },
  {
   "cell_type": "markdown",
   "id": "26f82e66",
   "metadata": {
    "id": "26f82e66"
   },
   "source": [
    "### *Domain Knowledge* model mobil yang masuk kategori hybrid atau elektrik"
   ]
  },
  {
   "cell_type": "markdown",
   "id": "4ded5751",
   "metadata": {
    "id": "4ded5751"
   },
   "source": [
    "Menurut penelusaran yang kami lakukan kepada model seri **i** merk BMW adalah elektrik. Jika memiliki nomor di di kolom engineSize maka mereka masuk ke dalam kategori hybrid."
   ]
  },
  {
   "cell_type": "markdown",
   "id": "Oyxer1NY47i6",
   "metadata": {
    "id": "Oyxer1NY47i6"
   },
   "source": [
    "### Berdasarkan merk BMW"
   ]
  },
  {
   "cell_type": "code",
   "execution_count": 31,
   "id": "819fe5bf",
   "metadata": {
    "ExecuteTime": {
     "end_time": "2023-04-06T07:04:19.641743Z",
     "start_time": "2023-04-06T07:04:19.115695Z"
    },
    "id": "819fe5bf",
    "outputId": "e9b7c391-786b-44bf-cd13-79bea04f579f"
   },
   "outputs": [
    {
     "data": {
      "image/png": "[encoded data removed]",
      "text/plain": [
       "<Figure size 1000x500 with 1 Axes>"
      ]
     },
     "metadata": {},
     "output_type": "display_data"
    }
   ],
   "source": [
    "plt.figure(figsize=(10, 5))\n",
    "ax = sns.countplot(x='model', data=df.query(\"fuelType == 'Other' and brand == 'bmw' \"))\n",
    "# memberikan label jumlah di dalam bar\n",
    "for p in ax.patches:\n",
    "    ax.annotate(p.get_height(), (p.get_x() + p.get_width() / 2., p.get_height()), ha='center', va='center', xytext=(0, 5), textcoords='offset points')\n",
    "# memberikan judul pada plot\n",
    "plt.title('Jumlah model tipe other fuelType pada brand BMW')\n",
    "formatter = ticker.StrMethodFormatter('{x:,.0f}')\n",
    "plt.gca().yaxis.set_major_formatter(formatter)\n",
    "# menampilkan plot\n",
    "plt.show()"
   ]
  },
  {
   "cell_type": "code",
   "execution_count": 32,
   "id": "678f6960",
   "metadata": {
    "ExecuteTime": {
     "end_time": "2023-04-06T07:04:22.155763Z",
     "start_time": "2023-04-06T07:04:22.080874Z"
    },
    "id": "678f6960"
   },
   "outputs": [],
   "source": [
    "df.loc[df['model'] == 'i3', 'fuelType'] = df.loc[df['model'] == 'i3'].apply(lambda x: 'Hybrid' \n",
    "                                                                            if x['engineSize'] > 0 \n",
    "                                                                            else 'Electric', \n",
    "                                                                            axis=1)\n",
    "df.loc[df['model']=='i8', 'fuelType'] = df.loc[df['model']=='i8'].apply(lambda x: 'Hybrid' \n",
    "                                                                        if x['engineSize']> 0 \n",
    "                                                                        else 'Electric', \n",
    "                                                                        axis=1)"
   ]
  },
  {
   "cell_type": "markdown",
   "id": "677b80ef",
   "metadata": {
    "id": "677b80ef"
   },
   "source": [
    "Diketahui bahwa model i3 dan i8 adalah seri model BMW yang memang berbahan Electric dan Hybrid."
   ]
  },
  {
   "cell_type": "code",
   "execution_count": 33,
   "id": "0f6ef7b7",
   "metadata": {
    "ExecuteTime": {
     "end_time": "2023-04-06T07:04:23.959127Z",
     "start_time": "2023-04-06T07:04:23.912155Z"
    },
    "id": "0f6ef7b7"
   },
   "outputs": [],
   "source": [
    "df.loc[(df['model']=='X5') & (df['fuelType']=='Other'), 'fuelType'] = 'Diesel'"
   ]
  },
  {
   "cell_type": "markdown",
   "id": "dfd3af66",
   "metadata": {
    "id": "dfd3af66"
   },
   "source": [
    "diketahui bahwa model X5 dengan mpg lebih dari 70 menggunakan bahan bakar Diesel."
   ]
  },
  {
   "cell_type": "markdown",
   "id": "bc813133",
   "metadata": {
    "id": "bc813133"
   },
   "source": [
    "Untuk mempersingkat waktu. Pada model merk BMW lainnya. Kami akan mengganti fuelType menjadi Petrol karena banyak data mengacu kepada tipe bahan bakar Petrol"
   ]
  },
  {
   "cell_type": "code",
   "execution_count": 34,
   "id": "daf2f4f7",
   "metadata": {
    "ExecuteTime": {
     "end_time": "2023-04-06T07:04:26.797413Z",
     "start_time": "2023-04-06T07:04:26.760436Z"
    },
    "id": "daf2f4f7"
   },
   "outputs": [],
   "source": [
    "df.loc[(df['brand']=='bmw') & (df['fuelType']=='Other'), 'fuelType'] = 'Petrol'"
   ]
  },
  {
   "cell_type": "markdown",
   "id": "e44ac39e",
   "metadata": {
    "id": "e44ac39e"
   },
   "source": [
    "### Berdasarkan merk Toyota"
   ]
  },
  {
   "cell_type": "code",
   "execution_count": 35,
   "id": "deace05e",
   "metadata": {
    "ExecuteTime": {
     "end_time": "2023-04-06T07:04:30.234782Z",
     "start_time": "2023-04-06T07:04:29.719658Z"
    },
    "id": "deace05e",
    "outputId": "18ae6e81-ed87-4ec7-8a91-2d9f83ab9ad1"
   },
   "outputs": [
    {
     "data": {
      "image/png": "[encoded data removed]",
      "text/plain": [
       "<Figure size 1000x500 with 1 Axes>"
      ]
     },
     "metadata": {},
     "output_type": "display_data"
    }
   ],
   "source": [
    "plt.figure(figsize=(10, 5))\n",
    "# membuat array berisi nama-nama model yang telah diurutkan berdasarkan jumlah terbesar terlebih dahulu\n",
    "model_order = df.query(\"fuelType == 'Other' and brand == 'toyota'\")['model'].value_counts().index.tolist()\n",
    "ax = sns.countplot(x='model', data=df.query(\"fuelType == 'Other' and brand == 'toyota' \"), order=model_order)\n",
    "# memberikan label jumlah di dalam bar\n",
    "for p in ax.patches:\n",
    "    ax.annotate(p.get_height(), \n",
    "    (p.get_x() + p.get_width() / 2., p.get_height()), \n",
    "    ha='center', \n",
    "    va='center', \n",
    "    xytext=(0, 5), \n",
    "    textcoords='offset points')\n",
    "# memberikan judul pada plot\n",
    "plt.title('Jumlah model tipe other fuelType pada brand Toyota')\n",
    "formatter = ticker.StrMethodFormatter('{x:,.0f}')\n",
    "plt.gca().yaxis.set_major_formatter(formatter)\n",
    "# menampilkan plot\n",
    "plt.show()\n"
   ]
  },
  {
   "cell_type": "code",
   "execution_count": 36,
   "id": "eab8cc99",
   "metadata": {
    "ExecuteTime": {
     "end_time": "2023-04-06T07:04:32.809846Z",
     "start_time": "2023-04-06T07:04:32.777866Z"
    },
    "id": "eab8cc99",
    "outputId": "d9935c3e-5bb0-46a2-ab58-109c56439f6a"
   },
   "outputs": [
    {
     "data": {
      "text/plain": [
       "Petrol    1881\n",
       "Other       59\n",
       "Name: fuelType, dtype: int64"
      ]
     },
     "execution_count": 36,
     "metadata": {},
     "output_type": "execute_result"
    }
   ],
   "source": [
    "aygo = df.query(\" model == 'Aygo' \")\n",
    "aygo['fuelType'].value_counts()"
   ]
  },
  {
   "cell_type": "markdown",
   "id": "f1d20c6b",
   "metadata": {
    "id": "f1d20c6b"
   },
   "source": [
    "Diketahui bahwa model Aygo adalah model mobil Toyota yang berbahan bakar Petrol. Kami akan mengganti nilai Other pada model Aygo menjadi Petrol"
   ]
  },
  {
   "cell_type": "code",
   "execution_count": 37,
   "id": "2ca2c040",
   "metadata": {
    "ExecuteTime": {
     "end_time": "2023-04-06T07:04:34.345715Z",
     "start_time": "2023-04-06T07:04:34.306738Z"
    },
    "id": "2ca2c040"
   },
   "outputs": [],
   "source": [
    "df.loc[(df['model']=='Aygo') & (df['fuelType']=='Other'), 'fuelType'] = 'Petrol'"
   ]
  },
  {
   "cell_type": "markdown",
   "id": "73f26c3a",
   "metadata": {
    "id": "73f26c3a"
   },
   "source": [
    "#### model Prius"
   ]
  },
  {
   "cell_type": "code",
   "execution_count": 38,
   "id": "586e249e",
   "metadata": {
    "ExecuteTime": {
     "end_time": "2023-04-06T07:04:35.663195Z",
     "start_time": "2023-04-06T07:04:35.627215Z"
    },
    "id": "586e249e",
    "outputId": "8a904677-8be6-41de-c632-69d02242b8aa"
   },
   "outputs": [
    {
     "data": {
      "text/plain": [
       "Hybrid    214\n",
       "Other      18\n",
       "Name: fuelType, dtype: int64"
      ]
     },
     "execution_count": 38,
     "metadata": {},
     "output_type": "execute_result"
    }
   ],
   "source": [
    "prius = df.query(\" brand == 'toyota' and model == 'Prius' \")\n",
    "prius['fuelType'].value_counts()"
   ]
  },
  {
   "cell_type": "code",
   "execution_count": 39,
   "id": "04ff6ff0",
   "metadata": {
    "ExecuteTime": {
     "end_time": "2023-04-06T07:04:37.237530Z",
     "start_time": "2023-04-06T07:04:37.190561Z"
    },
    "id": "04ff6ff0"
   },
   "outputs": [],
   "source": [
    "df.loc[(df['model']=='Prius') & (df['fuelType']=='Other'), 'fuelType'] = 'Hybrid'"
   ]
  },
  {
   "cell_type": "markdown",
   "id": "aaaea7ac",
   "metadata": {
    "id": "aaaea7ac"
   },
   "source": [
    "Diketahui bahwa model Prius merukapan model mobil Toyota yang berbahan bakar Hybrid. maka, kami akan mengganti nilai Other menjadi Hybrid semua."
   ]
  },
  {
   "cell_type": "markdown",
   "id": "485af02d",
   "metadata": {
    "id": "485af02d"
   },
   "source": [
    "#### Model Yaris"
   ]
  },
  {
   "cell_type": "code",
   "execution_count": 40,
   "id": "21f6465d",
   "metadata": {
    "ExecuteTime": {
     "end_time": "2023-04-06T07:04:39.192961Z",
     "start_time": "2023-04-06T07:04:39.167976Z"
    },
    "id": "21f6465d",
    "outputId": "c2ffc29d-8c4d-42ff-d461-6d84d075e86e"
   },
   "outputs": [
    {
     "data": {
      "text/plain": [
       "Petrol    1529\n",
       "Hybrid     556\n",
       "Diesel      22\n",
       "Other       10\n",
       "Name: fuelType, dtype: int64"
      ]
     },
     "execution_count": 40,
     "metadata": {},
     "output_type": "execute_result"
    }
   ],
   "source": [
    "yaris = df.query(\"model == 'Yaris'\")\n",
    "yaris['fuelType'].value_counts()"
   ]
  },
  {
   "cell_type": "markdown",
   "id": "97a5a7f0",
   "metadata": {
    "id": "97a5a7f0"
   },
   "source": [
    "Karena kami kesulitan untuk mengganti di model ini. Kami akhirnya akan mengganti nilai Other dengan modus dari model Yaris"
   ]
  },
  {
   "cell_type": "code",
   "execution_count": 41,
   "id": "92ad5dee",
   "metadata": {
    "ExecuteTime": {
     "end_time": "2023-04-06T07:04:41.298847Z",
     "start_time": "2023-04-06T07:04:41.247857Z"
    },
    "id": "92ad5dee"
   },
   "outputs": [],
   "source": [
    "yaris = df.query(\"model == 'Yaris'\")\n",
    "modus_fuelType_yaris = yaris['fuelType'].mode()\n",
    "\n",
    "df.loc[(df['model']=='Yaris') & (df['fuelType']=='Other'), 'fuelType'] = modus_fuelType_yaris"
   ]
  },
  {
   "cell_type": "markdown",
   "id": "4d5714b9",
   "metadata": {
    "id": "4d5714b9"
   },
   "source": [
    "#### Model C-HR"
   ]
  },
  {
   "cell_type": "code",
   "execution_count": 42,
   "id": "459c921f",
   "metadata": {
    "ExecuteTime": {
     "end_time": "2023-04-06T07:04:43.436949Z",
     "start_time": "2023-04-06T07:04:43.414940Z"
    },
    "id": "459c921f",
    "outputId": "a3647624-c2a7-4593-f87b-fad8afeb8a6f"
   },
   "outputs": [
    {
     "data": {
      "text/plain": [
       "Hybrid    352\n",
       "Petrol    120\n",
       "Other       7\n",
       "Name: fuelType, dtype: int64"
      ]
     },
     "execution_count": 42,
     "metadata": {},
     "output_type": "execute_result"
    }
   ],
   "source": [
    "chr = df.query(\" model == 'C-HR'  \")\n",
    "chr['fuelType'].value_counts()"
   ]
  },
  {
   "cell_type": "code",
   "execution_count": 43,
   "id": "b10c8189",
   "metadata": {
    "ExecuteTime": {
     "end_time": "2023-04-06T07:04:44.736207Z",
     "start_time": "2023-04-06T07:04:44.719218Z"
    },
    "id": "b10c8189",
    "outputId": "e757b4c6-7035-4b98-9581-2caaa34b0d3e"
   },
   "outputs": [
    {
     "data": {
      "text/plain": [
       "Hybrid    93\n",
       "Petrol     1\n",
       "Name: fuelType, dtype: int64"
      ]
     },
     "execution_count": 43,
     "metadata": {},
     "output_type": "execute_result"
    }
   ],
   "source": [
    "chr.query(\"tax == 0\")['fuelType'].value_counts()"
   ]
  },
  {
   "cell_type": "markdown",
   "id": "5637b75b",
   "metadata": {
    "id": "5637b75b"
   },
   "source": [
    "Diketahui bahwa value Other pada model C-HR berpotensi menggunakan bahan bakar petrol. Kami akan menggantinya ke bahan bakar petrol "
   ]
  },
  {
   "cell_type": "code",
   "execution_count": 44,
   "id": "c3ae62bc",
   "metadata": {
    "ExecuteTime": {
     "end_time": "2023-04-06T07:04:46.562197Z",
     "start_time": "2023-04-06T07:04:46.529216Z"
    },
    "id": "c3ae62bc"
   },
   "outputs": [],
   "source": [
    "df.loc[(df['model']=='C-HR') & (df['fuelType']=='Other'), 'fuelType'] = 'Petrol'"
   ]
  },
  {
   "cell_type": "code",
   "execution_count": 45,
   "id": "56d558c2",
   "metadata": {
    "ExecuteTime": {
     "end_time": "2023-04-06T07:04:47.644327Z",
     "start_time": "2023-04-06T07:04:47.616344Z"
    },
    "id": "56d558c2",
    "outputId": "ccffd5b8-61b0-4284-9d07-b3fb24e163bb"
   },
   "outputs": [
    {
     "data": {
      "text/plain": [
       "Petrol      54072\n",
       "Diesel      40422\n",
       "Hybrid       3053\n",
       "Other         116\n",
       "Electric       38\n",
       "Name: fuelType, dtype: int64"
      ]
     },
     "execution_count": 45,
     "metadata": {},
     "output_type": "execute_result"
    }
   ],
   "source": [
    "value_counts_fuel = df['fuelType'].value_counts()\n",
    "value_counts_fuel"
   ]
  },
  {
   "cell_type": "markdown",
   "id": "db2327fb",
   "metadata": {
    "id": "db2327fb"
   },
   "source": [
    "Brand Toyota memiliki banyak data yang fuelType-nya berisi Other. Kami akan melakukan analisis secara *domain knwoledge* mencari model yang sudah elektrik atau tidak."
   ]
  },
  {
   "cell_type": "markdown",
   "id": "d9f6973f",
   "metadata": {
    "id": "d9f6973f"
   },
   "source": [
    "### Brand VolksWagen"
   ]
  },
  {
   "cell_type": "code",
   "execution_count": 46,
   "id": "09d6181e",
   "metadata": {
    "ExecuteTime": {
     "end_time": "2023-04-06T07:04:50.189669Z",
     "start_time": "2023-04-06T07:04:49.600156Z"
    },
    "id": "09d6181e",
    "outputId": "0b50cf84-b17b-4379-e559-3773ebf4f370"
   },
   "outputs": [
    {
     "data": {
      "image/png": "[encoded data removed]",
      "text/plain": [
       "<Figure size 1000x500 with 1 Axes>"
      ]
     },
     "metadata": {},
     "output_type": "display_data"
    }
   ],
   "source": [
    "plt.figure(figsize=(10, 5))\n",
    "# membuat array berisi nama-nama model yang telah diurutkan berdasarkan jumlah terbesar terlebih dahulu\n",
    "model_order = df.query(\"fuelType == 'Other' and brand == 'vw'\")['model'].value_counts().index.tolist()\n",
    "ax = sns.countplot(x='model', data=df.query(\"fuelType == 'Other' and brand == 'vw' \"), order=model_order)\n",
    "# memberikan label jumlah di dalam bar\n",
    "for p in ax.patches:\n",
    "    ax.annotate(p.get_height(), \n",
    "    (p.get_x() + p.get_width() / 2., p.get_height()), \n",
    "    ha='center', \n",
    "    va='center', \n",
    "    xytext=(0, 5), \n",
    "    textcoords='offset points')\n",
    "# memberikan judul pada plot\n",
    "plt.title('Jumlah model tipe other fuelType pada brand VolksWagen')\n",
    "formatter = ticker.StrMethodFormatter('{x:,.0f}')\n",
    "plt.gca().yaxis.set_major_formatter(formatter)\n",
    "# menampilkan plot\n",
    "plt.show()"
   ]
  },
  {
   "cell_type": "markdown",
   "id": "e2a49373",
   "metadata": {
    "id": "e2a49373"
   },
   "source": [
    "#### Model Golf"
   ]
  },
  {
   "cell_type": "code",
   "execution_count": 47,
   "id": "e9ba3159",
   "metadata": {
    "ExecuteTime": {
     "end_time": "2023-04-06T07:04:52.433261Z",
     "start_time": "2023-04-06T07:04:52.399282Z"
    },
    "id": "e9ba3159",
    "outputId": "c6dee755-904a-403a-cf01-3da0a8e3581f"
   },
   "outputs": [
    {
     "data": {
      "text/plain": [
       "Petrol    2669\n",
       "Diesel    2015\n",
       "Hybrid      85\n",
       "Other       28\n",
       "Name: fuelType, dtype: int64"
      ]
     },
     "execution_count": 47,
     "metadata": {},
     "output_type": "execute_result"
    }
   ],
   "source": [
    "golf = df.query(\" model == 'Golf'  \")\n",
    "golf['fuelType'].value_counts()"
   ]
  },
  {
   "cell_type": "markdown",
   "id": "76017ba5",
   "metadata": {
    "id": "76017ba5"
   },
   "source": [
    "Berdasarkan penelusuran bahwa terlihat model Golf tidak ada berbahan bakar elektrik. Bahan bakar Hybrid mempunyai pola MPGnya melebihi 100. kami akan mengganti nilai Other yang MPG 100 menjadi Hybrid dan sisanya kami ganti dengan banyaknya frekuensi karena kami tidak mendapatkan pola pasti terhadap Petrol dan Diesel"
   ]
  },
  {
   "cell_type": "code",
   "execution_count": 48,
   "id": "56f91884",
   "metadata": {
    "ExecuteTime": {
     "end_time": "2023-04-06T07:04:54.371066Z",
     "start_time": "2023-04-06T07:04:54.335088Z"
    },
    "id": "56f91884",
    "outputId": "2612aa59-3592-463a-979b-9b10d570b55f"
   },
   "outputs": [
    {
     "data": {
      "text/html": [
       "<div>\n",
       "<style scoped>\n",
       "    .dataframe tbody tr th:only-of-type {\n",
       "        vertical-align: middle;\n",
       "    }\n",
       "\n",
       "    .dataframe tbody tr th {\n",
       "        vertical-align: top;\n",
       "    }\n",
       "\n",
       "    .dataframe thead th {\n",
       "        text-align: right;\n",
       "    }\n",
       "</style>\n",
       "<table border=\"1\" class=\"dataframe\">\n",
       "  <thead>\n",
       "    <tr style=\"text-align: right;\">\n",
       "      <th></th>\n",
       "      <th>model</th>\n",
       "      <th>year</th>\n",
       "      <th>price</th>\n",
       "      <th>transmission</th>\n",
       "      <th>mileage</th>\n",
       "      <th>fuelType</th>\n",
       "      <th>tax</th>\n",
       "      <th>mpg</th>\n",
       "      <th>engineSize</th>\n",
       "      <th>brand</th>\n",
       "    </tr>\n",
       "  </thead>\n",
       "  <tbody>\n",
       "    <tr>\n",
       "      <th>4415</th>\n",
       "      <td>Golf</td>\n",
       "      <td>2016</td>\n",
       "      <td>19000</td>\n",
       "      <td>Automatic</td>\n",
       "      <td>29000</td>\n",
       "      <td>Other</td>\n",
       "      <td>0</td>\n",
       "      <td>188.3</td>\n",
       "      <td>1.4</td>\n",
       "      <td>vw</td>\n",
       "    </tr>\n",
       "    <tr>\n",
       "      <th>4457</th>\n",
       "      <td>Golf</td>\n",
       "      <td>2016</td>\n",
       "      <td>18500</td>\n",
       "      <td>Automatic</td>\n",
       "      <td>30000</td>\n",
       "      <td>Other</td>\n",
       "      <td>0</td>\n",
       "      <td>188.3</td>\n",
       "      <td>1.4</td>\n",
       "      <td>vw</td>\n",
       "    </tr>\n",
       "    <tr>\n",
       "      <th>4536</th>\n",
       "      <td>Golf</td>\n",
       "      <td>2016</td>\n",
       "      <td>16940</td>\n",
       "      <td>Automatic</td>\n",
       "      <td>55675</td>\n",
       "      <td>Other</td>\n",
       "      <td>0</td>\n",
       "      <td>188.3</td>\n",
       "      <td>1.4</td>\n",
       "      <td>vw</td>\n",
       "    </tr>\n",
       "    <tr>\n",
       "      <th>4693</th>\n",
       "      <td>Golf</td>\n",
       "      <td>2016</td>\n",
       "      <td>15000</td>\n",
       "      <td>Semi-Auto</td>\n",
       "      <td>62158</td>\n",
       "      <td>Other</td>\n",
       "      <td>0</td>\n",
       "      <td>188.3</td>\n",
       "      <td>1.4</td>\n",
       "      <td>vw</td>\n",
       "    </tr>\n",
       "    <tr>\n",
       "      <th>5366</th>\n",
       "      <td>Golf</td>\n",
       "      <td>2016</td>\n",
       "      <td>14795</td>\n",
       "      <td>Automatic</td>\n",
       "      <td>77198</td>\n",
       "      <td>Other</td>\n",
       "      <td>0</td>\n",
       "      <td>188.3</td>\n",
       "      <td>1.4</td>\n",
       "      <td>vw</td>\n",
       "    </tr>\n",
       "    <tr>\n",
       "      <th>5521</th>\n",
       "      <td>Golf</td>\n",
       "      <td>2017</td>\n",
       "      <td>18500</td>\n",
       "      <td>Automatic</td>\n",
       "      <td>24397</td>\n",
       "      <td>Other</td>\n",
       "      <td>135</td>\n",
       "      <td>166.2</td>\n",
       "      <td>1.4</td>\n",
       "      <td>vw</td>\n",
       "    </tr>\n",
       "    <tr>\n",
       "      <th>5574</th>\n",
       "      <td>Golf</td>\n",
       "      <td>2018</td>\n",
       "      <td>22495</td>\n",
       "      <td>Automatic</td>\n",
       "      <td>26982</td>\n",
       "      <td>Other</td>\n",
       "      <td>135</td>\n",
       "      <td>156.9</td>\n",
       "      <td>1.4</td>\n",
       "      <td>vw</td>\n",
       "    </tr>\n",
       "  </tbody>\n",
       "</table>\n",
       "</div>"
      ],
      "text/plain": [
       "     model  year  price transmission  mileage fuelType  tax    mpg  \\\n",
       "4415  Golf  2016  19000    Automatic    29000    Other    0  188.3   \n",
       "4457  Golf  2016  18500    Automatic    30000    Other    0  188.3   \n",
       "4536  Golf  2016  16940    Automatic    55675    Other    0  188.3   \n",
       "4693  Golf  2016  15000    Semi-Auto    62158    Other    0  188.3   \n",
       "5366  Golf  2016  14795    Automatic    77198    Other    0  188.3   \n",
       "5521  Golf  2017  18500    Automatic    24397    Other  135  166.2   \n",
       "5574  Golf  2018  22495    Automatic    26982    Other  135  156.9   \n",
       "\n",
       "      engineSize brand  \n",
       "4415         1.4    vw  \n",
       "4457         1.4    vw  \n",
       "4536         1.4    vw  \n",
       "4693         1.4    vw  \n",
       "5366         1.4    vw  \n",
       "5521         1.4    vw  \n",
       "5574         1.4    vw  "
      ]
     },
     "execution_count": 48,
     "metadata": {},
     "output_type": "execute_result"
    }
   ],
   "source": [
    "golf.query(\"fuelType == 'Other' and mpg > 100\")\n"
   ]
  },
  {
   "cell_type": "code",
   "execution_count": 49,
   "id": "5e9bc93c",
   "metadata": {
    "ExecuteTime": {
     "end_time": "2023-04-06T07:04:56.709958Z",
     "start_time": "2023-04-06T07:04:56.662986Z"
    },
    "id": "5e9bc93c"
   },
   "outputs": [],
   "source": [
    "df.loc[(df['model'] == 'Golf') & (df['fuelType']=='Other') , 'fuelType'] = df.loc[(df['model'] == 'Golf') & (df['fuelType']=='Other')].apply(lambda x: 'Hybrid' \n",
    "                                                                            if x['mpg'] > 100 \n",
    "                                                                            else 'Petrol', \n",
    "                                                                            axis=1)"
   ]
  },
  {
   "cell_type": "code",
   "execution_count": 50,
   "id": "afe8e2b7",
   "metadata": {
    "ExecuteTime": {
     "end_time": "2023-04-06T07:04:58.472973Z",
     "start_time": "2023-04-06T07:04:58.446968Z"
    },
    "id": "afe8e2b7",
    "outputId": "d9a405f4-9039-4028-f85e-3a7f24706314"
   },
   "outputs": [
    {
     "data": {
      "text/plain": [
       "Petrol    2690\n",
       "Diesel    2015\n",
       "Hybrid      92\n",
       "Name: fuelType, dtype: int64"
      ]
     },
     "execution_count": 50,
     "metadata": {},
     "output_type": "execute_result"
    }
   ],
   "source": [
    "df.query(\"model == 'Golf' \")['fuelType'].value_counts()"
   ]
  },
  {
   "cell_type": "markdown",
   "id": "b2170b7f",
   "metadata": {
    "id": "b2170b7f"
   },
   "source": [
    "#### Model Tiguan"
   ]
  },
  {
   "cell_type": "code",
   "execution_count": 51,
   "id": "8298339b",
   "metadata": {
    "ExecuteTime": {
     "end_time": "2023-04-06T07:04:59.802012Z",
     "start_time": "2023-04-06T07:04:59.775028Z"
    },
    "id": "8298339b",
    "outputId": "0ab2fb48-6964-48f1-9f94-4eb3801212a9"
   },
   "outputs": [
    {
     "data": {
      "text/plain": [
       "Diesel    1327\n",
       "Petrol     399\n",
       "Other       17\n",
       "Name: fuelType, dtype: int64"
      ]
     },
     "execution_count": 51,
     "metadata": {},
     "output_type": "execute_result"
    }
   ],
   "source": [
    "tiguan = df.query(\" model == 'Tiguan' \")\n",
    "tiguan['fuelType'].value_counts()"
   ]
  },
  {
   "cell_type": "markdown",
   "id": "02df32ff",
   "metadata": {
    "id": "02df32ff"
   },
   "source": [
    "#### Model Touran"
   ]
  },
  {
   "cell_type": "code",
   "execution_count": 52,
   "id": "aab4fea6",
   "metadata": {
    "ExecuteTime": {
     "end_time": "2023-04-06T07:05:06.819075Z",
     "start_time": "2023-04-06T07:05:06.792090Z"
    },
    "id": "aab4fea6",
    "outputId": "6df71562-9d13-4cfa-ba2e-eb1e10ec38e5"
   },
   "outputs": [
    {
     "data": {
      "text/plain": [
       "Diesel    262\n",
       "Petrol     85\n",
       "Other       2\n",
       "Name: fuelType, dtype: int64"
      ]
     },
     "execution_count": 52,
     "metadata": {},
     "output_type": "execute_result"
    }
   ],
   "source": [
    "touran = df.query(\" model == 'Touran' \")\n",
    "touran['fuelType'].value_counts()"
   ]
  },
  {
   "cell_type": "markdown",
   "id": "dde50f0b",
   "metadata": {},
   "source": [
    "kami berencana untuk menghapus semua nilai Other yang tersisa karena keterbatasan *resource* analisis yang mendalam ke semua brand mobilnya."
   ]
  },
  {
   "cell_type": "code",
   "execution_count": 84,
   "id": "078b051c",
   "metadata": {},
   "outputs": [],
   "source": [
    "df = df.drop(df[df['fuelType'] == 'Other'].index)"
   ]
  },
  {
   "cell_type": "code",
   "execution_count": 85,
   "id": "267ebc95",
   "metadata": {},
   "outputs": [
    {
     "data": {
      "text/plain": [
       "0"
      ]
     },
     "execution_count": 85,
     "metadata": {},
     "output_type": "execute_result"
    }
   ],
   "source": [
    "len(df[df['fuelType'] == 'Other'])"
   ]
  },
  {
   "cell_type": "markdown",
   "id": "f3d39172",
   "metadata": {
    "id": "f3d39172"
   },
   "source": [
    "# ***EXPLANATORY DATA ANALYSIS***\n",
    "## ***Statistics Summary***"
   ]
  },
  {
   "cell_type": "code",
   "execution_count": 55,
   "id": "db756cda",
   "metadata": {
    "ExecuteTime": {
     "end_time": "2023-03-26T10:23:17.785587Z",
     "start_time": "2023-03-26T10:23:17.701634Z"
    },
    "id": "db756cda",
    "outputId": "30c97e57-bd22-434a-bc79-414e37cc6182"
   },
   "outputs": [
    {
     "data": {
      "text/html": [
       "<div>\n",
       "<style scoped>\n",
       "    .dataframe tbody tr th:only-of-type {\n",
       "        vertical-align: middle;\n",
       "    }\n",
       "\n",
       "    .dataframe tbody tr th {\n",
       "        vertical-align: top;\n",
       "    }\n",
       "\n",
       "    .dataframe thead th {\n",
       "        text-align: right;\n",
       "    }\n",
       "</style>\n",
       "<table border=\"1\" class=\"dataframe\">\n",
       "  <thead>\n",
       "    <tr style=\"text-align: right;\">\n",
       "      <th></th>\n",
       "      <th>year</th>\n",
       "      <th>price</th>\n",
       "      <th>mileage</th>\n",
       "      <th>tax</th>\n",
       "      <th>mpg</th>\n",
       "      <th>engineSize</th>\n",
       "    </tr>\n",
       "  </thead>\n",
       "  <tbody>\n",
       "    <tr>\n",
       "      <th>count</th>\n",
       "      <td>97711.000000</td>\n",
       "      <td>97711.000000</td>\n",
       "      <td>97711.000000</td>\n",
       "      <td>97711.000000</td>\n",
       "      <td>97711.000000</td>\n",
       "      <td>97711.000000</td>\n",
       "    </tr>\n",
       "    <tr>\n",
       "      <th>mean</th>\n",
       "      <td>2017.066431</td>\n",
       "      <td>16773.592748</td>\n",
       "      <td>23219.152224</td>\n",
       "      <td>120.141540</td>\n",
       "      <td>55.205750</td>\n",
       "      <td>1.664916</td>\n",
       "    </tr>\n",
       "    <tr>\n",
       "      <th>std</th>\n",
       "      <td>2.118556</td>\n",
       "      <td>9868.547939</td>\n",
       "      <td>21060.747641</td>\n",
       "      <td>63.356993</td>\n",
       "      <td>16.181693</td>\n",
       "      <td>0.558576</td>\n",
       "    </tr>\n",
       "    <tr>\n",
       "      <th>min</th>\n",
       "      <td>1970.000000</td>\n",
       "      <td>450.000000</td>\n",
       "      <td>1.000000</td>\n",
       "      <td>0.000000</td>\n",
       "      <td>0.300000</td>\n",
       "      <td>0.000000</td>\n",
       "    </tr>\n",
       "    <tr>\n",
       "      <th>25%</th>\n",
       "      <td>2016.000000</td>\n",
       "      <td>9999.000000</td>\n",
       "      <td>7673.000000</td>\n",
       "      <td>125.000000</td>\n",
       "      <td>47.100000</td>\n",
       "      <td>1.200000</td>\n",
       "    </tr>\n",
       "    <tr>\n",
       "      <th>50%</th>\n",
       "      <td>2017.000000</td>\n",
       "      <td>14470.000000</td>\n",
       "      <td>17682.000000</td>\n",
       "      <td>145.000000</td>\n",
       "      <td>54.300000</td>\n",
       "      <td>1.600000</td>\n",
       "    </tr>\n",
       "    <tr>\n",
       "      <th>75%</th>\n",
       "      <td>2019.000000</td>\n",
       "      <td>20750.000000</td>\n",
       "      <td>32500.000000</td>\n",
       "      <td>145.000000</td>\n",
       "      <td>62.800000</td>\n",
       "      <td>2.000000</td>\n",
       "    </tr>\n",
       "    <tr>\n",
       "      <th>max</th>\n",
       "      <td>2020.000000</td>\n",
       "      <td>159999.000000</td>\n",
       "      <td>323000.000000</td>\n",
       "      <td>580.000000</td>\n",
       "      <td>470.800000</td>\n",
       "      <td>6.600000</td>\n",
       "    </tr>\n",
       "  </tbody>\n",
       "</table>\n",
       "</div>"
      ],
      "text/plain": [
       "               year          price        mileage           tax           mpg  \\\n",
       "count  97711.000000   97711.000000   97711.000000  97711.000000  97711.000000   \n",
       "mean    2017.066431   16773.592748   23219.152224    120.141540     55.205750   \n",
       "std        2.118556    9868.547939   21060.747641     63.356993     16.181693   \n",
       "min     1970.000000     450.000000       1.000000      0.000000      0.300000   \n",
       "25%     2016.000000    9999.000000    7673.000000    125.000000     47.100000   \n",
       "50%     2017.000000   14470.000000   17682.000000    145.000000     54.300000   \n",
       "75%     2019.000000   20750.000000   32500.000000    145.000000     62.800000   \n",
       "max     2020.000000  159999.000000  323000.000000    580.000000    470.800000   \n",
       "\n",
       "         engineSize  \n",
       "count  97711.000000  \n",
       "mean       1.664916  \n",
       "std        0.558576  \n",
       "min        0.000000  \n",
       "25%        1.200000  \n",
       "50%        1.600000  \n",
       "75%        2.000000  \n",
       "max        6.600000  "
      ]
     },
     "execution_count": 55,
     "metadata": {},
     "output_type": "execute_result"
    }
   ],
   "source": [
    "df.describe()"
   ]
  },
  {
   "cell_type": "markdown",
   "id": "37c8d09f",
   "metadata": {
    "id": "37c8d09f"
   },
   "source": [
    "- **Jumlah data** yang tersedia adalah 97712 data\n",
    "- **Rata-rata** mobil yang dijual adalah tahun 2017, dengan harga 16,773 pound sterling, jarak tempuh 23,219 mil, pajak 120 pound sterling, konsumsi bahan bakar 55 mpg, dan kapasitas mesin 1.66 liter.\n",
    "- **Standar deviasi** dari tahun mobil yang dijual adalah 2.12, harga mobil adalah 9,868, jarak tempuh adalah 21,060 mil, pajak adalah 63.36 pound sterling, konsumsi bahan bakar adalah 16.18 mpg, dan kapasitas mesin adalah 0.56 liter.\n",
    "- **Nilai minimum** dari tahun mobil yang dijual adalah 1970, harga mobil adalah 450 pound sterling, jarak tempuh adalah 1 mil, pajak adalah 0 pound sterling, konsumsi bahan bakar adalah 0.3 mpg, dan kapasitas mesin adalah 0 liter.\n",
    "- **Nilai kuartil** pertama (25%) dari tahun mobil yang dijual adalah 2016, harga mobil adalah 9,999 pound sterling, jarak tempuh adalah 7,673 mil, pajak adalah 125 pound sterling, konsumsi bahan bakar adalah 47.1 mpg, dan kapasitas mesin adalah 1.2 liter.\n",
    "- **Nilai median (50%)** dari tahun mobil yang dijual adalah 2017, harga mobil adalah 14,470 pound sterling, jarak tempuh adalah 17,682.5 mil, pajak adalah 145 pound sterling, konsumsi bahan bakar adalah 54.3 mpg, dan kapasitas mesin adalah 1.6 liter.\n",
    "- **Nilai kuartil ketiga (75%)** dari tahun mobil yang dijual adalah 2019, harga mobil adalah 20,750 pound sterling, jarak tempuh adalah 32,500 mil, pajak adalah 145 pound sterling, konsumsi bahan bakar adalah 62.8 mpg, dan kapasitas mesin adalah 2.0 liter.\n",
    "- **Nilai maksimum** dari tahun mobil yang dijual adalah 2020, harga mobil adalah 159999 pound sterling, jarak tempuh adalah 323,000 mil, pajak adalah 580 pound sterling, konsumsi bahan bakar adalah 470.8 mpg, dan kapasitas mesin adalah 6.6 liter.\n",
    "\n",
    "\n",
    "Dari deskripsi ini, kita bisa mendapatkan gambaran umum tentang distribusi dari data pada setiap fitur dalam dataset.\n",
    "\n",
    "**Dalam konteks bisnis**, data yang dijelaskan dapat memberikan informasi yang berguna dalam mengambil keputusan terkait pembelian dan penjualan mobil. Berikut adalah beberapa analisis yang dapat dilakukan dari output tersebut:\n",
    "\n",
    "- `Trend tahun produksi`: Dari rata-rata tahun produksi mobil di dataset ini yaitu 2017, dapat ditarik kesimpulan bahwa mobil-mobil yang dijual saat ini cenderung masih dalam kondisi relatif baru. Ini dapat menjadi indikasi bahwa pasar mobil bekas di Inggris masih didominasi oleh mobil baru.\n",
    "\n",
    "- `Rentang harga`: Harga mobil dalam dataset ini bervariasi dari 450 hingga 159.999 poundsterling. Dalam perspektif bisnis, informasi ini dapat membantu penjual mobil atau pembeli dalam mengatur harga mobil yang akan dijual atau dibeli.\n",
    "\n",
    "- `Rentang jarak tempuh`: Jarak tempuh mobil dalam dataset ini bervariasi dari 1 hingga 323.000 mil. Rentang ini dapat memberikan gambaran mengenai kondisi mobil dan menunjukkan mobil mana yang memiliki jarak tempuh yang lebih rendah, sehingga cenderung memiliki nilai jual yang lebih tinggi.\n",
    "\n",
    "- `Pajak`: Rata-rata pajak mobil dalam dataset ini adalah 120 poundsterling. Informasi ini dapat membantu pembeli dalam mengetahui biaya tambahan yang perlu dikeluarkan selain harga mobil.\n",
    "\n",
    "- `Konsumsi bahan bakar`: Rata-rata konsumsi bahan bakar mobil dalam dataset ini adalah 55 mpg. Informasi ini dapat membantu pembeli dalam memilih mobil yang lebih hemat bahan bakar dan juga dapat membantu dealer mobil dalam memasarkan mobil yang lebih efisien.\n",
    "\n",
    "- `Ukuran mesin`: Rata-rata ukuran mesin mobil dalam dataset ini adalah 1,6 liter. Informasi ini dapat memberikan gambaran mengenai performa mobil dan membantu pembeli dalam memilih mobil yang sesuai dengan kebutuhan mereka. Hal ini juga dapat membantu dealer mobil dalam memasarkan mobil dengan spesifikasi yang berbeda-beda."
   ]
  },
  {
   "cell_type": "markdown",
   "id": "84274fc2",
   "metadata": {
    "id": "84274fc2"
   },
   "source": [
    "## Distribusi Pada Kolom Numerik"
   ]
  },
  {
   "cell_type": "code",
   "execution_count": 56,
   "id": "81dd15da",
   "metadata": {},
   "outputs": [
    {
     "data": {
      "image/png": "[encoded data removed]",
      "text/plain": [
       "<Figure size 1500x1000 with 6 Axes>"
      ]
     },
     "metadata": {},
     "output_type": "display_data"
    }
   ],
   "source": [
    "# Distribusi feature YearBuilt, Size(sqf), dan SalePrice\n",
    "\n",
    "plt.figure(figsize=(15,10))\n",
    "\n",
    "column=['year','price','mileage','tax','mpg','engineSize']\n",
    "\n",
    "\n",
    "plotnumber=1\n",
    "for kolom in column:\n",
    "    plt.subplot(3,3,plotnumber)\n",
    "    sns.distplot(df[kolom])\n",
    "    plt.title(kolom)\n",
    "\n",
    "    plotnumber +=1\n",
    "\n",
    "plt.suptitle('Distribusi Data',size=15)\n",
    "plt.show()"
   ]
  },
  {
   "cell_type": "code",
   "execution_count": 57,
   "id": "7e300c3f",
   "metadata": {},
   "outputs": [
    {
     "data": {
      "text/html": [
       "<div>\n",
       "<style scoped>\n",
       "    .dataframe tbody tr th:only-of-type {\n",
       "        vertical-align: middle;\n",
       "    }\n",
       "\n",
       "    .dataframe tbody tr th {\n",
       "        vertical-align: top;\n",
       "    }\n",
       "\n",
       "    .dataframe thead th {\n",
       "        text-align: right;\n",
       "    }\n",
       "</style>\n",
       "<table border=\"1\" class=\"dataframe\">\n",
       "  <thead>\n",
       "    <tr style=\"text-align: right;\">\n",
       "      <th></th>\n",
       "      <th>Kolom</th>\n",
       "      <th>Skewness</th>\n",
       "    </tr>\n",
       "  </thead>\n",
       "  <tbody>\n",
       "    <tr>\n",
       "      <th>0</th>\n",
       "      <td>year</td>\n",
       "      <td>-2.008471</td>\n",
       "    </tr>\n",
       "    <tr>\n",
       "      <th>1</th>\n",
       "      <td>price</td>\n",
       "      <td>2.363819</td>\n",
       "    </tr>\n",
       "    <tr>\n",
       "      <th>2</th>\n",
       "      <td>mileage</td>\n",
       "      <td>1.779662</td>\n",
       "    </tr>\n",
       "  </tbody>\n",
       "</table>\n",
       "</div>"
      ],
      "text/plain": [
       "     Kolom  Skewness\n",
       "0     year -2.008471\n",
       "1    price  2.363819\n",
       "2  mileage  1.779662"
      ]
     },
     "execution_count": 57,
     "metadata": {},
     "output_type": "execute_result"
    }
   ],
   "source": [
    "# Skewness feature YearBuilt, Size(sqf), dan SalePrice\n",
    "\n",
    "column=['year','price','mileage']\n",
    "\n",
    "hasil=[]\n",
    "for i in column:\n",
    "    hasil=skew(df[column])\n",
    "\n",
    "pd.DataFrame({'Kolom':column, 'Skewness':hasil})"
   ]
  },
  {
   "cell_type": "code",
   "execution_count": 58,
   "id": "ddd13920",
   "metadata": {},
   "outputs": [
    {
     "data": {
      "text/html": [
       "<div>\n",
       "<style scoped>\n",
       "    .dataframe tbody tr th:only-of-type {\n",
       "        vertical-align: middle;\n",
       "    }\n",
       "\n",
       "    .dataframe tbody tr th {\n",
       "        vertical-align: top;\n",
       "    }\n",
       "\n",
       "    .dataframe thead th {\n",
       "        text-align: right;\n",
       "    }\n",
       "</style>\n",
       "<table border=\"1\" class=\"dataframe\">\n",
       "  <thead>\n",
       "    <tr style=\"text-align: right;\">\n",
       "      <th></th>\n",
       "      <th>Kolom</th>\n",
       "      <th>Distribusi</th>\n",
       "    </tr>\n",
       "  </thead>\n",
       "  <tbody>\n",
       "    <tr>\n",
       "      <th>0</th>\n",
       "      <td>year</td>\n",
       "      <td>Tidak berdistribusi normal</td>\n",
       "    </tr>\n",
       "    <tr>\n",
       "      <th>1</th>\n",
       "      <td>price</td>\n",
       "      <td>Tidak berdistribusi normal</td>\n",
       "    </tr>\n",
       "    <tr>\n",
       "      <th>2</th>\n",
       "      <td>mileage</td>\n",
       "      <td>Tidak berdistribusi normal</td>\n",
       "    </tr>\n",
       "    <tr>\n",
       "      <th>3</th>\n",
       "      <td>tax</td>\n",
       "      <td>Tidak berdistribusi normal</td>\n",
       "    </tr>\n",
       "    <tr>\n",
       "      <th>4</th>\n",
       "      <td>mpg</td>\n",
       "      <td>Tidak berdistribusi normal</td>\n",
       "    </tr>\n",
       "    <tr>\n",
       "      <th>5</th>\n",
       "      <td>engineSize</td>\n",
       "      <td>Tidak berdistribusi normal</td>\n",
       "    </tr>\n",
       "  </tbody>\n",
       "</table>\n",
       "</div>"
      ],
      "text/plain": [
       "        Kolom                  Distribusi\n",
       "0        year  Tidak berdistribusi normal\n",
       "1       price  Tidak berdistribusi normal\n",
       "2     mileage  Tidak berdistribusi normal\n",
       "3         tax  Tidak berdistribusi normal\n",
       "4         mpg  Tidak berdistribusi normal\n",
       "5  engineSize  Tidak berdistribusi normal"
      ]
     },
     "execution_count": 58,
     "metadata": {},
     "output_type": "execute_result"
    }
   ],
   "source": [
    "# Normality test feature \n",
    "column=['year','price','mileage','tax','mpg','engineSize']\n",
    "\n",
    "hasil=[]\n",
    "for i in column:\n",
    "    stats,pval=normaltest(df[i])\n",
    "    if pval>0.05:\n",
    "        hasil.append('Distribusi normal')\n",
    "    else:\n",
    "        hasil.append('Tidak berdistribusi normal')\n",
    "\n",
    "pd.DataFrame({'Kolom':column, 'Distribusi':hasil})"
   ]
  },
  {
   "cell_type": "markdown",
   "id": "5f5b07c2",
   "metadata": {
    "id": "5f5b07c2"
   },
   "source": [
    "Hasil normaltest menunjukkan bahwa distribusi data tidak normal, maka hal ini menunjukkan bahwa data tidak terdistribusi secara merata di sekitar mean. Dalam konteks bisnis, ini dapat mengindikasikan adanya nilai ekstrem yang signifikan dalam data, atau adanya outlier yang dapat mempengaruhi interpretasi analisis statistik.\n",
    "\n"
   ]
  },
  {
   "cell_type": "markdown",
   "id": "75e19f12",
   "metadata": {
    "id": "75e19f12"
   },
   "source": [
    "### Outlier\n",
    "Outlier merupaan titik data yang berberda secara signifikan dibandingkan sebagian besar data. Secara umum, outlier dapat memiliki dampak yang signifikan pada model regresi dan dapat mendistorsi prediksi. Maka dari itu, penting untuk menyelidiki outlier yang ada merupakan titik data valis yang harus disertakan dalam analisis dan mempertimbangkan metode alternatif untuk menangani outlier sebelum memutuskan untuk mengeluarkkannya dari analisis maupun modelling nantinya."
   ]
  },
  {
   "cell_type": "code",
   "execution_count": 59,
   "id": "b24dc239",
   "metadata": {
    "id": "b24dc239",
    "outputId": "7ac76360-d2fb-43e7-e539-6e1c9640a421"
   },
   "outputs": [
    {
     "data": {
      "image/png": "[encoded data removed]",
      "text/plain": [
       "<Figure size 1200x2500 with 6 Axes>"
      ]
     },
     "metadata": {},
     "output_type": "display_data"
    }
   ],
   "source": [
    "# <!-- Boxplot untuk cek outlier -->\n",
    "plt.figure(figsize=(12,25))\n",
    "\n",
    "columns = [\n",
    "'year', \n",
    "'mileage', \n",
    "'mpg',\n",
    "'engineSize', \n",
    "'tax', \n",
    "'price']\n",
    "\n",
    "plotnumber =1 \n",
    "for kolom in columns:\n",
    "    plt.subplot(5,2,plotnumber)\n",
    "    sns.boxplot(data=df,x=kolom)\n",
    "    plt.title(kolom)\n",
    "\n",
    "    plotnumber += 1\n",
    "\n",
    "plt.suptitle('Distribusi Data',size=24)\n",
    "plt.show()"
   ]
  },
  {
   "cell_type": "markdown",
   "id": "12f9766f",
   "metadata": {
    "id": "12f9766f"
   },
   "source": [
    "Pada kasus ini, outliers yang terdapat pada beberapa variabel seperti mileage, mpg, dan price, dapat diindikasikan adanya beberapa kendaraan yang memiliki kondisi yang abnormal seperti rusak atau cacat yang menyebabkan nilai variabel tersebut jauh dari nilai rata-rata atau median yang seharusnya. Dalam konteks bisnis, outliers dapat memberikan informasi yang berguna dalam analisis."
   ]
  },
  {
   "cell_type": "markdown",
   "id": "8105c33d",
   "metadata": {
    "id": "8105c33d"
   },
   "source": [
    "pada kasus ini, terdapat nilai ekstrem pada kolom Year dan MPG. kami akan menghapus nilai ekstrem tersebut.\n"
   ]
  },
  {
   "cell_type": "code",
   "execution_count": 60,
   "id": "61052dbf",
   "metadata": {
    "id": "61052dbf"
   },
   "outputs": [],
   "source": [
    "df = df.drop(df[df['mpg']> 400].index)\n",
    "df = df.drop(df[df['year']< 1980].index)"
   ]
  },
  {
   "cell_type": "code",
   "execution_count": 61,
   "id": "848a7f31",
   "metadata": {
    "id": "848a7f31"
   },
   "outputs": [],
   "source": [
    "# Function untuk melakukan pengecekan outlier\n",
    "\n",
    "def outlier(df):\n",
    "    Q1 = df.quantile(0.25)\n",
    "    Q3 = df.quantile(0.75)\n",
    "    IQR = Q3-Q1\n",
    "    print(f'''\n",
    "    IQR: {Q3-Q1}\n",
    "    Lower bound: {Q1-(1.5*IQR)}\n",
    "    Upper bound: {Q3+(1.5*IQR)}\n",
    "    ''')"
   ]
  },
  {
   "cell_type": "code",
   "execution_count": 62,
   "id": "79f3f036",
   "metadata": {
    "id": "79f3f036",
    "outputId": "1e80bea1-3060-4238-e946-7fc613ec17dc"
   },
   "outputs": [
    {
     "name": "stdout",
     "output_type": "stream",
     "text": [
      "\n",
      "    IQR: 3.0\n",
      "    Lower bound: 2011.5\n",
      "    Upper bound: 2023.5\n",
      "    \n"
     ]
    }
   ],
   "source": [
    "outlier(df['year'])"
   ]
  },
  {
   "cell_type": "code",
   "execution_count": 63,
   "id": "9bcb01a0",
   "metadata": {
    "id": "9bcb01a0",
    "outputId": "dd3c7044-17c0-4938-d01b-8fb09ac017b9"
   },
   "outputs": [
    {
     "name": "stdout",
     "output_type": "stream",
     "text": [
      "Column: year, Outliers total: 1732\n",
      "Column: price, Outliers total: 3811\n",
      "Column: mileage, Outliers total: 3829\n",
      "Column: tax, Outliers total: 28485\n",
      "Column: mpg, Outliers total: 885\n",
      "Column: engineSize, Outliers total: 641\n"
     ]
    }
   ],
   "source": [
    "# Deteksi outlier\n",
    "\n",
    "def detect_outliers(df):\n",
    "    outliers = {}\n",
    "    for col in df.columns:\n",
    "        if df[col].dtype in ['int64', 'float64']:\n",
    "            Q1 = df[col].quantile(0.25)\n",
    "            Q3 = df[col].quantile(0.75)\n",
    "            IQR = Q3-Q1\n",
    "            lower_bound = Q1-1.5*IQR\n",
    "            upper_bound = Q3+1.5*IQR\n",
    "            outliers[col] = len(df[(df[col]<lower_bound) | (df[col]>upper_bound)])\n",
    "    return outliers\n",
    "outliers = detect_outliers(df)\n",
    "for col, count in outliers.items():\n",
    "    print(f'Column: {col}, Outliers total: {count}')"
   ]
  },
  {
   "cell_type": "markdown",
   "id": "26eb6139",
   "metadata": {
    "id": "26eb6139"
   },
   "source": [
    "Outliers adalah nilai-nilai yang berada jauh dari rentang nilai lainnya pada suatu dataset. Pada analisis bisnis, outliers dapat memberikan informasi penting mengenai data yang tidak biasa atau tidak terduga dalam suatu populasi. Namun, terdapat beberapa alasan mengapa outliers tidak berbahaya dalam konteks bisnis, yaitu:\n",
    "\n",
    "Outliers dapat mempengaruhi nilai rata-rata dan standar deviasi suatu dataset, sehingga dapat mengganggu analisis statistik. Namun, jika outliers memang merepresentasikan nilai-nilai yang valid atau signifikan dalam konteks bisnis, maka tetap perlu dipertimbangkan dalam analisis.\n",
    "\n",
    "Outliers tidak selalu mencerminkan kesalahan pengukuran atau pengumpulan data. Bisa jadi, outliers tersebut memang merupakan data yang valid dan bermanfaat dalam konteks bisnis."
   ]
  },
  {
   "cell_type": "markdown",
   "id": "7d8cc507",
   "metadata": {
    "id": "7d8cc507"
   },
   "source": [
    "### Menata kolom-kolom"
   ]
  },
  {
   "cell_type": "code",
   "execution_count": 64,
   "id": "b39c3558",
   "metadata": {
    "ExecuteTime": {
     "end_time": "2023-04-06T07:16:27.016585Z",
     "start_time": "2023-04-06T07:16:27.006595Z"
    },
    "id": "b39c3558",
    "outputId": "923f528d-ba3a-41c3-e269-76a574d19f78"
   },
   "outputs": [
    {
     "data": {
      "text/plain": [
       "Index(['model', 'year', 'price', 'transmission', 'mileage', 'fuelType', 'tax',\n",
       "       'mpg', 'engineSize', 'brand'],\n",
       "      dtype='object')"
      ]
     },
     "execution_count": 64,
     "metadata": {},
     "output_type": "execute_result"
    }
   ],
   "source": [
    "df.columns"
   ]
  },
  {
   "cell_type": "markdown",
   "id": "d4378b64",
   "metadata": {
    "id": "d4378b64"
   },
   "source": [
    "Penataan ini dimaksudkan untuk mempermudah pembacaan"
   ]
  },
  {
   "cell_type": "code",
   "execution_count": 65,
   "id": "35c4b9d5",
   "metadata": {
    "ExecuteTime": {
     "end_time": "2023-04-06T07:16:28.523580Z",
     "start_time": "2023-04-06T07:16:28.494597Z"
    },
    "id": "35c4b9d5"
   },
   "outputs": [],
   "source": [
    "df = df[['brand',\n",
    "        'model',\n",
    "        'year',\n",
    "        'transmission',\n",
    "        'mileage',\n",
    "        'mpg',\n",
    "        'engineSize',\n",
    "        'fuelType',\n",
    "        'tax',\n",
    "        'price'\n",
    "]]"
   ]
  },
  {
   "cell_type": "markdown",
   "id": "2b48bd89",
   "metadata": {
    "id": "2b48bd89"
   },
   "source": [
    "# Data Analysis"
   ]
  },
  {
   "cell_type": "code",
   "execution_count": 66,
   "id": "301547fb",
   "metadata": {
    "ExecuteTime": {
     "end_time": "2023-04-06T07:16:36.224570Z",
     "start_time": "2023-04-06T07:16:32.024803Z"
    },
    "id": "301547fb"
   },
   "outputs": [],
   "source": [
    "import dtale"
   ]
  },
  {
   "cell_type": "code",
   "execution_count": 67,
   "id": "8ec8e8d4",
   "metadata": {
    "ExecuteTime": {
     "end_time": "2023-04-06T07:16:44.849304Z",
     "start_time": "2023-04-06T07:16:38.150473Z"
    },
    "id": "8ec8e8d4",
    "outputId": "5ee396e4-c450-4446-f9c8-a142bcd72d95",
    "scrolled": false
   },
   "outputs": [
    {
     "data": {
      "text/html": [
       "\n",
       "        <iframe\n",
       "            width=\"100%\"\n",
       "            height=\"475\"\n",
       "            src=\"http://Pattiradjawane:40000/dtale/iframe/1\"\n",
       "            frameborder=\"0\"\n",
       "            allowfullscreen\n",
       "            \n",
       "        ></iframe>\n",
       "        "
      ],
      "text/plain": [
       "<IPython.lib.display.IFrame at 0x237cf9bd6a0>"
      ]
     },
     "metadata": {},
     "output_type": "display_data"
    },
    {
     "data": {
      "text/plain": []
     },
     "execution_count": 67,
     "metadata": {},
     "output_type": "execute_result"
    }
   ],
   "source": [
    "dtale.show(df)"
   ]
  },
  {
   "cell_type": "markdown",
   "id": "5fbfb3d6",
   "metadata": {
    "ExecuteTime": {
     "end_time": "2023-04-06T07:18:11.569783Z",
     "start_time": "2023-04-06T07:18:11.562788Z"
    },
    "id": "5fbfb3d6"
   },
   "source": [
    "#### Transmisi mobil berdasarkan Brand"
   ]
  },
  {
   "cell_type": "code",
   "execution_count": 68,
   "id": "be57ee10",
   "metadata": {
    "ExecuteTime": {
     "end_time": "2023-04-06T07:20:19.641885Z",
     "start_time": "2023-04-06T07:20:19.319987Z"
    },
    "id": "be57ee10",
    "outputId": "c91290b6-7d39-4473-9cdd-7bbfb14c47f0"
   },
   "outputs": [
    {
     "data": {
      "image/png": "[encoded data removed]",
      "text/plain": [
       "<Figure size 640x480 with 1 Axes>"
      ]
     },
     "metadata": {},
     "output_type": "display_data"
    }
   ],
   "source": [
    "# menghitung banyaknya brand yang terjual\n",
    "transmisi_yang_terjual = df['transmission'].value_counts()\n",
    "\n",
    "# Plot dengan chart bar\n",
    "plt.bar(transmisi_yang_terjual.index, transmisi_yang_terjual.values)\n",
    "plt.xlabel('Transmisi')\n",
    "plt.ylabel('Jumlah Transmisi Terjual')\n",
    "plt.title('Transmisi Mobil Bekas terpopuler di Inggris Raya')\n",
    "plt.xticks(rotation=30, horizontalalignment='right' )\n",
    "plt.show()"
   ]
  },
  {
   "cell_type": "markdown",
   "id": "f440ef4b",
   "metadata": {},
   "source": [
    "Dapat dilihat dari plot di atas, mobil bekas dengan transmisi Manual merupakan jenis mobil yang paling banyak diperjual-belikan, sedangkan mobil jenis Semi-Auto dan Automatic mempunyai jumlah yang tidak berbeda jauh."
   ]
  },
  {
   "cell_type": "code",
   "execution_count": 69,
   "id": "82e26280",
   "metadata": {
    "id": "82e26280",
    "outputId": "0f38415e-3b41-400a-e060-f53bb2e9f1d0"
   },
   "outputs": [
    {
     "data": {
      "text/plain": [
       "<AxesSubplot: xlabel='None-transmission', ylabel='brand'>"
      ]
     },
     "execution_count": 69,
     "metadata": {},
     "output_type": "execute_result"
    },
    {
     "data": {
      "image/png": "[encoded data removed]",
      "text/plain": [
       "<Figure size 640x480 with 2 Axes>"
      ]
     },
     "metadata": {},
     "output_type": "display_data"
    }
   ],
   "source": [
    "pivot_table=pd.pivot_table(df, index=['brand'], columns=['transmission'], values=['price'], aggfunc='median')\n",
    "sns.heatmap(data=pivot_table, annot=True,  fmt='.1f',  cmap=\"coolwarm\")"
   ]
  },
  {
   "cell_type": "markdown",
   "id": "8424166e",
   "metadata": {},
   "source": [
    "Dilihat dari plot korelasi di atas, apabila dilihat dari harga mobil dengan jenis transmisi Automatic & Semi-Auto memiliki harga yang lebih mahal dibandingkan mobil Manual, oleh karena itu ini bisa menjadi salah satu alasan mobil tipe Manual lebih sering diperjual-belikan karena harganya yang relatif lebih murah."
   ]
  },
  {
   "cell_type": "code",
   "execution_count": 70,
   "id": "d6d781a1",
   "metadata": {
    "ExecuteTime": {
     "end_time": "2023-04-06T07:37:40.547207Z",
     "start_time": "2023-04-06T07:37:39.865563Z"
    },
    "id": "d6d781a1",
    "outputId": "b87b177b-942b-4b24-f51f-557f236b42fa"
   },
   "outputs": [
    {
     "name": "stderr",
     "output_type": "stream",
     "text": [
      "2023-04-13 22:07:19,299 - WARNING  - No artists with labels found to put in legend.  Note that artists whose label start with an underscore are ignored when legend() is called with no argument.\n"
     ]
    },
    {
     "data": {
      "image/png": "[encoded data removed]",
      "text/plain": [
       "<Figure size 640x480 with 1 Axes>"
      ]
     },
     "metadata": {},
     "output_type": "display_data"
    }
   ],
   "source": [
    "# membuat subset data yang hanya berisi kolom transmisi dan merek mobil\n",
    "# membuat plot\n",
    "sns.countplot(data=df, x='transmission', hue='brand', order=df['transmission'].value_counts().index[::])\n",
    "plt.title('Brand dan Transmisi yang Terjual')\n",
    "plt.xlabel('Transmission Type')\n",
    "plt.ylabel('Jumlah')\n",
    "ax.legend(title='Brand', loc='upper right')\n",
    "plt.show()"
   ]
  },
  {
   "cell_type": "markdown",
   "id": "eafbad4c",
   "metadata": {
    "id": "eafbad4c"
   },
   "source": [
    "Dari hasil ini, maka transmisi **Manual** merupakan jenis transmisi yang diminati oleh masyarakat inggris.\n",
    "faktor yang menyebabkan Transmisi manual lebih diminati karena harga tengah dari masing brand yang bertransmisi Manual lebih murah dibanding yang lain. \n",
    "Pembeli mobil bekas lebih memilih kebutuhan kendaraannya yang lebih murah dan mudah perawatannya karena transmisi Manual cenderung harga *maintenance*-nya rendah dibanding *automatic* dan *semi-auto*.\n",
    "Dapat dilihat juga bahwa brand Ford, Vauxhall, dan VW mempunyai bar yang jauh lebih tinggi dibanding brand lain, ini artinya penjualan mobil brand=brand tersebut jauh lebih tinggi dibanding brand lain.\n"
   ]
  },
  {
   "cell_type": "markdown",
   "id": "3e396428",
   "metadata": {
    "id": "3e396428"
   },
   "source": [
    "## Banyaknya brand yang terjual"
   ]
  },
  {
   "cell_type": "code",
   "execution_count": 71,
   "id": "6920f65e",
   "metadata": {
    "ExecuteTime": {
     "end_time": "2023-03-26T10:24:13.144954Z",
     "start_time": "2023-03-26T10:24:12.789158Z"
    },
    "id": "6920f65e",
    "outputId": "4b4298ae-3b57-41ec-8a58-1e067eedf7c3",
    "scrolled": false
   },
   "outputs": [
    {
     "data": {
      "image/png": "[encoded data removed]",
      "text/plain": [
       "<Figure size 640x480 with 1 Axes>"
      ]
     },
     "metadata": {},
     "output_type": "display_data"
    }
   ],
   "source": [
    "# menghitung banyaknya brand yang terjual\n",
    "brand_yang_terjual = df['brand'].value_counts()\n",
    "\n",
    "# Plot dengan chart bar\n",
    "plt.bar(brand_yang_terjual.index, brand_yang_terjual.values)\n",
    "plt.xlabel('Brand')\n",
    "plt.ylabel('Jumlah Brand Terjual')\n",
    "plt.title('Brand Mobil Bekas terpopuler di Inggris Raya')\n",
    "plt.xticks(rotation=30, horizontalalignment='right' )\n",
    "plt.show()"
   ]
  },
  {
   "cell_type": "markdown",
   "id": "3939f762",
   "metadata": {
    "id": "3939f762"
   },
   "source": [
    "Berdasarkan grafik bar di atas, Ford menjadi brand mobil bekas yang paling banyak terjual di Inggris Raya, diikuti oleh VW, Vauxhall, Mercedes, BMW, Audi, Toyota, Skoda, dan Hyundai. Ini memberikan gambaran yang berguna bagi pelaku bisnis di industri mobil bekas, bahwa brand-brand ini memiliki potensi pasar yang besar di Inggris Raya dan dapat menjadi fokus dalam strategi pemasaran dan penjualan mereka. Dalam hal ini, pelaku bisnis dapat mempertimbangkan untuk menyediakan lebih banyak stok mobil bekas dari brand-brand ini, memperluas jaringan penjualan mereka di daerah-daerah yang memiliki permintaan tinggi untuk brand-brand ini, dan meningkatkan kualitas layanan mereka untuk meningkatkan kepuasan pelanggan dan menciptakan loyalitas merek yang kuat.\n"
   ]
  },
  {
   "cell_type": "markdown",
   "id": "45709bf8",
   "metadata": {
    "id": "45709bf8"
   },
   "source": [
    "## Model mobil bekas  yang terjual laris "
   ]
  },
  {
   "cell_type": "code",
   "execution_count": 72,
   "id": "22d10317",
   "metadata": {
    "id": "22d10317",
    "outputId": "cc2cf175-856c-42e6-e23f-c273fdd0e03c",
    "scrolled": false
   },
   "outputs": [
    {
     "data": {
      "image/png": "[encoded data removed]",
      "text/plain": [
       "<Figure size 1000x500 with 1 Axes>"
      ]
     },
     "metadata": {},
     "output_type": "display_data"
    }
   ],
   "source": [
    "plt.figure(figsize=(10, 5))\n",
    "# df_other = df.query(\"fuelType == 'Other'\")\n",
    "df_other_count = df.groupby('model').size().reset_index(name='count').sort_values('count', ascending=False)\n",
    "ax = sns.countplot(x='model',hue_order='brand', data=df, order=df_other_count['model'].head(10))\n",
    "# memberikan label jumlah di dalam bar\n",
    "for p in ax.patches:\n",
    "    ax.annotate(p.get_height(), (p.get_x() + p.get_width() / 2., p.get_height()), ha='center', va='center', xytext=(0, 5), textcoords='offset points')\n",
    "# memberikan judul pada plot\n",
    "plt.title('Jumlah Model Mobil Terlaris')\n",
    "formatter = ticker.StrMethodFormatter('{x:,.0f}')\n",
    "plt.gca().yaxis.set_major_formatter(formatter)\n",
    "# menampilkan plot\n",
    "plt.show()"
   ]
  },
  {
   "cell_type": "markdown",
   "id": "27cc202f",
   "metadata": {},
   "source": [
    "Model Fiesta dan Focus merupakan model mobil dari brand Ford, ini masuk akal karena brand Ford merupakan brand dengan penjualan tertinggi, dan model mobil terlaris mereka adalah Fiesta dan Focus, diikuti oleh Golf yang merupakan mobil dari brand VW, lalu ada C Class yang merupakan mobil dari Mercedes. "
   ]
  },
  {
   "cell_type": "code",
   "execution_count": 73,
   "id": "b56ddcf9",
   "metadata": {
    "id": "b56ddcf9",
    "outputId": "d416e375-c01b-422e-a3e4-fb3fcd0a5bba"
   },
   "outputs": [
    {
     "data": {
      "text/html": [
       "<div>\n",
       "<style scoped>\n",
       "    .dataframe tbody tr th:only-of-type {\n",
       "        vertical-align: middle;\n",
       "    }\n",
       "\n",
       "    .dataframe tbody tr th {\n",
       "        vertical-align: top;\n",
       "    }\n",
       "\n",
       "    .dataframe thead th {\n",
       "        text-align: right;\n",
       "    }\n",
       "</style>\n",
       "<table border=\"1\" class=\"dataframe\">\n",
       "  <thead>\n",
       "    <tr style=\"text-align: right;\">\n",
       "      <th></th>\n",
       "      <th>model</th>\n",
       "      <th>brand</th>\n",
       "      <th>count</th>\n",
       "    </tr>\n",
       "  </thead>\n",
       "  <tbody>\n",
       "    <tr>\n",
       "      <th>64</th>\n",
       "      <td>Fiesta</td>\n",
       "      <td>ford</td>\n",
       "      <td>6492</td>\n",
       "    </tr>\n",
       "    <tr>\n",
       "      <th>79</th>\n",
       "      <td>Golf</td>\n",
       "      <td>vw</td>\n",
       "      <td>4783</td>\n",
       "    </tr>\n",
       "    <tr>\n",
       "      <th>65</th>\n",
       "      <td>Focus</td>\n",
       "      <td>ford</td>\n",
       "      <td>4542</td>\n",
       "    </tr>\n",
       "    <tr>\n",
       "      <th>36</th>\n",
       "      <td>C Class</td>\n",
       "      <td>merc</td>\n",
       "      <td>3679</td>\n",
       "    </tr>\n",
       "    <tr>\n",
       "      <th>56</th>\n",
       "      <td>Corsa</td>\n",
       "      <td>vauxhall</td>\n",
       "      <td>3278</td>\n",
       "    </tr>\n",
       "    <tr>\n",
       "      <th>119</th>\n",
       "      <td>Polo</td>\n",
       "      <td>vw</td>\n",
       "      <td>3225</td>\n",
       "    </tr>\n",
       "    <tr>\n",
       "      <th>29</th>\n",
       "      <td>Astra</td>\n",
       "      <td>vauxhall</td>\n",
       "      <td>2642</td>\n",
       "    </tr>\n",
       "    <tr>\n",
       "      <th>12</th>\n",
       "      <td>A Class</td>\n",
       "      <td>merc</td>\n",
       "      <td>2471</td>\n",
       "    </tr>\n",
       "    <tr>\n",
       "      <th>6</th>\n",
       "      <td>3 Series</td>\n",
       "      <td>bmw</td>\n",
       "      <td>2434</td>\n",
       "    </tr>\n",
       "    <tr>\n",
       "      <th>103</th>\n",
       "      <td>Kuga</td>\n",
       "      <td>ford</td>\n",
       "      <td>2205</td>\n",
       "    </tr>\n",
       "  </tbody>\n",
       "</table>\n",
       "</div>"
      ],
      "text/plain": [
       "        model     brand  count\n",
       "64     Fiesta      ford   6492\n",
       "79       Golf        vw   4783\n",
       "65      Focus      ford   4542\n",
       "36    C Class      merc   3679\n",
       "56      Corsa  vauxhall   3278\n",
       "119      Polo        vw   3225\n",
       "29      Astra  vauxhall   2642\n",
       "12    A Class      merc   2471\n",
       "6    3 Series       bmw   2434\n",
       "103      Kuga      ford   2205"
      ]
     },
     "execution_count": 73,
     "metadata": {},
     "output_type": "execute_result"
    }
   ],
   "source": [
    "df_other_count = df.groupby(['model', 'brand']).size().reset_index(name='count').sort_values('count', ascending=False)\n",
    "top_10_models = df_other_count['model'].head(10)\n",
    "df_top_10 = df_other_count[df_other_count['model'].isin(top_10_models)]\n",
    "df_top_10"
   ]
  },
  {
   "cell_type": "markdown",
   "id": "RsoCwuNq9eV0",
   "metadata": {
    "id": "RsoCwuNq9eV0"
   },
   "source": [
    "Dari plot di atas, terlihat bahwa Ford Fiesta merupakan model mobil terlaris yang paling banyak terjual di Inggris Raya, diikuti oleh VW Golf dan Ford Focus. Hal ini bisa memberikan insight bagi produsen mobil untuk mempertimbangkan untuk mengembangkan produk sejenis, atau menyesuaikan strategi pemasaran dan penjualan agar bisa mengikuti kesuksesan model-model tersebut. "
   ]
  },
  {
   "cell_type": "markdown",
   "id": "e5ab99fc",
   "metadata": {
    "id": "e5ab99fc"
   },
   "source": [
    "### Popularitas Bahan Bakar"
   ]
  },
  {
   "cell_type": "code",
   "execution_count": 74,
   "id": "b43f1a27",
   "metadata": {
    "ExecuteTime": {
     "end_time": "2023-03-26T10:24:55.499726Z",
     "start_time": "2023-03-26T10:24:54.932422Z"
    },
    "id": "b43f1a27",
    "outputId": "cefaa85c-db18-4cf8-f521-728428e362fa"
   },
   "outputs": [
    {
     "name": "stderr",
     "output_type": "stream",
     "text": [
      "2023-04-13 22:07:20,773 - WARNING  - No artists with labels found to put in legend.  Note that artists whose label start with an underscore are ignored when legend() is called with no argument.\n"
     ]
    },
    {
     "data": {
      "image/png": "[encoded data removed]",
      "text/plain": [
       "<Figure size 640x480 with 1 Axes>"
      ]
     },
     "metadata": {},
     "output_type": "display_data"
    }
   ],
   "source": [
    "sns.countplot(data=df, x='fuelType', hue='brand', order=df['fuelType'].value_counts().index[::])\n",
    "plt.title('Popularitas Bahan Bakar Berdasarkan brand')\n",
    "plt.xlabel('Bahan Bakar')\n",
    "plt.ylabel('Jumlah')\n",
    "ax.legend(title='Brand', loc='upper right')\n",
    "plt.show()"
   ]
  },
  {
   "cell_type": "markdown",
   "id": "GHa4PkNj94Ld",
   "metadata": {
    "id": "GHa4PkNj94Ld"
   },
   "source": [
    "Berdasarkan plot tersebut, dapat dilihat bahwa bahan bakar yang paling populer digunakan di Inggris Raya adalah petrol, diikuti oleh diesel dan hybrid. Brand-brand mobil seperti Ford, Vauxhall, dan Volkswagen terlihat memiliki pilihan bahan bakar yang beragam, sedangkan brand-brand seperti Mercedes-Benz, BMW, dan Audi cenderung lebih banyak menggunakan diesel.\n",
    "\n",
    "Dari hasil visualisasi tersebut juga terlihat bahwa bahan bakar yang paling populer digunakan pada mobil bekas di Inggris Raya adalah petrol, diikuti oleh diesel dan hybrid. Hal ini menunjukkan bahwa meskipun teknologi bahan bakar alternatif semakin berkembang, namun masih banyak pembeli mobil bekas yang lebih memilih menggunakan bahan bakar konvensional seperti petrol dan diesel."
   ]
  },
  {
   "cell_type": "markdown",
   "id": "d5eb841c",
   "metadata": {
    "id": "d5eb841c"
   },
   "source": [
    "# Correlation"
   ]
  },
  {
   "cell_type": "code",
   "execution_count": 75,
   "id": "abee4a53",
   "metadata": {
    "ExecuteTime": {
     "end_time": "2023-04-06T07:40:09.194845Z",
     "start_time": "2023-04-06T07:40:08.701578Z"
    },
    "id": "abee4a53",
    "outputId": "f78db7ab-ffca-4b9e-d2ca-9a3133ea4204",
    "scrolled": true
   },
   "outputs": [
    {
     "data": {
      "text/plain": [
       "<AxesSubplot: >"
      ]
     },
     "execution_count": 75,
     "metadata": {},
     "output_type": "execute_result"
    },
    {
     "data": {
      "image/png": "[encoded data removed]",
      "text/plain": [
       "<Figure size 640x480 with 2 Axes>"
      ]
     },
     "metadata": {},
     "output_type": "display_data"
    }
   ],
   "source": [
    "corr_matrix = df.corr('spearman')\n",
    "matrix = np.triu(corr_matrix)\n",
    "sns.heatmap(corr_matrix, mask=matrix, annot= True)"
   ]
  },
  {
   "cell_type": "markdown",
   "id": "d9a34a6b",
   "metadata": {
    "id": "d9a34a6b"
   },
   "source": [
    "korelasi digunakan untuk mengukur hubungan antara dua variabel. korelasi mengukur kekuatan dan arah hubungan antara dua variabel. Nilai korelasi yaitu berkisar antara -1 hingga 1.\n",
    "\n",
    "- Nilai -1 menunjukan korelasi linear negatif sempurna antara dua variabel\n",
    "- Nilai 0 menyatakan hubungan yang lemah atau menunjukan tidak ada korelasi linier antara dua variabel\n",
    "- Nilai 1 menunjukan korealasi linear positif sempurna antara dua variabel.\n",
    "\n",
    "berdasarkan hasil heatmap, dapat dilihat bahwa:\n",
    "\n",
    "1. Korelasi antara `price` dan `year` adalah **0.6**, menunjukan hubungan yang tergolong cukup mendekati tinggi dan positif antara keduanya. Artinya, semakin baru tahun pembuatan mobil, semakin tinggi harga mobil tersebut.\n",
    "2. Korelasi antara `price` dan `mileage` adalah **-0.51**, menunjukan hubungan yang tergolong cukup dan negatif. Artinya, semakin tinggi jarak tempuh mobilnya, semakin rendah harga mobil tersebut.\n",
    "3. Korelasi antara `price` dan `mpg` adalah **-0.39**, menunjukan hubungan yang tergolong cukup mendekati rendah dan negatif antara keduanya. Artinya, semakin rendah nilai mpg, semakin tinggi harga mobil.\n",
    "4. Korelasi antara `price` dan `tax` adalah **0.32**, menunjukan hubungan yang tergolong cukup mendekati rendah dan positif. Artinya, semakin tinggi besaran pajak mobil, semakin tinggi harga mobil tersebut.\n",
    "\n",
    "namun perlu diingat bahwa korelasi tidak selalu menunjukkan adanya hubungan sebab-akibat, sehingga diperlukan analisis lebih lanjut untuk memastikan faktor apa saja yang berpengaruh terhadap harga mobil.\n",
    "\n",
    "Saat pemodelan nantinya kami akan menggunakan semua fitur"
   ]
  },
  {
   "cell_type": "markdown",
   "id": "fe05bbe3",
   "metadata": {
    "id": "fe05bbe3"
   },
   "source": [
    "# Modeling\n",
    "## Feature Selection"
   ]
  },
  {
   "cell_type": "markdown",
   "id": "475077ea",
   "metadata": {
    "id": "475077ea"
   },
   "source": [
    "sebelum kita lanjut kita akan menduplikasi dataframe dengan variabel df_model\n"
   ]
  },
  {
   "cell_type": "code",
   "execution_count": 76,
   "id": "c6f5b120",
   "metadata": {
    "ExecuteTime": {
     "end_time": "2023-03-26T10:25:04.442493Z",
     "start_time": "2023-03-26T10:25:04.426501Z"
    },
    "id": "c6f5b120"
   },
   "outputs": [],
   "source": [
    "df_model = df.copy()"
   ]
  },
  {
   "cell_type": "code",
   "execution_count": 77,
   "id": "4d9ab2d8",
   "metadata": {
    "ExecuteTime": {
     "end_time": "2023-03-26T10:25:05.374956Z",
     "start_time": "2023-03-26T10:25:05.298001Z"
    },
    "id": "4d9ab2d8",
    "outputId": "a8b9f8d6-469c-4229-af9f-c3d6e201e569"
   },
   "outputs": [
    {
     "data": {
      "text/plain": [
       "brand               9\n",
       "model             194\n",
       "year               25\n",
       "transmission        3\n",
       "mileage         42145\n",
       "mpg               207\n",
       "engineSize         39\n",
       "fuelType            5\n",
       "tax                48\n",
       "price           13220\n",
       "dtype: int64"
      ]
     },
     "execution_count": 77,
     "metadata": {},
     "output_type": "execute_result"
    }
   ],
   "source": [
    "df_model.nunique()"
   ]
  },
  {
   "cell_type": "markdown",
   "id": "fcd978df",
   "metadata": {
    "id": "fcd978df"
   },
   "source": [
    "## Split Train Test"
   ]
  },
  {
   "cell_type": "code",
   "execution_count": 78,
   "id": "20ef6fd5",
   "metadata": {
    "ExecuteTime": {
     "end_time": "2023-03-26T10:25:07.266006Z",
     "start_time": "2023-03-26T10:25:07.238022Z"
    },
    "id": "20ef6fd5"
   },
   "outputs": [],
   "source": [
    "x = df_model.drop(columns='price')\n",
    "y = df_model['price']"
   ]
  },
  {
   "cell_type": "code",
   "execution_count": 79,
   "id": "07316085",
   "metadata": {
    "ExecuteTime": {
     "end_time": "2023-03-26T10:25:08.152587Z",
     "start_time": "2023-03-26T10:25:08.098616Z"
    },
    "id": "07316085"
   },
   "outputs": [],
   "source": [
    "X_train, X_test, y_train, y_test = train_test_split(\n",
    "x,\n",
    " y,\n",
    " test_size=0.2,\n",
    " random_state=0)"
   ]
  },
  {
   "cell_type": "markdown",
   "id": "1802c7d3",
   "metadata": {
    "id": "1802c7d3"
   },
   "source": [
    "## Encoding dan scaling"
   ]
  },
  {
   "cell_type": "code",
   "execution_count": 109,
   "id": "ad7583f1",
   "metadata": {
    "ExecuteTime": {
     "end_time": "2023-03-26T10:25:22.428831Z",
     "start_time": "2023-03-26T10:25:22.394848Z"
    },
    "id": "ad7583f1",
    "outputId": "3165dcc3-884b-4c38-cf52-6547f2f2cf9f"
   },
   "outputs": [
    {
     "data": {
      "text/plain": [
       "ColumnTransformer(remainder='passthrough',\n",
       "                  transformers=[('scaler', RobustScaler(),\n",
       "                                 ['year', 'mileage', 'mpg', 'tax']),\n",
       "                                ('onehot', OneHotEncoder(drop='first'),\n",
       "                                 ['transmission', 'fuelType']),\n",
       "                                ('binary', BinaryEncoder(),\n",
       "                                 ['brand', 'model'])])"
      ]
     },
     "execution_count": 109,
     "metadata": {},
     "output_type": "execute_result"
    }
   ],
   "source": [
    "transformer = ColumnTransformer([\n",
    "    ('scaler', RobustScaler(), ['year', 'mileage', 'mpg', 'tax']),\n",
    "    ('onehot', OneHotEncoder(drop='first'), ['transmission', 'fuelType']),\n",
    "    ('binary', ce.BinaryEncoder(),['brand', 'model'])\n",
    "], remainder='passthrough')\n",
    "transformer"
   ]
  },
  {
   "cell_type": "markdown",
   "id": "34df55aa",
   "metadata": {
    "id": "34df55aa"
   },
   "source": [
    "\n",
    "\n",
    "1. Pertama, dilakukan scaling menggunakan RobustScaler pada kolom year, mileage, mpg, dan tax untuk mengurangi pengaruh outliers.\n",
    "\n",
    "2. Selanjutnya, dilakukan one-hot encoding pada kolom transmission dan fuelType menggunakan OneHotEncoder untuk mengubah variabel kategorikal menjadi numerik. Dalam kodingan ini, opsi drop='first' digunakan agar kolom pertama dari setiap variabel tidak diikutkan untuk menghindari multicollinearity.\n",
    "\n",
    "3. Terakhir, dilakukan binary encoding menggunakan library category_encoders pada kolom brand dan model. Binary encoding dilakukan untuk mengurangi dimensi dan efektif dalam mengatasi masalah kategorikal yang memiliki banyak kategori unik.\n",
    "\n",
    "4. Opsi remainder='passthrough' digunakan agar kolom yang tidak diubah dengan transformer tetap dipertahankan di dalam data setelah proses preprocessing."
   ]
  },
  {
   "cell_type": "code",
   "execution_count": 81,
   "id": "740ab949",
   "metadata": {
    "ExecuteTime": {
     "end_time": "2023-03-26T10:23:39.198479Z",
     "start_time": "2023-03-26T10:23:39.198479Z"
    },
    "id": "740ab949"
   },
   "outputs": [],
   "source": [
    "# Import library\n",
    "\n",
    "from sklearn.model_selection import train_test_split, cross_val_score, GridSearchCV, KFold\n",
    "\n",
    "import category_encoders as ce\n",
    "from sklearn.preprocessing import OneHotEncoder\n",
    "from sklearn.compose import ColumnTransformer\n",
    "from sklearn.pipeline import Pipeline\n",
    "\n",
    "from sklearn.linear_model import LinearRegression\n",
    "from sklearn.neighbors import KNeighborsRegressor\n",
    "from sklearn.tree import DecisionTreeRegressor\n",
    "from xgboost.sklearn import XGBRegressor\n",
    "from sklearn.compose import TransformedTargetRegressor\n",
    "from sklearn.ensemble import RandomForestRegressor, GradientBoostingRegressor\n",
    "from sklearn.svm import SVR\n",
    "from sklearn.linear_model import BayesianRidge\n",
    "\n",
    "from sklearn.preprocessing import StandardScaler, RobustScaler\n",
    "\n",
    "from sklearn.metrics import r2_score, mean_squared_error, mean_absolute_error, mean_absolute_percentage_error"
   ]
  },
  {
   "cell_type": "code",
   "execution_count": 87,
   "id": "ce41589f",
   "metadata": {
    "ExecuteTime": {
     "end_time": "2023-03-26T10:23:39.202476Z",
     "start_time": "2023-03-26T10:23:39.202476Z"
    },
    "id": "ce41589f",
    "outputId": "f24a084d-06b9-4b34-cc31-7a2d673907bd"
   },
   "outputs": [
    {
     "name": "stdout",
     "output_type": "stream",
     "text": [
      "[-4644.35185346 -4610.02360292 -4587.06116585 -4881.50573722\n",
      " -4894.83258791] LinearRegression()\n",
      "[-2982.98542432 -2951.63389966 -2966.42960617 -3209.30804771\n",
      " -3091.63867155] LinearRegression()\n",
      "[-0.23533779 -0.23365062 -0.2308018  -0.24599175 -0.23488565] LinearRegression()\n",
      "[-2879.37382418 -2590.24417404 -2668.60097871 -2500.40517836\n",
      " -3021.61915508] DecisionTreeRegressor()\n",
      "[-1485.46463604 -1488.23986812 -1507.68194775 -1476.66652426\n",
      " -1515.40487237] DecisionTreeRegressor()\n",
      "[-0.09589142 -0.09532095 -0.0945461  -0.09492428 -0.09414956] DecisionTreeRegressor()\n"
     ]
    },
    {
     "name": "stderr",
     "output_type": "stream",
     "text": [
      "2023-04-13 22:20:30,410 - ERROR    - Exception occurred while processing request: 'NoneType' object is not iterable\n",
      "Traceback (most recent call last):\n",
      "  File \"c:\\Users\\LENOVO\\anaconda3\\lib\\site-packages\\dtale\\views.py\", line 111, in _handle_exceptions\n",
      "    return func(*args, **kwargs)\n",
      "  File \"c:\\Users\\LENOVO\\anaconda3\\lib\\site-packages\\dtale\\views.py\", line 2541, in get_data\n",
      "    curr_dtypes = [c[\"name\"] for c in global_state.get_dtypes(data_id)]\n",
      "TypeError: 'NoneType' object is not iterable\n"
     ]
    },
    {
     "name": "stdout",
     "output_type": "stream",
     "text": [
      "[-2000.17609591 -2017.25170089 -1927.72509078 -1948.55176183\n",
      " -2479.89552548] RandomForestRegressor()\n",
      "[-1180.39838763 -1186.54964361 -1196.75471659 -1182.49092669\n",
      " -1202.43284755] RandomForestRegressor()\n",
      "[-0.07512864 -0.07613877 -0.07606118 -0.07519059 -0.07425693] RandomForestRegressor()\n",
      "[-3040.94878235 -3059.50959273 -3090.12742734 -3150.52872006\n",
      " -3408.16575632] GradientBoostingRegressor()\n",
      "[-2042.64434852 -2024.87099934 -2085.31990283 -2118.67712705\n",
      " -2149.70887044] GradientBoostingRegressor()\n",
      "[-0.13323475 -0.1314779  -0.13466294 -0.13655931 -0.13748845] GradientBoostingRegressor()\n",
      "[-8726.28492725 -8656.1110787  -8631.05094925 -8891.67449635\n",
      " -8712.48905885] SVR()\n"
     ]
    },
    {
     "name": "stderr",
     "output_type": "stream",
     "text": [
      "2023-04-13 23:25:26,917 - INFO     - Executing shutdown due to inactivity...\n",
      "2023-04-13 23:25:39,126 - INFO     - Executing shutdown...\n"
     ]
    },
    {
     "name": "stdout",
     "output_type": "stream",
     "text": [
      "[-5497.06146859 -5488.42438138 -5509.24896679 -5628.67067074\n",
      " -5452.0518613 ] SVR()\n",
      "[-0.3801483  -0.3770446  -0.3757709  -0.38091213 -0.3676549 ] SVR()\n",
      "[-4644.25385703 -4610.06027729 -4587.08227314 -4881.4102355\n",
      " -4894.86226711] BayesianRidge()\n",
      "[-2982.71310838 -2951.40122713 -2966.23839004 -3208.9325448\n",
      " -3091.40917798] BayesianRidge()\n",
      "[-0.23530671 -0.23362408 -0.23077824 -0.2459469  -0.23485322] BayesianRidge()\n",
      "[-2157.83005048 -2105.5342248  -2047.71969531 -2087.74814276\n",
      " -2527.25831786] KNeighborsRegressor()\n",
      "[-1252.92330595 -1255.00953542 -1247.31351386 -1245.40510813\n",
      " -1266.45434127] KNeighborsRegressor()\n",
      "[-0.07899666 -0.0798927  -0.07875246 -0.07824166 -0.07783665] KNeighborsRegressor()\n",
      "[-1972.66071752 -2040.07249533 -1948.62781857 -1975.00542754\n",
      " -2363.24305833] XGBRegressor(base_score=None, booster=None, callbacks=None,\n",
      "             colsample_bylevel=None, colsample_bynode=None,\n",
      "             colsample_bytree=None, early_stopping_rounds=None,\n",
      "             enable_categorical=False, eval_metric=None, feature_types=None,\n",
      "             gamma=None, gpu_id=None, grow_policy=None, importance_type=None,\n",
      "             interaction_constraints=None, learning_rate=None, max_bin=None,\n",
      "             max_cat_threshold=None, max_cat_to_onehot=None,\n",
      "             max_delta_step=None, max_depth=None, max_leaves=None,\n",
      "             min_child_weight=None, missing=nan, monotone_constraints=None,\n",
      "             n_estimators=100, n_jobs=None, num_parallel_tree=None,\n",
      "             predictor=None, random_state=1, ...)\n",
      "[-1273.18097798 -1289.63007067 -1279.70071783 -1287.466219\n",
      " -1304.29475208] XGBRegressor(base_score=None, booster=None, callbacks=None,\n",
      "             colsample_bylevel=None, colsample_bynode=None,\n",
      "             colsample_bytree=None, early_stopping_rounds=None,\n",
      "             enable_categorical=False, eval_metric=None, feature_types=None,\n",
      "             gamma=None, gpu_id=None, grow_policy=None, importance_type=None,\n",
      "             interaction_constraints=None, learning_rate=None, max_bin=None,\n",
      "             max_cat_threshold=None, max_cat_to_onehot=None,\n",
      "             max_delta_step=None, max_depth=None, max_leaves=None,\n",
      "             min_child_weight=None, missing=nan, monotone_constraints=None,\n",
      "             n_estimators=100, n_jobs=None, num_parallel_tree=None,\n",
      "             predictor=None, random_state=1, ...)\n",
      "[-0.0820486  -0.08311801 -0.0829927  -0.08216127 -0.08175518] XGBRegressor(base_score=None, booster=None, callbacks=None,\n",
      "             colsample_bylevel=None, colsample_bynode=None,\n",
      "             colsample_bytree=None, early_stopping_rounds=None,\n",
      "             enable_categorical=False, eval_metric=None, feature_types=None,\n",
      "             gamma=None, gpu_id=None, grow_policy=None, importance_type=None,\n",
      "             interaction_constraints=None, learning_rate=None, max_bin=None,\n",
      "             max_cat_threshold=None, max_cat_to_onehot=None,\n",
      "             max_delta_step=None, max_depth=None, max_leaves=None,\n",
      "             min_child_weight=None, missing=nan, monotone_constraints=None,\n",
      "             n_estimators=100, n_jobs=None, num_parallel_tree=None,\n",
      "             predictor=None, random_state=1, ...)\n"
     ]
    }
   ],
   "source": [
    "models = [\n",
    "    LinearRegression(),\n",
    "    DecisionTreeRegressor(),\n",
    "    RandomForestRegressor(),\n",
    "    GradientBoostingRegressor(),\n",
    "    SVR(),\n",
    "    BayesianRidge(),\n",
    "    KNeighborsRegressor(),\n",
    "    XGBRegressor(random_state=1)\n",
    "]\n",
    "\n",
    "score_R2=[]\n",
    "mean_R2=[]\n",
    "std_R2=[]\n",
    "\n",
    "score_rmse = []\n",
    "nilai_mean_rmse = []\n",
    "nilai_std_rmse = []\n",
    "\n",
    "score_mae = []\n",
    "nilai_mean_mae = []\n",
    "nilai_std_mae = []\n",
    "\n",
    "score_mape = []\n",
    "nilai_mean_mape = []\n",
    "nilai_std_mape = []\n",
    "\n",
    "# finding the best algorithm based on metrics\n",
    "for i in models:\n",
    "    \n",
    "    crossval = KFold(n_splits=5, shuffle=True, random_state=1)\n",
    "\n",
    "    estimator = Pipeline([\n",
    "        ('preprocessing', transformer),\n",
    "        ('model', i)\n",
    "    ])\n",
    "    # R-Squared\n",
    "    model_cv_R2 = cross_val_score(estimator\n",
    "                                ,X_train,\n",
    "                                y_train,\n",
    "                                cv=crossval,\n",
    "                                scoring='r2')\n",
    "    score_R2.append(model_cv_R2)\n",
    "    mean_R2.append(model_cv_R2.mean())\n",
    "    std_R2.append(model_cv_R2.std())\n",
    "    \n",
    "    # RMSE\n",
    "    model_cv_rmse = cross_val_score(\n",
    "        estimator, \n",
    "        X_train, \n",
    "        y_train, \n",
    "        cv=crossval, \n",
    "        scoring='neg_root_mean_squared_error'\n",
    "        )\n",
    "\n",
    "    print(model_cv_rmse, i)\n",
    "\n",
    "    score_rmse.append(model_cv_rmse)\n",
    "    nilai_mean_rmse.append(model_cv_rmse.mean())\n",
    "    nilai_std_rmse.append(model_cv_rmse.std())\n",
    "\n",
    "    # MAE\n",
    "    model_cv_mae = cross_val_score(\n",
    "        estimator, \n",
    "        X_train, \n",
    "        y_train, \n",
    "        cv=crossval, \n",
    "        scoring='neg_mean_absolute_error'\n",
    "        )\n",
    "\n",
    "    print(model_cv_mae, i)\n",
    "\n",
    "    score_mae.append(model_cv_mae)\n",
    "    nilai_mean_mae.append(model_cv_mae.mean())\n",
    "    nilai_std_mae.append(model_cv_mae.std())\n",
    "\n",
    "    # MAPE\n",
    "    model_cv_mape = cross_val_score(\n",
    "        estimator, \n",
    "        X_train, \n",
    "        y_train, \n",
    "        cv=crossval, \n",
    "        scoring='neg_mean_absolute_percentage_error'\n",
    "        )\n",
    "\n",
    "    print(model_cv_mape, i)\n",
    "\n",
    "    score_mape.append(model_cv_mape)\n",
    "    nilai_mean_mape.append(model_cv_mape.mean())\n",
    "    nilai_std_mape.append(model_cv_mape.std())\n"
   ]
  },
  {
   "cell_type": "code",
   "execution_count": 91,
   "id": "915cf596",
   "metadata": {
    "ExecuteTime": {
     "end_time": "2023-03-26T10:23:39.205475Z",
     "start_time": "2023-03-26T10:23:39.205475Z"
    },
    "id": "915cf596",
    "outputId": "1e72993c-8283-4f22-9cb4-3afe61270f1e"
   },
   "outputs": [
    {
     "data": {
      "text/html": [
       "<div>\n",
       "<style scoped>\n",
       "    .dataframe tbody tr th:only-of-type {\n",
       "        vertical-align: middle;\n",
       "    }\n",
       "\n",
       "    .dataframe tbody tr th {\n",
       "        vertical-align: top;\n",
       "    }\n",
       "\n",
       "    .dataframe thead th {\n",
       "        text-align: right;\n",
       "    }\n",
       "</style>\n",
       "<table border=\"1\" class=\"dataframe\">\n",
       "  <thead>\n",
       "    <tr style=\"text-align: right;\">\n",
       "      <th></th>\n",
       "      <th>Mean R2</th>\n",
       "      <th>Standar Deviasi R2</th>\n",
       "      <th>RMSE</th>\n",
       "      <th>RMSE_std</th>\n",
       "      <th>MAE</th>\n",
       "      <th>MAE_std</th>\n",
       "      <th>MAPE</th>\n",
       "      <th>MAPE_std</th>\n",
       "    </tr>\n",
       "    <tr>\n",
       "      <th>Model</th>\n",
       "      <th></th>\n",
       "      <th></th>\n",
       "      <th></th>\n",
       "      <th></th>\n",
       "      <th></th>\n",
       "      <th></th>\n",
       "      <th></th>\n",
       "      <th></th>\n",
       "    </tr>\n",
       "  </thead>\n",
       "  <tbody>\n",
       "    <tr>\n",
       "      <th>Random Forest</th>\n",
       "      <td>0.955601</td>\n",
       "      <td>0.009212</td>\n",
       "      <td>-2074.720035</td>\n",
       "      <td>205.208447</td>\n",
       "      <td>-1189.725304</td>\n",
       "      <td>8.488895</td>\n",
       "      <td>-0.075355</td>\n",
       "      <td>0.000692</td>\n",
       "    </tr>\n",
       "    <tr>\n",
       "      <th>K-Nearest Neighbors</th>\n",
       "      <td>0.951114</td>\n",
       "      <td>0.008011</td>\n",
       "      <td>-2185.218086</td>\n",
       "      <td>174.640969</td>\n",
       "      <td>-1253.421161</td>\n",
       "      <td>7.405336</td>\n",
       "      <td>-0.078744</td>\n",
       "      <td>0.000701</td>\n",
       "    </tr>\n",
       "    <tr>\n",
       "      <th>XGBRegressor</th>\n",
       "      <td>0.956584</td>\n",
       "      <td>0.006695</td>\n",
       "      <td>-2059.921903</td>\n",
       "      <td>154.667009</td>\n",
       "      <td>-1286.854548</td>\n",
       "      <td>10.491732</td>\n",
       "      <td>-0.082415</td>\n",
       "      <td>0.000541</td>\n",
       "    </tr>\n",
       "    <tr>\n",
       "      <th>Decision Tree</th>\n",
       "      <td>0.926895</td>\n",
       "      <td>0.009500</td>\n",
       "      <td>-2732.048662</td>\n",
       "      <td>191.493393</td>\n",
       "      <td>-1494.691570</td>\n",
       "      <td>14.487607</td>\n",
       "      <td>-0.094966</td>\n",
       "      <td>0.000604</td>\n",
       "    </tr>\n",
       "    <tr>\n",
       "      <th>Gradient Boosting</th>\n",
       "      <td>0.898865</td>\n",
       "      <td>0.008456</td>\n",
       "      <td>-3149.856056</td>\n",
       "      <td>134.398765</td>\n",
       "      <td>-2084.244250</td>\n",
       "      <td>46.320905</td>\n",
       "      <td>-0.134685</td>\n",
       "      <td>0.002180</td>\n",
       "    </tr>\n",
       "    <tr>\n",
       "      <th>Bayesian Ridge</th>\n",
       "      <td>0.772849</td>\n",
       "      <td>0.010787</td>\n",
       "      <td>-4723.533782</td>\n",
       "      <td>135.690074</td>\n",
       "      <td>-3040.138890</td>\n",
       "      <td>97.727496</td>\n",
       "      <td>-0.236102</td>\n",
       "      <td>0.005169</td>\n",
       "    </tr>\n",
       "    <tr>\n",
       "      <th>Linear Regression</th>\n",
       "      <td>0.772847</td>\n",
       "      <td>0.010788</td>\n",
       "      <td>-4723.554989</td>\n",
       "      <td>135.703744</td>\n",
       "      <td>-3040.399130</td>\n",
       "      <td>97.778120</td>\n",
       "      <td>-0.236134</td>\n",
       "      <td>0.005176</td>\n",
       "    </tr>\n",
       "    <tr>\n",
       "      <th>SVR</th>\n",
       "      <td>0.225517</td>\n",
       "      <td>0.007728</td>\n",
       "      <td>-8723.522102</td>\n",
       "      <td>91.104060</td>\n",
       "      <td>-5515.091470</td>\n",
       "      <td>59.907556</td>\n",
       "      <td>-0.376306</td>\n",
       "      <td>0.004726</td>\n",
       "    </tr>\n",
       "  </tbody>\n",
       "</table>\n",
       "</div>"
      ],
      "text/plain": [
       "                      Mean R2  Standar Deviasi R2         RMSE    RMSE_std  \\\n",
       "Model                                                                        \n",
       "Random Forest        0.955601            0.009212 -2074.720035  205.208447   \n",
       "K-Nearest Neighbors  0.951114            0.008011 -2185.218086  174.640969   \n",
       "XGBRegressor         0.956584            0.006695 -2059.921903  154.667009   \n",
       "Decision Tree        0.926895            0.009500 -2732.048662  191.493393   \n",
       "Gradient Boosting    0.898865            0.008456 -3149.856056  134.398765   \n",
       "Bayesian Ridge       0.772849            0.010787 -4723.533782  135.690074   \n",
       "Linear Regression    0.772847            0.010788 -4723.554989  135.703744   \n",
       "SVR                  0.225517            0.007728 -8723.522102   91.104060   \n",
       "\n",
       "                             MAE    MAE_std      MAPE  MAPE_std  \n",
       "Model                                                            \n",
       "Random Forest       -1189.725304   8.488895 -0.075355  0.000692  \n",
       "K-Nearest Neighbors -1253.421161   7.405336 -0.078744  0.000701  \n",
       "XGBRegressor        -1286.854548  10.491732 -0.082415  0.000541  \n",
       "Decision Tree       -1494.691570  14.487607 -0.094966  0.000604  \n",
       "Gradient Boosting   -2084.244250  46.320905 -0.134685  0.002180  \n",
       "Bayesian Ridge      -3040.138890  97.727496 -0.236102  0.005169  \n",
       "Linear Regression   -3040.399130  97.778120 -0.236134  0.005176  \n",
       "SVR                 -5515.091470  59.907556 -0.376306  0.004726  "
      ]
     },
     "execution_count": 91,
     "metadata": {},
     "output_type": "execute_result"
    }
   ],
   "source": [
    "# create a dictionary to store the results\n",
    "results_dict = pd.DataFrame({\n",
    "    'Model': ['Linear Regression', 'Decision Tree', \n",
    "                'Random Forest', 'Gradient Boosting', 'SVR', 'Bayesian Ridge', \n",
    "                'K-Nearest Neighbors', 'XGBRegressor'],\n",
    "    'Mean R2' : mean_R2,\n",
    "    'Standar Deviasi R2' : std_R2,\n",
    "    'RMSE': nilai_mean_rmse,\n",
    "    'RMSE_std': nilai_std_rmse,\n",
    "    'MAE': nilai_mean_mae,\n",
    "    'MAE_std': nilai_std_mae,\n",
    "    'MAPE': nilai_mean_mape,\n",
    "    'MAPE_std': nilai_std_mape\n",
    "}).set_index('Model').sort_values(by='MAPE', ascending=False)\n",
    "# print the dataframe\n",
    "results_dict"
   ]
  },
  {
   "cell_type": "markdown",
   "id": "6KGIVEU8oxnA",
   "metadata": {
    "id": "6KGIVEU8oxnA"
   },
   "source": [
    "- R2 (Coefficient of Determination) yang mencapai nilai 0.955601 menunjukkan bahwa model dapat menjelaskan sekitar 95,56% variabilitas data yang ada, sehingga dapat dikatakan model cukup baik dalam menggambarkan hubungan antara variabel independen dan dependen dalam dataset.\n",
    "- Standar deviasi R2 yang rendah, yaitu sekitar 0.009212, menunjukkan bahwa model Random Forest konsisten dalam performa evaluasi.\n",
    "- RMSE (Root Mean Square Error) yang relatif rendah, yaitu sebesar 2074.720035 menunjukkan bahwa prediksi model memiliki rata-rata kesalahan sekitar ± 2074, sehingga model cukup akurat dalam memprediksi harga mobil bekas.\n",
    "- MAE (Mean Absolute Error) yang juga relatif rendah, yaitu sekitar 1189.725304 menunjukkan bahwa model cukup akurat dalam memprediksi harga mobil bekas pada skala rata-rata.\n",
    "- MAPE (Mean Absolute Percentage Error) yang negatif, yaitu sekitar -0.075355, menunjukkan bahwa model cenderung melakukan underestimation dalam memprediksi harga mobil bekas.\n",
    "\n",
    "Dengan nilai evaluasi yang cukup baik, model Random Forest dapat digunakan sebagai salah satu referensi dalam menentukan harga jual mobil bekas di Inggris Raya"
   ]
  },
  {
   "cell_type": "markdown",
   "id": "c6c7bc9e",
   "metadata": {},
   "source": [
    "**Predict to Test Set with the Benchmark Model**"
   ]
  },
  {
   "cell_type": "markdown",
   "id": "0efc8e9e",
   "metadata": {},
   "source": [
    "Prediksi pada test set dengan menggunakan model Random Forest"
   ]
  },
  {
   "cell_type": "code",
   "execution_count": 121,
   "id": "98cbd406",
   "metadata": {},
   "outputs": [
    {
     "data": {
      "text/html": [
       "<div>\n",
       "<style scoped>\n",
       "    .dataframe tbody tr th:only-of-type {\n",
       "        vertical-align: middle;\n",
       "    }\n",
       "\n",
       "    .dataframe tbody tr th {\n",
       "        vertical-align: top;\n",
       "    }\n",
       "\n",
       "    .dataframe thead th {\n",
       "        text-align: right;\n",
       "    }\n",
       "</style>\n",
       "<table border=\"1\" class=\"dataframe\">\n",
       "  <thead>\n",
       "    <tr style=\"text-align: right;\">\n",
       "      <th></th>\n",
       "      <th>RMSE</th>\n",
       "      <th>MAE</th>\n",
       "      <th>MAPE</th>\n",
       "    </tr>\n",
       "  </thead>\n",
       "  <tbody>\n",
       "    <tr>\n",
       "      <th>RandomForest</th>\n",
       "      <td>1910.217106</td>\n",
       "      <td>1156.8935</td>\n",
       "      <td>0.07405</td>\n",
       "    </tr>\n",
       "  </tbody>\n",
       "</table>\n",
       "</div>"
      ],
      "text/plain": [
       "                     RMSE        MAE     MAPE\n",
       "RandomForest  1910.217106  1156.8935  0.07405"
      ]
     },
     "execution_count": 121,
     "metadata": {},
     "output_type": "execute_result"
    }
   ],
   "source": [
    "# Benchmark model terbaik\n",
    "models = {\n",
    "    'RandomForest': RandomForestRegressor(random_state=0)\n",
    "}\n",
    "\n",
    "score_rmse = []\n",
    "score_mae = []\n",
    "score_mape = []\n",
    "\n",
    "# Prediksi pada test set\n",
    "for i in models:\n",
    "\n",
    "    model = Pipeline([\n",
    "        ('preprocessing', transformer),\n",
    "        ('model', models[i])\n",
    "        ])\n",
    "\n",
    "    model.fit(X_train, y_train)\n",
    "    y_pred = model.predict(X_test)\n",
    "    score_rmse.append(np.sqrt(mean_squared_error(y_test, y_pred)))\n",
    "    score_mae.append(mean_absolute_error(y_test, y_pred))\n",
    "    score_mape.append(mean_absolute_percentage_error(y_test, y_pred))\n",
    "\n",
    "score_before_tuning = pd.DataFrame({'RMSE': score_rmse, 'MAE': score_mae, 'MAPE': score_mape}, index=models.keys())\n",
    "score_before_tuning"
   ]
  },
  {
   "cell_type": "markdown",
   "id": "e36d9e50",
   "metadata": {
    "ExecuteTime": {
     "end_time": "2023-03-25T21:42:39.227871Z",
     "start_time": "2023-03-25T21:42:39.215881Z"
    },
    "id": "e36d9e50"
   },
   "source": [
    "# Hyperparameter tuning"
   ]
  },
  {
   "cell_type": "code",
   "execution_count": 92,
   "id": "ef89c927",
   "metadata": {
    "ExecuteTime": {
     "end_time": "2023-03-26T10:23:39.208473Z",
     "start_time": "2023-03-26T10:23:39.208473Z"
    },
    "id": "ef89c927"
   },
   "outputs": [],
   "source": [
    "from jcopml.tuning import grid_search_params as gsp"
   ]
  },
  {
   "cell_type": "code",
   "execution_count": 93,
   "id": "8054c3cb",
   "metadata": {
    "ExecuteTime": {
     "end_time": "2023-03-26T10:23:39.214469Z",
     "start_time": "2023-03-26T10:23:39.214469Z"
    },
    "id": "8054c3cb",
    "outputId": "532f7641-0145-4fe1-81b3-8d848553e06d",
    "scrolled": true
   },
   "outputs": [
    {
     "data": {
      "text/plain": [
       "{'algo__n_estimators': [100, 150, 200],\n",
       " 'algo__max_depth': [20, 50, 80],\n",
       " 'algo__max_features': [0.3, 0.6, 0.8],\n",
       " 'algo__min_samples_leaf': [1, 5, 10]}"
      ]
     },
     "execution_count": 93,
     "metadata": {},
     "output_type": "execute_result"
    }
   ],
   "source": [
    "gsp.rf_params"
   ]
  },
  {
   "cell_type": "code",
   "execution_count": 94,
   "id": "f471a359",
   "metadata": {
    "ExecuteTime": {
     "end_time": "2023-03-26T10:23:39.217469Z",
     "start_time": "2023-03-26T10:23:39.217469Z"
    },
    "id": "f471a359"
   },
   "outputs": [],
   "source": [
    "from sklearn.model_selection import GridSearchCV"
   ]
  },
  {
   "cell_type": "code",
   "execution_count": 122,
   "id": "6b76d563",
   "metadata": {
    "ExecuteTime": {
     "end_time": "2023-03-26T10:23:39.221467Z",
     "start_time": "2023-03-26T10:23:39.221467Z"
    },
    "id": "6b76d563",
    "outputId": "7b3c914e-247f-4d8c-d5c8-21f567f02733"
   },
   "outputs": [
    {
     "name": "stdout",
     "output_type": "stream",
     "text": [
      "Fitting 5 folds for each of 81 candidates, totalling 405 fits\n",
      "Best Parameters:  {'algo__max_depth': 20, 'algo__max_features': 0.3, 'algo__min_samples_leaf': 1, 'algo__n_estimators': 200}\n",
      "Best Score:  -0.07215742900908304\n"
     ]
    }
   ],
   "source": [
    "# define the pipeline\n",
    "estimator = Pipeline([\n",
    "    ('preprocessing', transformer),\n",
    "    ('algo', RandomForestRegressor(random_state=0))\n",
    "])\n",
    "# perform hyperparameter tuning using gridsearch\n",
    "gridsearch = GridSearchCV(\n",
    "    estimator=estimator,\n",
    "    param_grid=gsp.rf_params,\n",
    "    cv=5,\n",
    "    scoring='neg_mean_absolute_percentage_error',\n",
    "    verbose=1,\n",
    "    n_jobs=-1\n",
    ")\n",
    "\n",
    "# fit the model\n",
    "gridsearch.fit(X_train, y_train)\n",
    "\n",
    "# Print parameter terbaik dan hasil skor\n",
    "print('Best Parameters: ', gridsearch.best_params_)\n",
    "print('Best Score: ', gridsearch.best_score_)"
   ]
  },
  {
   "cell_type": "markdown",
   "id": "8b1a2271",
   "metadata": {},
   "source": [
    "Parameter terbaik `gridsearch.best_params_`\n",
    "\n",
    "{'algo__max_depth': 20, 'algo__max_features': 0.3, 'algo__min_samples_leaf': 1, 'algo__n_estimators': 200}\n",
    "\n",
    "Hyperparameter ini dapat digunakan untuk melatih model Random Forest pada dataset yang diberikan. Kinerja model dapat dievaluasi menggunakan metrik evaluasi yang sesuai untuk menentukan seberapa baik model dapat membuat prediksi pada data baru yang belum pernah dilihat sebelumnya."
   ]
  },
  {
   "cell_type": "markdown",
   "id": "6c5508bf",
   "metadata": {},
   "source": [
    "**Predict to Test Set with the Tuned Model**"
   ]
  },
  {
   "cell_type": "markdown",
   "id": "2bd71805",
   "metadata": {},
   "source": [
    "Melakukan prediksi pada test set dengan menggunakan model Random Forest dan hyperparameter terpilih."
   ]
  },
  {
   "cell_type": "code",
   "execution_count": 124,
   "id": "77e5e281",
   "metadata": {},
   "outputs": [
    {
     "data": {
      "text/html": [
       "<div>\n",
       "<style scoped>\n",
       "    .dataframe tbody tr th:only-of-type {\n",
       "        vertical-align: middle;\n",
       "    }\n",
       "\n",
       "    .dataframe tbody tr th {\n",
       "        vertical-align: top;\n",
       "    }\n",
       "\n",
       "    .dataframe thead th {\n",
       "        text-align: right;\n",
       "    }\n",
       "</style>\n",
       "<table border=\"1\" class=\"dataframe\">\n",
       "  <thead>\n",
       "    <tr style=\"text-align: right;\">\n",
       "      <th></th>\n",
       "      <th>RMSE</th>\n",
       "      <th>MAE</th>\n",
       "      <th>MAPE</th>\n",
       "    </tr>\n",
       "  </thead>\n",
       "  <tbody>\n",
       "    <tr>\n",
       "      <th>RandomForest</th>\n",
       "      <td>1789.336879</td>\n",
       "      <td>1093.504126</td>\n",
       "      <td>0.070724</td>\n",
       "    </tr>\n",
       "  </tbody>\n",
       "</table>\n",
       "</div>"
      ],
      "text/plain": [
       "                     RMSE          MAE      MAPE\n",
       "RandomForest  1789.336879  1093.504126  0.070724"
      ]
     },
     "execution_count": 124,
     "metadata": {},
     "output_type": "execute_result"
    }
   ],
   "source": [
    "# Model Random Forest\n",
    "model = {'RandomForest': RandomForestRegressor(random_state=0)}\n",
    "\n",
    "# Define model terhadap estimator terbaik\n",
    "rf_tuning = gridsearch.best_estimator_\n",
    "\n",
    "# Fitting model\n",
    "rf_tuning.fit(X_train, y_train)\n",
    "\n",
    "# Predict test set\n",
    "y_pred_rf_tuning = rf_tuning.predict(X_test)\n",
    "\n",
    "# Simpan nilai metrics RMSE, MAE & MAPE setelah tuning\n",
    "rmse_rf_tuning = np.sqrt(mean_squared_error(y_test, y_pred_rf_tuning))\n",
    "mae_rf_tuning = mean_absolute_error(y_test, y_pred_rf_tuning)\n",
    "mape_rf_tuning = mean_absolute_percentage_error(y_test, y_pred_rf_tuning)\n",
    "\n",
    "score_after_tuning = pd.DataFrame({'RMSE': rmse_rf_tuning, 'MAE': mae_rf_tuning, 'MAPE': mape_rf_tuning}, index=model.keys())\n",
    "score_after_tuning"
   ]
  },
  {
   "cell_type": "code",
   "execution_count": 125,
   "id": "dec2267e",
   "metadata": {},
   "outputs": [
    {
     "data": {
      "text/html": [
       "<div>\n",
       "<style scoped>\n",
       "    .dataframe tbody tr th:only-of-type {\n",
       "        vertical-align: middle;\n",
       "    }\n",
       "\n",
       "    .dataframe tbody tr th {\n",
       "        vertical-align: top;\n",
       "    }\n",
       "\n",
       "    .dataframe thead th {\n",
       "        text-align: right;\n",
       "    }\n",
       "</style>\n",
       "<table border=\"1\" class=\"dataframe\">\n",
       "  <thead>\n",
       "    <tr style=\"text-align: right;\">\n",
       "      <th></th>\n",
       "      <th>RMSE</th>\n",
       "      <th>MAE</th>\n",
       "      <th>MAPE</th>\n",
       "    </tr>\n",
       "  </thead>\n",
       "  <tbody>\n",
       "    <tr>\n",
       "      <th>RandomForest</th>\n",
       "      <td>1910.217106</td>\n",
       "      <td>1156.8935</td>\n",
       "      <td>0.07405</td>\n",
       "    </tr>\n",
       "  </tbody>\n",
       "</table>\n",
       "</div>"
      ],
      "text/plain": [
       "                     RMSE        MAE     MAPE\n",
       "RandomForest  1910.217106  1156.8935  0.07405"
      ]
     },
     "execution_count": 125,
     "metadata": {},
     "output_type": "execute_result"
    }
   ],
   "source": [
    "# Sebelum hyperparameter tuning\n",
    "pd.DataFrame(score_before_tuning.loc['RandomForest']).T"
   ]
  },
  {
   "cell_type": "code",
   "execution_count": 126,
   "id": "a06c189d",
   "metadata": {},
   "outputs": [
    {
     "data": {
      "text/html": [
       "<div>\n",
       "<style scoped>\n",
       "    .dataframe tbody tr th:only-of-type {\n",
       "        vertical-align: middle;\n",
       "    }\n",
       "\n",
       "    .dataframe tbody tr th {\n",
       "        vertical-align: top;\n",
       "    }\n",
       "\n",
       "    .dataframe thead th {\n",
       "        text-align: right;\n",
       "    }\n",
       "</style>\n",
       "<table border=\"1\" class=\"dataframe\">\n",
       "  <thead>\n",
       "    <tr style=\"text-align: right;\">\n",
       "      <th></th>\n",
       "      <th>RMSE</th>\n",
       "      <th>MAE</th>\n",
       "      <th>MAPE</th>\n",
       "    </tr>\n",
       "  </thead>\n",
       "  <tbody>\n",
       "    <tr>\n",
       "      <th>RandomForest</th>\n",
       "      <td>1789.336879</td>\n",
       "      <td>1093.504126</td>\n",
       "      <td>0.070724</td>\n",
       "    </tr>\n",
       "  </tbody>\n",
       "</table>\n",
       "</div>"
      ],
      "text/plain": [
       "                     RMSE          MAE      MAPE\n",
       "RandomForest  1789.336879  1093.504126  0.070724"
      ]
     },
     "execution_count": 126,
     "metadata": {},
     "output_type": "execute_result"
    }
   ],
   "source": [
    "# Setelah hyperparameter tuning\n",
    "score_after_tuning"
   ]
  },
  {
   "cell_type": "markdown",
   "id": "a0a735f6",
   "metadata": {},
   "source": [
    "Model mengalami peningkatan performa dengan dilakukannya hyperparameter tuning. "
   ]
  },
  {
   "cell_type": "code",
   "execution_count": 127,
   "id": "99e9e5a7",
   "metadata": {},
   "outputs": [
    {
     "data": {
      "image/png": "[encoded data removed]",
      "text/plain": [
       "<Figure size 1400x800 with 1 Axes>"
      ]
     },
     "metadata": {},
     "output_type": "display_data"
    }
   ],
   "source": [
    "plt.figure(figsize=(14, 8))\n",
    "y_pred_rf_tuning = rf_tuning.predict(X_test)\n",
    "residuals = y_test - y_pred_rf_tuning\n",
    "plot = sns.scatterplot(x=y_test, y=residuals).set(title='Residual Plot', \n",
    "                                                 xlabel='Actual Price', \n",
    "                                                 ylabel='Residuals')\n",
    "plt.axhline(y=0, color='red');"
   ]
  },
  {
   "cell_type": "markdown",
   "id": "21b5c462",
   "metadata": {},
   "source": [
    "Terdapat nilai-nilai error yang cukup besar tetapi jumlahnya sangat sedikit. Kebanyakan dari nilai-nilai mempunyai error/miss yang sedikit, membuat adanya perbedaan antara nilai RMSE dan MAE. Pada plot di atas, terdapat harga aktual yang rendah tapi diprediksi jauh lebih tinggi (overestimation), dan juga sebaliknya (underestimation). Akan tetapi, perbedaan harganya tidak sangat signifikan, banyak harga prediksi yang sudah mendekati harga aktualnya. Nilai MAPE yang didapat, yaitu sekitar ~7% menjadikan model ini dapat dikategorikan ke dalam 'highly accurate forecasting' (Lewis, 1982)."
   ]
  },
  {
   "cell_type": "markdown",
   "id": "8fbbc9d2",
   "metadata": {},
   "source": [
    "# Feature Importances"
   ]
  },
  {
   "cell_type": "markdown",
   "id": "f3db184a",
   "metadata": {},
   "source": [
    "Dikarenakan fitur-fitur numerikal pada dataset kami mengandung outlier yang tidak dapat dihapus, maka dari itu kami harus menggunakan robust scaler dalam transformasi yang mana menyebabkan kami tidak dapat menggunakan get_feature_names dalam project ini. Kami menganggap semua fitur yang ada pada dataset kami penting."
   ]
  },
  {
   "cell_type": "markdown",
   "id": "2e0d24d0",
   "metadata": {},
   "source": [
    "# Conclusion"
   ]
  },
  {
   "cell_type": "markdown",
   "id": "accaba40",
   "metadata": {},
   "source": [
    "Setelah melakukan proses analisis dan proses Machine Learning Model di atas, kami dapat menyimpulkan bahwa : \n",
    "\n",
    "- Mobil bekas yang paling banyak diperjual-belikan di Inggris berasal dari merek Ford, VW, dan Vauxhall dengan bahan bakar utama yang digunakan adalah petrol dan diesel.\n",
    "\n",
    "- Model mobil bekas yang paling banyak terjual adalah Ford Fiesta, VW Golf, dan Ford Focus.\n",
    "\n",
    "- Ada banyak outlier pada kolom year, price, mileage, tax, mpg, dan engineSize, namun setelah dilakukan analisis bisnis, kami tidak menghapus outlier tersebut karena mereka tidak berbahaya dan bisa menjadi informasi penting bagi analisis bisnis dan prediksi harga mobil.\n",
    "\n",
    "- Metrik evaluasi yang digunakan pada model adalah nilai RMSE, MAE, MAPE, & R2.\n",
    "\n",
    "- Kami menggunakan 8 algoritma untuk melakukan cross validation : LinearRegression, DecisionTreeRegressor, RandomForestRegressor, GradientBoostingRegressor, SVR, BayesianRidge, KNeighborsRegressor, dan XGBRegressor.  \n",
    "\n",
    "- Model yang dipilih adalah Random Forest Regressor dilihat dari hasil cross-val MAPE, dikarenakan mempunyai error yang paling kecil berupa ~7.40% sebelum tuning dan ~7.07% setelah tuning.\n",
    "\n",
    "- Jika ditinjau dari nilai MAPE yang dihasilkan oleh model setelah dilakukan hyperparameter tuning, yaitu sebesar ~7%, kita dapat menyimpulkan bahwa bila nanti model yang kita buat ini digunakan untuk memperkirakan harga penjualan mobil pada e-commerce dengan rentang nilai seperti yang dilatih terhadap model, maka harga optimalnya akan berkisar +-7% dari harga perkiraan yang didapat dari model.\n",
    "\n",
    "- Dari hasil residual plot juga dapat disimpulkan bahwa model machine learning yang kami buat termasuk ke dalam kategori 'highly accurate forecasting' (Lewis, 1982)\n",
    "\n",
    "- Ada limitasi pada model kami seperti, model tidak bisa melakukan prediksi apabila harga mobil di luar rentang 450 - 159.999 pound sterling, model yang saya buat juga hanya fokus pada kendaraan bermotor mobil, bentuk kendaraan lain seperti motor dan lain-lain tidak dapat diprediksi oleh model kami."
   ]
  },
  {
   "cell_type": "markdown",
   "id": "5fcc62f0",
   "metadata": {},
   "source": [
    "# Recommendation"
   ]
  },
  {
   "cell_type": "markdown",
   "id": "6f37f82b",
   "metadata": {},
   "source": [
    "Ada beberapa rekomendasi terkait data analisis yang telah dilakukan : \n",
    "\n",
    "1. Perusahaan e-commerce dapat memfokuskan iklan kepada orang-orang yang memiliki mobil dengan brand-brand seperti Ford, VW, dan Vauxhall dengan lebih spesifiknya orang yang memiliki mobil Ford dengan model Fiesta, Focus dan mobil VW dengan model Golf.\n",
    "<br><br>    \n",
    "2. Mengutamakan penjual dengan mobil bekas yang mempunyai transmisi manual dan berbahan bakar petrol, karena lebih banyak peminatnya dibanding transmisi lain.\n",
    "\n",
    "Ada beberapa rekomendasi yang dapat dilakukan untuk mengembangkan model agar lebih baik lagi, seperti :\n",
    "\n",
    "1. Melihat kembali data predict, data mana saja yang memiliki nilai error yang tinggi, lalu membandingkan feature-feature mana saja yang menyebabkan model menghasilkan error tersebut dan aspek apa yang menyebabkan model menghasilkan error yang tinggi, sehingga kita dapat melakukan training ulang dengan penerapan feature engineering lainnya.\n",
    "<br><br>    \n",
    "2. Menambahkan data atau mengimprovisasi data dapat membuat model menjadi lebih baik. Selain itu, kami juga merekomendasikan untuk terus mengumpulkan data mobil bekas yang lebih banyak dan berkualitas tinggi untuk meningkatkan akurasi dan ketepatan model machine learning.\n",
    "<br><br>   \n",
    "3. Menggunakan model Machine Learning yang berbeda."
   ]
  },
  {
   "cell_type": "markdown",
   "id": "afe487fa",
   "metadata": {},
   "source": [
    "# *Dampak penggunaan Machine Learning terhadap perusahaan*\n",
    "\n",
    "Penggunaan machine learning pada perusahaan platform jual-beli mobil bekas dapat memberikan dampak yang signifikan bagi perusahaan, calon penjual mobil bekas, dan calon pembeli mobil bekas.\n",
    "\n",
    "Pertama-tama, penggunaan machine learning dapat membantu perusahaan dalam meningkatkan efisiensi dan efektivitas operasionalnya. Dengan menggunakan model terbaik untuk memprediksi harga mobil bekas, perusahaan dapat memperoleh informasi yang lebih akurat dan cepat mengenai harga mobil bekas yang sesuai dengan kondisi mobil, tahun pembuatan, dan spesifikasi lainnya. Hal ini dapat membantu perusahaan dalam menentukan harga jual mobil bekas yang lebih tepat dan menarik bagi calon pembeli.\n",
    "\n",
    "Dampak kedua penggunaan machine learning adalah bagi calon penjual mobil bekas. Dengan adanya model machine learning yang dapat memprediksi harga mobil bekas dengan akurat, calon penjual mobil bekas dapat memperoleh informasi yang lebih jelas dan transparan mengenai harga yang seharusnya ditetapkan untuk mobilnya. Hal ini dapat membantu calon penjual dalam menetapkan harga jual yang lebih tepat dan mengoptimalkan keuntungan yang diperoleh dari penjualan mobil bekas.\n",
    "\n",
    "Dampak ketiga, dampak penggunaan machine learning juga dirasakan oleh calon pembeli mobil bekas. Dengan adanya informasi harga mobil bekas yang lebih akurat, calon pembeli dapat memperoleh keuntungan dari harga jual yang lebih adil dan tidak terlalu mahal. Selain itu, dengan adanya machine learning, calon pembeli juga dapat memperoleh informasi yang lebih akurat mengenai spesifikasi mobil dan kondisi mobil yang akan dibelinya, sehingga dapat membuat keputusan pembelian yang lebih tepat.\n",
    "\n",
    "Secara keseluruhan, penggunaan machine learning pada perusahaan platform jual-beli mobil bekas dapat memberikan dampak yang positif bagi semua pihak yang terlibat dalam transaksi jual-beli mobil bekas, yaitu perusahaan, calon penjual, dan calon pembeli.\n",
    "\n",
    "Sebelum menggunakan machine learning, perusahaan tidak dapat memprediksi harga mobil bekas yang akan dijual oleh penjual. Namun, setelah menggunakan machine learning, perusahaan dapat mengembangkan model prediksi harga yang akurat berdasarkan fitur-fitur mobil bekas seperti tahun produksi, kondisi, merek, model, dan jarak tempuh.\n",
    "\n",
    "Dengan model prediksi harga ini, perusahaan dapat memberikan rekomendasi harga yang paling sesuai dengan nilai pasar kepada penjual mobil bekas. Selain itu, calon pembeli mobil bekas juga akan mendapatkan harga yang wajar dan tidak terlalu tinggi.\n",
    "\n",
    "Penggunaan machine learning ini dapat memberikan dampak positif pada perusahaan karena dapat meningkatkan kepercayaan pelanggan terhadap platform mereka dan meningkatkan transaksi penjualan mobil bekas di platform tersebut. Selain itu, perusahaan juga dapat mengoptimalkan keuntungan mereka dengan memberikan rekomendasi harga yang akurat kepada penjual dan pembeli.\n",
    "\n",
    "Contoh perhitungan dampak penggunaan machine learning pada perusahaan:\n",
    "\n",
    "Sebelum menggunakan machine learning:\n",
    "\n",
    "Jumlah pengunjung platform: 1000\n",
    "\n",
    "Tingkat konversi penjualan: 5%\n",
    "\n",
    "Pendapatan per penjualan rata-rata: 8.000 pound\n",
    "\n",
    "Pendapatan total: 1000 x 5% x 8.000 pound = 40.000 pound\n",
    "\n",
    "Setelah menggunakan machine learning:\n",
    "\n",
    "Jumlah pengunjung platform: 1000\n",
    "\n",
    "Tingkat konversi penjualan: 7%\n",
    "\n",
    "Pendapatan per penjualan rata-rata: 8.000 pound\n",
    "\n",
    "Pendapatan total: 1000 x 7% x 8.000 pound = 56.000 pound\n",
    "\n",
    "Dengan menggunakan machine learning, pendapatan perusahaan dapat meningkat sebesar 16.000 pound atau sebesar 40%.\n",
    "\n",
    "Selain itu, dengan menggunakan model prediksi harga, perusahaan dapat mengoptimalkan keuntungan mereka dengan mengenakan biaya jasa sebesar 1% dari harga jual kepada setiap transaksi yang berhasil. Misalnya, jika harga mobil yang dijual adalah 10.000 pound, maka perusahaan akan menerima biaya jasa sebesar 100 pound dari penjual dan 100 pound dari pembeli, sehingga total biaya jasa yang diperoleh adalah 200 pound. "
   ]
  },
  {
   "cell_type": "markdown",
   "id": "63f9393a",
   "metadata": {},
   "source": [
    "# Save Model"
   ]
  },
  {
   "cell_type": "markdown",
   "id": "1d5d8360",
   "metadata": {},
   "source": [
    "**Import Pickle, Save & Load ML**"
   ]
  },
  {
   "cell_type": "code",
   "execution_count": 128,
   "id": "44b5e91c",
   "metadata": {},
   "outputs": [],
   "source": [
    "# Import library\n",
    "import _pickle as pickle\n",
    "\n",
    "# Save model\n",
    "estimator = Pipeline([\n",
    "        ('preprocessing', transformer), ('model', RandomForestRegressor())])\n",
    "estimator.fit(X_train,y_train)\n",
    "\n",
    "pickle.dump(estimator, open('finpro.sav', 'wb'))\n",
    "\n",
    "# Load model\n",
    "pickle_final_project = 'finpro.sav'\n",
    "\n",
    "loaded_model = pickle.load(open(pickle_final_project, 'rb'))"
   ]
  },
  {
   "cell_type": "markdown",
   "id": "233b04c3",
   "metadata": {},
   "source": [
    "# **THANK YOU**"
   ]
  }
 ],
 "metadata": {
  "colab": {
   "provenance": []
  },
  "hide_input": false,
  "kernelspec": {
   "display_name": "Python 3 (ipykernel)",
   "language": "python",
   "name": "python3"
  },
  "language_info": {
   "codemirror_mode": {
    "name": "ipython",
    "version": 3
   },
   "file_extension": ".py",
   "mimetype": "text/x-python",
   "name": "python",
   "nbconvert_exporter": "python",
   "pygments_lexer": "ipython3",
   "version": "3.9.13"
  },
  "toc": {
   "base_numbering": 1,
   "nav_menu": {},
   "number_sections": true,
   "sideBar": true,
   "skip_h1_title": false,
   "title_cell": "Table of Contents",
   "title_sidebar": "Contents",
   "toc_cell": false,
   "toc_position": {
    "height": "calc(100% - 180px)",
    "left": "10px",
    "top": "150px",
    "width": "237px"
   },
   "toc_section_display": true,
   "toc_window_display": true
  },
  "toc-autonumbering": false,
  "toc-showcode": true,
  "toc-showmarkdowntxt": true,
  "vscode": {
   "interpreter": {
    "hash": "a077222d77dfe082b8f1dd562ad70e458ac2ab76993a0b248ab0476e32e9e8dd"
   }
  }
 },
 "nbformat": 4,
 "nbformat_minor": 5
}
